{
 "cells": [
  {
   "cell_type": "code",
   "execution_count": 1,
   "id": "20b4f81d-ede8-41f8-bcd1-a03cd5851665",
   "metadata": {},
   "outputs": [],
   "source": [
    "import warnings\n",
    "warnings.simplefilter(action='ignore', category=FutureWarning)"
   ]
  },
  {
   "cell_type": "code",
   "execution_count": 21,
   "id": "ccea1fca-4709-4a8d-9792-22bb4d161928",
   "metadata": {},
   "outputs": [],
   "source": [
    "# Standard python libraries\n",
    "import os\n",
    "import requests\n",
    "\n",
    "# Essential DS libraries\n",
    "import numpy as np\n",
    "import pandas as pd\n",
    "from sklearn.metrics import roc_auc_score\n",
    "from sklearn.model_selection import train_test_split\n",
    "from sklearn.preprocessing import LabelEncoder\n",
    "from catboost import CatBoostClassifier\n",
    "from sklearn.metrics import classification_report, roc_curve, RocCurveDisplay, auc, precision_score, roc_auc_score, accuracy_score, f1_score\n",
    "from sklearn.impute import SimpleImputer\n",
    "\n",
    "import matplotlib.pyplot as plt\n",
    "import seaborn as sns\n",
    "\n",
    "# Experiments block\n",
    "import wandb\n",
    "\n",
    "\n",
    "pd.set_option('display.max_columns', None)"
   ]
  },
  {
   "cell_type": "code",
   "execution_count": 3,
   "id": "b25db8d6-17d0-4a9f-9600-5e81de39d357",
   "metadata": {},
   "outputs": [],
   "source": [
    "# Подготовим инфраструктуру для версионирования экспериментов\n",
    "project_name = \"Makarov_mfdp_unit_5\"\n",
    "exp_name = \"exp_\"\n",
    "config = []"
   ]
  },
  {
   "cell_type": "markdown",
   "id": "be21241a-630c-4e89-8b58-22f244bf53fb",
   "metadata": {},
   "source": [
    "## Эксперимент 4 Стэкинг\n",
    "Идея описана в соответствующей статье - https://alexanderdyakonov.wordpress.com/2017/03/10/c%D1%82%D0%B5%D0%BA%D0%B8%D0%BD%D0%B3-stacking-%D0%B8-%D0%B1%D0%BB%D0%B5%D0%BD%D0%B4%D0%B8%D0%BD%D0%B3-blending/\n",
    "\n",
    "Мы загружаем N алгоритмов и по результатам их работы прогоняем метаалгоритм, выдающий решение задачи. Реализация на лучшем фича селекшене:\n",
    "1. включая кросс валидацию и без неё (4.1)\n",
    "2. последовательный прогон нескольких блэндингов (4.2)\n",
    "\n",
    "Подробное описание реализации - https://github.com/Dyakonov/ml_hacks/blob/master/dj_stacking.ipynb"
   ]
  },
  {
   "cell_type": "code",
   "execution_count": 17,
   "id": "8163ad57-b398-44b3-8e60-578b968b570a",
   "metadata": {},
   "outputs": [],
   "source": [
    "outliers_data_x = pd.read_csv(\"2_best_features_permutation.csv\")\n",
    "outliers_data_y = pd.read_csv(\"1_outliers_raw_data\")[\"TARGET\"]"
   ]
  },
  {
   "cell_type": "code",
   "execution_count": 6,
   "id": "d37111c4-c374-4b9d-aa97-c872af182199",
   "metadata": {},
   "outputs": [],
   "source": [
    "# Возьмём пример стэкинга из статьи. Применять будем на отобранных фичах\n",
    "from sklearn.base import BaseEstimator, ClassifierMixin\n",
    "from sklearn.model_selection import cross_val_predict\n",
    "\n",
    "class DjStacking(BaseEstimator, ClassifierMixin):  \n",
    "    \"\"\"Стэкинг моделей scikit-learn\"\"\"\n",
    "\n",
    "    def __init__(self, models, ens_model):\n",
    "        \"\"\"\n",
    "        Инициализация\n",
    "        models - базовые модели для стекинга\n",
    "        ens_model - мета-модель\n",
    "        \"\"\"\n",
    "        self.models = models\n",
    "        self.ens_model = ens_model\n",
    "        self.n = len(models)\n",
    "        self.valid = None\n",
    "        \n",
    "    def fit(self, X, y=None, p=0.25, cv=3, err=0.001, random_state=None):\n",
    "        \"\"\"\n",
    "        Обучение стекинга\n",
    "        p - в каком отношении делить на обучение / тест\n",
    "            если p = 0 - используем всё обучение!\n",
    "        cv  (при p=0) - сколько фолдов использовать\n",
    "        err (при p=0) - величина случайной добавки к метапризнакам\n",
    "        random_state - инициализация генератора\n",
    "            \n",
    "        \"\"\"\n",
    "        if (p > 0): # делим на обучение и тест\n",
    "            # разбиение на обучение моделей и метамодели\n",
    "            train, valid, y_train, y_valid = train_test_split(X, y, test_size=p, random_state=random_state)\n",
    "            \n",
    "            # заполнение матрицы для обучения метамодели\n",
    "            self.valid = np.zeros((valid.shape[0], self.n))\n",
    "            for t, clf in enumerate(self.models):\n",
    "                clf.fit(train, y_train)\n",
    "                self.valid[:, t] = clf.predict(valid)\n",
    "                \n",
    "            # обучение метамодели\n",
    "            self.ens_model.fit(self.valid, y_valid)\n",
    "            \n",
    "        else: # используем всё обучение\n",
    "            \n",
    "            # для регуляризации - берём случайные добавки\n",
    "            self.valid = err*np.random.randn(X.shape[0], self.n)\n",
    "            \n",
    "            for t, clf in enumerate(self.models):\n",
    "                # это oob-ответы алгоритмов\n",
    "                self.valid[:, t] += cross_val_predict(clf, X, y, cv=cv, n_jobs=-1, method='predict')\n",
    "                # но сам алгоритм надо настроить\n",
    "                clf.fit(X, y)\n",
    "            \n",
    "            # обучение метамодели\n",
    "            self.ens_model.fit(self.valid, y)  \n",
    "            \n",
    "\n",
    "        return self\n",
    "    \n",
    "\n",
    "\n",
    "    def predict(self, X, y=None):\n",
    "        \"\"\"\n",
    "        Работа стэкинга\n",
    "        \"\"\"\n",
    "        # заполение матрицы для мета-классификатора\n",
    "        X_meta = np.zeros((X.shape[0], self.n))\n",
    "        \n",
    "        for t, clf in enumerate(self.models):\n",
    "            X_meta[:, t] = clf.predict(X)\n",
    "        \n",
    "        a = self.ens_model.predict(X_meta)\n",
    "        \n",
    "        return (a)"
   ]
  },
  {
   "cell_type": "code",
   "execution_count": 7,
   "id": "34e9c563-882c-4bbe-a5fd-58929ef70be0",
   "metadata": {},
   "outputs": [],
   "source": [
    "# Мы не можем отрисовать пространство в 32 фичи, потому оставим от функции лишь предсказание ROC_AUC\n",
    "\n",
    "def run_and_plot(clf, X, y, label):\n",
    "    a = clf.predict(X)\n",
    "    print (label + ' AUC-ROC  = ' + str( roc_auc_score(y, a) ))"
   ]
  },
  {
   "cell_type": "code",
   "execution_count": 22,
   "id": "719c556b-2d7d-4455-9e0b-00f61eb5f37a",
   "metadata": {},
   "outputs": [],
   "source": [
    "# Классификационные данные\n",
    "X = outliers_data_x\n",
    "\n",
    "imp_mean = SimpleImputer(missing_values=np.nan, strategy='median')\n",
    "X_ = pd.DataFrame(imp_mean.fit_transform(X))\n",
    "X_.columns = X.columns\n",
    "X_ = X_.astype(X.dtypes.to_dict())\n",
    "\n",
    "y = outliers_data_y\n",
    "\n",
    "train_X, test_X, train_y, test_y = train_test_split(X_, y, train_size=0.8, random_state=42)"
   ]
  },
  {
   "cell_type": "code",
   "execution_count": 24,
   "id": "4ebeb2b8-c23c-410f-8620-ca95406c62e8",
   "metadata": {},
   "outputs": [
    {
     "name": "stdout",
     "output_type": "stream",
     "text": [
      "3NN AUC-ROC  = 0.5244997578692494\n",
      "10NN AUC-ROC  = 0.5370755447941888\n",
      "ridge-0.01 AUC-ROC  = 0.7551186440677966\n",
      "ridge-1.1 AUC-ROC  = 0.7551351089588376\n",
      "ridge-100.1 AUC-ROC  = 0.7520648910411623\n",
      "rf-d1 AUC-ROC  = 0.6657554479418888\n",
      "rf-d5 AUC-ROC  = 0.7783714285714285\n",
      "gbm-d2 AUC-ROC  = 0.8455186440677966\n",
      "gbm-d5 AUC-ROC  = 0.8486479418886197\n"
     ]
    }
   ],
   "source": [
    "import lightgbm as lgb\n",
    "from sklearn.metrics import roc_auc_score\n",
    "from sklearn.neighbors import KNeighborsRegressor\n",
    "from sklearn.linear_model import Ridge\n",
    "from sklearn.ensemble import RandomForestRegressor\n",
    "\n",
    "# Чтобы не попадать на ошибку lightGBM, нужно сменить имена переменных\n",
    "import re\n",
    "train_X = train_X.rename(columns = lambda x:re.sub('[^A-Za-z0-9_]+', '', x))\n",
    "test_X = test_X.rename(columns = lambda x:re.sub('[^A-Za-z0-9_]+', '', x))\n",
    "\n",
    "knn1 = KNeighborsRegressor(n_neighbors=3)\n",
    "knn1.fit(train_X, train_y)\n",
    "run_and_plot(knn1, test_X, test_y, '3NN')\n",
    "\n",
    "knn2 = KNeighborsRegressor(n_neighbors=10)\n",
    "knn2.fit(train_X, train_y)\n",
    "run_and_plot(knn2, test_X, test_y, '10NN')\n",
    "\n",
    "\n",
    "rg0 = Ridge(alpha=0.01)\n",
    "rg0.fit(train_X, train_y)\n",
    "run_and_plot(rg0, test_X, test_y, 'ridge-0.01')\n",
    "\n",
    "rg1 = Ridge(alpha=1.1)\n",
    "rg1.fit(train_X, train_y)\n",
    "run_and_plot(rg1, test_X, test_y, 'ridge-1.1')\n",
    "\n",
    "rg2 = Ridge(alpha=100.1)\n",
    "rg2.fit(train_X, train_y)\n",
    "run_and_plot(rg2, test_X, test_y, 'ridge-100.1')\n",
    "\n",
    "\n",
    "rf1 = RandomForestRegressor(n_estimators=100, max_depth=1)\n",
    "rf1.fit(train_X, train_y)\n",
    "run_and_plot(rf1, test_X, test_y, 'rf-d1')\n",
    "\n",
    "rf2 = RandomForestRegressor(n_estimators=100, max_depth=5)\n",
    "rf2.fit(train_X, train_y)\n",
    "run_and_plot(rf2, test_X, test_y, 'rf-d5')\n",
    "\n",
    "gbm1 = lgb.LGBMRegressor(boosting_type='gbdt', learning_rate=0.05, max_depth=2, n_estimators=200, objective='regression', class_weight='balanced')    \n",
    "gbm1.fit(train_X, train_y)\n",
    "run_and_plot(gbm1, test_X, test_y, 'gbm-d2')\n",
    "\n",
    "gbm2 = lgb.LGBMRegressor(boosting_type='gbdt', learning_rate=0.05, max_depth=5, n_estimators=200, objective='regression', class_weight='balanced')    \n",
    "gbm2.fit(train_X, train_y)\n",
    "run_and_plot(gbm2, test_X, test_y, 'gbm-d5')"
   ]
  },
  {
   "cell_type": "code",
   "execution_count": 25,
   "id": "3a9caf07-c20f-4f58-85cb-16f784a2dfa4",
   "metadata": {},
   "outputs": [
    {
     "name": "stdout",
     "output_type": "stream",
     "text": [
      "1-stacking AUC-ROC  = 0.8452949152542373\n",
      "2-stacking AUC-ROC  = 0.8431622276029055\n"
     ]
    }
   ],
   "source": [
    "# Запуск блэндинга и стеккинга\n",
    "models = [knn1, knn2,rg1, rg2, rf1, rf2, gbm1, gbm2] # , rf3\n",
    "ens_model = Ridge()\n",
    "s1 = DjStacking(models, ens_model)\n",
    "s1.fit(train_X, train_y)\n",
    "run_and_plot(s1, test_X, test_y, '1-stacking')\n",
    "\n",
    "\n",
    "s2 = DjStacking(models, ens_model)\n",
    "s2.fit(train_X, train_y, p=-1)\n",
    "run_and_plot(s1, test_X, test_y, '2-stacking')"
   ]
  },
  {
   "cell_type": "code",
   "execution_count": 26,
   "id": "913c91bd-84b2-4d35-b60d-f8b92362058e",
   "metadata": {},
   "outputs": [
    {
     "name": "stdout",
     "output_type": "stream",
     "text": [
      "0.8313249394673123\n",
      "0.8400058111380145\n",
      "0.8428590799031477\n",
      "0.8439661016949154\n",
      "0.8493220338983051\n",
      "0.8505772397094431\n",
      "0.8496900726392252\n",
      "0.8487748184019371\n",
      "0.8484164648910412\n",
      "0.8485142857142858\n"
     ]
    }
   ],
   "source": [
    "# несколько блэндингов подряд\n",
    "ens_model = Ridge(0.001)\n",
    "s1 = DjStacking(models, ens_model)\n",
    "a = 0\n",
    "e = []\n",
    "for t in range(10):\n",
    "    s1.fit(train_X, train_y, p=0.4)\n",
    "    a += s1.predict(test_X, train_y)\n",
    "    \n",
    "    auc = roc_auc_score(test_y, a)\n",
    "    print (auc)\n",
    "    e.append(auc)"
   ]
  },
  {
   "cell_type": "code",
   "execution_count": 27,
   "id": "65bca4be-fe8e-472f-9cc6-1659fc60248b",
   "metadata": {},
   "outputs": [
    {
     "name": "stdout",
     "output_type": "stream",
     "text": [
      "0.8446769975786925\n",
      "0.8447292978208234\n",
      "0.8413414043583536\n",
      "0.8406886198547217\n",
      "0.8391970944309927\n",
      "0.8432154963680387\n",
      "0.8425995157384989\n",
      "0.8423467312348668\n",
      "0.8424542372881356\n"
     ]
    }
   ],
   "source": [
    "# кросс валидация на разных фолдах\n",
    "\n",
    "ens_model = Ridge(0.001)\n",
    "\n",
    "s1 = DjStacking(models, ens_model)\n",
    "a = 0\n",
    "e = []\n",
    "for t in range(2, 11):\n",
    "    s1.fit(train_X, train_y, p=-1, cv=t, err=0.00)\n",
    "    a = s1.predict(test_X, train_y)\n",
    "    auc = roc_auc_score(test_y, a)\n",
    "    print (auc)\n",
    "    e.append(auc)"
   ]
  },
  {
   "cell_type": "code",
   "execution_count": 28,
   "id": "b3f81db0-aca0-461a-a6c5-9f66377fd9e7",
   "metadata": {},
   "outputs": [
    {
     "data": {
      "text/plain": [
       "array([[ 0.91957996,  0.08042004],\n",
       "       [ 0.94826699,  0.05173301],\n",
       "       [ 0.87873405,  0.12126595],\n",
       "       ...,\n",
       "       [ 0.79187181,  0.20812819],\n",
       "       [ 1.00752206, -0.00752206],\n",
       "       [ 0.95838414,  0.04161586]])"
      ]
     },
     "execution_count": 28,
     "metadata": {},
     "output_type": "execute_result"
    }
   ],
   "source": [
    "arr1 = 1-s1.predict(test_X)\n",
    "arr2 = s1.predict(test_X)\n",
    "probas_for_roc_auc = np.stack((arr1, arr2), axis=1)\n",
    "probas_for_roc_auc"
   ]
  },
  {
   "cell_type": "code",
   "execution_count": 29,
   "id": "68869b39-c48d-47af-9ea6-86c694d32727",
   "metadata": {},
   "outputs": [
    {
     "name": "stderr",
     "output_type": "stream",
     "text": [
      "\u001b[34m\u001b[1mwandb\u001b[0m: Currently logged in as: \u001b[33mqeshtir\u001b[0m (\u001b[33mqesh-squad\u001b[0m). Use \u001b[1m`wandb login --relogin`\u001b[0m to force relogin\n"
     ]
    },
    {
     "data": {
      "text/html": [
       "wandb version 0.17.4 is available!  To upgrade, please run:\n",
       " $ pip install wandb --upgrade"
      ],
      "text/plain": [
       "<IPython.core.display.HTML object>"
      ]
     },
     "metadata": {},
     "output_type": "display_data"
    },
    {
     "data": {
      "text/html": [
       "Tracking run with wandb version 0.16.5"
      ],
      "text/plain": [
       "<IPython.core.display.HTML object>"
      ]
     },
     "metadata": {},
     "output_type": "display_data"
    },
    {
     "data": {
      "text/html": [
       "Run data is saved locally in <code>C:\\Users\\realn\\PycharmProjects\\ML_training_course\\07_ITMO_FC\\EDA\\wandb\\run-20240708_143153-hr1usbmi</code>"
      ],
      "text/plain": [
       "<IPython.core.display.HTML object>"
      ]
     },
     "metadata": {},
     "output_type": "display_data"
    },
    {
     "data": {
      "text/html": [
       "Syncing run <strong><a href='https://wandb.ai/qesh-squad/Makarov_mfdp_unit_5/runs/hr1usbmi/workspace' target=\"_blank\">exp_4_stacking_regressors</a></strong> to <a href='https://wandb.ai/qesh-squad/Makarov_mfdp_unit_5' target=\"_blank\">Weights & Biases</a> (<a href='https://wandb.me/run' target=\"_blank\">docs</a>)<br/>"
      ],
      "text/plain": [
       "<IPython.core.display.HTML object>"
      ]
     },
     "metadata": {},
     "output_type": "display_data"
    },
    {
     "data": {
      "text/html": [
       " View project at <a href='https://wandb.ai/qesh-squad/Makarov_mfdp_unit_5' target=\"_blank\">https://wandb.ai/qesh-squad/Makarov_mfdp_unit_5</a>"
      ],
      "text/plain": [
       "<IPython.core.display.HTML object>"
      ]
     },
     "metadata": {},
     "output_type": "display_data"
    },
    {
     "data": {
      "text/html": [
       " View run at <a href='https://wandb.ai/qesh-squad/Makarov_mfdp_unit_5/runs/hr1usbmi/workspace' target=\"_blank\">https://wandb.ai/qesh-squad/Makarov_mfdp_unit_5/runs/hr1usbmi/workspace</a>"
      ],
      "text/plain": [
       "<IPython.core.display.HTML object>"
      ]
     },
     "metadata": {},
     "output_type": "display_data"
    },
    {
     "name": "stderr",
     "output_type": "stream",
     "text": [
      "\u001b[34m\u001b[1mwandb\u001b[0m: \u001b[33mWARNING\u001b[0m wandb.plots.* functions are deprecated and will be removed in a future release. Please use wandb.plot.* instead.\n"
     ]
    },
    {
     "data": {
      "application/vnd.jupyter.widget-view+json": {
       "model_id": "",
       "version_major": 2,
       "version_minor": 0
      },
      "text/plain": [
       "VBox(children=(Label(value='0.030 MB of 0.030 MB uploaded\\r'), FloatProgress(value=1.0, max=1.0)))"
      ]
     },
     "metadata": {},
     "output_type": "display_data"
    },
    {
     "data": {
      "text/html": [
       "<style>\n",
       "    table.wandb td:nth-child(1) { padding: 0 10px; text-align: left ; width: auto;} td:nth-child(2) {text-align: left ; width: 100%}\n",
       "    .wandb-row { display: flex; flex-direction: row; flex-wrap: wrap; justify-content: flex-start; width: 100% }\n",
       "    .wandb-col { display: flex; flex-direction: column; flex-basis: 100%; flex: 1; padding: 10px; }\n",
       "    </style>\n",
       "<div class=\"wandb-row\"><div class=\"wandb-col\"><h3>Run history:</h3><br/><table class=\"wandb\"><tr><td>accuracy_score</td><td>▁</td></tr><tr><td>f1_score_weighted</td><td>▁</td></tr><tr><td>gini</td><td>▁</td></tr><tr><td>precision_weighted</td><td>▁</td></tr><tr><td>roc_auc_score</td><td>▁</td></tr></table><br/></div><div class=\"wandb-col\"><h3>Run summary:</h3><br/><table class=\"wandb\"><tr><td>accuracy_score</td><td>0.94429</td></tr><tr><td>f1_score_weighted</td><td>0.91854</td></tr><tr><td>gini</td><td>0.68491</td></tr><tr><td>precision_weighted</td><td>0.9474</td></tr><tr><td>roc_auc_score</td><td>0.84245</td></tr></table><br/></div></div>"
      ],
      "text/plain": [
       "<IPython.core.display.HTML object>"
      ]
     },
     "metadata": {},
     "output_type": "display_data"
    },
    {
     "data": {
      "text/html": [
       " View run <strong style=\"color:#cdcd00\">exp_4_stacking_regressors</strong> at: <a href='https://wandb.ai/qesh-squad/Makarov_mfdp_unit_5/runs/hr1usbmi/workspace' target=\"_blank\">https://wandb.ai/qesh-squad/Makarov_mfdp_unit_5/runs/hr1usbmi/workspace</a><br/>Synced 5 W&B file(s), 1 media file(s), 3 artifact file(s) and 0 other file(s)"
      ],
      "text/plain": [
       "<IPython.core.display.HTML object>"
      ]
     },
     "metadata": {},
     "output_type": "display_data"
    },
    {
     "data": {
      "text/html": [
       "Find logs at: <code>.\\wandb\\run-20240708_143153-hr1usbmi\\logs</code>"
      ],
      "text/plain": [
       "<IPython.core.display.HTML object>"
      ]
     },
     "metadata": {},
     "output_type": "display_data"
    }
   ],
   "source": [
    "y_pred = s1.predict(test_X)\n",
    "\n",
    "wandb.init(\n",
    "        project=project_name, name=exp_name+\"4\"+\"_stacking_regressors\"\n",
    "    )  # Инициализация эксперимента, project - название проекта\n",
    "wandb.log(\n",
    "    {\n",
    "        \"accuracy_score\": accuracy_score(y_true=test_y, y_pred=y_pred.round()),\n",
    "        \"f1_score_weighted\": f1_score(y_true=test_y, y_pred=y_pred.round(), average=\"weighted\"),\n",
    "        \"precision_weighted\": precision_score(y_true=test_y, y_pred=y_pred.round(), average=\"weighted\"),\n",
    "        \"roc_auc_score\": roc_auc_score(y_true=test_y, y_score=y_pred, average=\"weighted\"),\n",
    "        \"gini\": 2 * roc_auc_score(y_true=test_y, y_score=y_pred, average=\"weighted\") - 1\n",
    "    }\n",
    ")\n",
    "wandb.sklearn.plot_roc(y_true = test_y, y_probas = probas_for_roc_auc)\n",
    "#wandb.sklearn.plot_class_proportions(y_train, y_test)\n",
    "wandb.finish()"
   ]
  },
  {
   "cell_type": "markdown",
   "id": "a8ec4dc9-b2c4-4e9c-8c63-4ba7e0a48250",
   "metadata": {},
   "source": [
    "### Предыдущий запуск был произведён на различного рода регрессорах. Попробуем собрать такой же стекинг, но на классификаторах"
   ]
  },
  {
   "cell_type": "code",
   "execution_count": 30,
   "id": "cc39d863-94d2-408e-88bb-1813ec470a09",
   "metadata": {},
   "outputs": [],
   "source": [
    "from sklearn.ensemble import RandomForestClassifier\n",
    "from sklearn.linear_model import LogisticRegressionCV\n",
    "from sklearn.neighbors import KNeighborsClassifier\n",
    "from sklearn.svm import SVC\n",
    "from sklearn.neural_network import MLPClassifier\n",
    "from sklearn.preprocessing import StandardScaler\n",
    "from sklearn.pipeline import make_pipeline\n",
    "from sklearn.ensemble import StackingClassifier"
   ]
  },
  {
   "cell_type": "code",
   "execution_count": 31,
   "id": "d39b1a8c-3f15-4b58-968e-69f85321edd7",
   "metadata": {},
   "outputs": [],
   "source": [
    "estimators = [\n",
    "    ('knn5', make_pipeline(StandardScaler(), \n",
    "                          KNeighborsClassifier(n_neighbors=5))),\n",
    "    ('svc', make_pipeline(StandardScaler(), \n",
    "                          SVC(class_weight=\"balanced\", \n",
    "                              probability=True, \n",
    "                              random_state=42))),\n",
    "    ('rf', RandomForestClassifier(n_estimators=500, \n",
    "                                  max_depth=10, \n",
    "                                  min_samples_leaf=0.005, \n",
    "                                  class_weight=\"balanced\", \n",
    "                                  random_state=42)),\n",
    "    ('gbm', lgb.LGBMClassifier(boosting_type='gbdt', \n",
    "                                 learning_rate=0.05, \n",
    "                                 max_depth=10, \n",
    "                                 n_estimators=500,\n",
    "                                 objective='binary', \n",
    "                                 class_weight='balanced',\n",
    "                                 metric='auc',\n",
    "                                 random_state=42)),\n",
    "    ('mlp', MLPClassifier(hidden_layer_sizes=1000, \n",
    "                          alpha=0.1, \n",
    "                          random_state=42)),\n",
    "\n",
    "]\n",
    "\n",
    "clf = StackingClassifier(\n",
    "\n",
    "    estimators=estimators, final_estimator=LogisticRegressionCV(class_weight=\"balanced\"), cv=5, stack_method='predict_proba'\n",
    "\n",
    ")"
   ]
  },
  {
   "cell_type": "code",
   "execution_count": 32,
   "id": "886ee3a1-0896-41f2-bf30-f73c2aa5b76b",
   "metadata": {},
   "outputs": [
    {
     "data": {
      "text/plain": [
       "0.8666666666666667"
      ]
     },
     "execution_count": 32,
     "metadata": {},
     "output_type": "execute_result"
    }
   ],
   "source": [
    "clf.fit(train_X, train_y).score(test_X, test_y)"
   ]
  },
  {
   "cell_type": "code",
   "execution_count": 33,
   "id": "560cc87c-6c38-4f07-ace6-9c7c08cffbd0",
   "metadata": {},
   "outputs": [
    {
     "name": "stdout",
     "output_type": "stream",
     "text": [
      "0.7601937046004843\n",
      "              precision    recall  f1-score   support\n",
      "\n",
      "           0       0.98      0.88      0.93      4130\n",
      "           1       0.24      0.64      0.35       250\n",
      "\n",
      "    accuracy                           0.87      4380\n",
      "   macro avg       0.61      0.76      0.64      4380\n",
      "weighted avg       0.93      0.87      0.89      4380\n",
      "\n"
     ]
    }
   ],
   "source": [
    "print(roc_auc_score(test_y, clf.predict(test_X)))\n",
    "print(classification_report(test_y, clf.predict(test_X)))"
   ]
  },
  {
   "cell_type": "code",
   "execution_count": 34,
   "id": "4e72fbc2-c6da-448d-9700-97b143ba4c1d",
   "metadata": {},
   "outputs": [
    {
     "data": {
      "text/html": [
       "wandb version 0.17.4 is available!  To upgrade, please run:\n",
       " $ pip install wandb --upgrade"
      ],
      "text/plain": [
       "<IPython.core.display.HTML object>"
      ]
     },
     "metadata": {},
     "output_type": "display_data"
    },
    {
     "data": {
      "text/html": [
       "Tracking run with wandb version 0.16.5"
      ],
      "text/plain": [
       "<IPython.core.display.HTML object>"
      ]
     },
     "metadata": {},
     "output_type": "display_data"
    },
    {
     "data": {
      "text/html": [
       "Run data is saved locally in <code>C:\\Users\\realn\\PycharmProjects\\ML_training_course\\07_ITMO_FC\\EDA\\wandb\\run-20240708_150139-5m7rsvh1</code>"
      ],
      "text/plain": [
       "<IPython.core.display.HTML object>"
      ]
     },
     "metadata": {},
     "output_type": "display_data"
    },
    {
     "data": {
      "text/html": [
       "Syncing run <strong><a href='https://wandb.ai/qesh-squad/Makarov_mfdp_unit_5/runs/5m7rsvh1/workspace' target=\"_blank\">exp_4.1_stacking_classifiers_mlp_knn</a></strong> to <a href='https://wandb.ai/qesh-squad/Makarov_mfdp_unit_5' target=\"_blank\">Weights & Biases</a> (<a href='https://wandb.me/run' target=\"_blank\">docs</a>)<br/>"
      ],
      "text/plain": [
       "<IPython.core.display.HTML object>"
      ]
     },
     "metadata": {},
     "output_type": "display_data"
    },
    {
     "data": {
      "text/html": [
       " View project at <a href='https://wandb.ai/qesh-squad/Makarov_mfdp_unit_5' target=\"_blank\">https://wandb.ai/qesh-squad/Makarov_mfdp_unit_5</a>"
      ],
      "text/plain": [
       "<IPython.core.display.HTML object>"
      ]
     },
     "metadata": {},
     "output_type": "display_data"
    },
    {
     "data": {
      "text/html": [
       " View run at <a href='https://wandb.ai/qesh-squad/Makarov_mfdp_unit_5/runs/5m7rsvh1/workspace' target=\"_blank\">https://wandb.ai/qesh-squad/Makarov_mfdp_unit_5/runs/5m7rsvh1/workspace</a>"
      ],
      "text/plain": [
       "<IPython.core.display.HTML object>"
      ]
     },
     "metadata": {},
     "output_type": "display_data"
    },
    {
     "data": {
      "application/vnd.jupyter.widget-view+json": {
       "model_id": "",
       "version_major": 2,
       "version_minor": 0
      },
      "text/plain": [
       "VBox(children=(Label(value='0.029 MB of 0.029 MB uploaded\\r'), FloatProgress(value=1.0, max=1.0)))"
      ]
     },
     "metadata": {},
     "output_type": "display_data"
    },
    {
     "data": {
      "text/html": [
       "<style>\n",
       "    table.wandb td:nth-child(1) { padding: 0 10px; text-align: left ; width: auto;} td:nth-child(2) {text-align: left ; width: 100%}\n",
       "    .wandb-row { display: flex; flex-direction: row; flex-wrap: wrap; justify-content: flex-start; width: 100% }\n",
       "    .wandb-col { display: flex; flex-direction: column; flex-basis: 100%; flex: 1; padding: 10px; }\n",
       "    </style>\n",
       "<div class=\"wandb-row\"><div class=\"wandb-col\"><h3>Run history:</h3><br/><table class=\"wandb\"><tr><td>accuracy_score</td><td>▁</td></tr><tr><td>f1_score_weighted</td><td>▁</td></tr><tr><td>gini</td><td>▁</td></tr><tr><td>precision_weighted</td><td>▁</td></tr><tr><td>roc_auc_score</td><td>▁</td></tr></table><br/></div><div class=\"wandb-col\"><h3>Run summary:</h3><br/><table class=\"wandb\"><tr><td>accuracy_score</td><td>0.86667</td></tr><tr><td>f1_score_weighted</td><td>0.89303</td></tr><tr><td>gini</td><td>0.52039</td></tr><tr><td>precision_weighted</td><td>0.93411</td></tr><tr><td>roc_auc_score</td><td>0.76019</td></tr></table><br/></div></div>"
      ],
      "text/plain": [
       "<IPython.core.display.HTML object>"
      ]
     },
     "metadata": {},
     "output_type": "display_data"
    },
    {
     "data": {
      "text/html": [
       " View run <strong style=\"color:#cdcd00\">exp_4.1_stacking_classifiers_mlp_knn</strong> at: <a href='https://wandb.ai/qesh-squad/Makarov_mfdp_unit_5/runs/5m7rsvh1/workspace' target=\"_blank\">https://wandb.ai/qesh-squad/Makarov_mfdp_unit_5/runs/5m7rsvh1/workspace</a><br/>Synced 4 W&B file(s), 1 media file(s), 1 artifact file(s) and 0 other file(s)"
      ],
      "text/plain": [
       "<IPython.core.display.HTML object>"
      ]
     },
     "metadata": {},
     "output_type": "display_data"
    },
    {
     "data": {
      "text/html": [
       "Find logs at: <code>.\\wandb\\run-20240708_150139-5m7rsvh1\\logs</code>"
      ],
      "text/plain": [
       "<IPython.core.display.HTML object>"
      ]
     },
     "metadata": {},
     "output_type": "display_data"
    }
   ],
   "source": [
    "y_pred = clf.predict(test_X)\n",
    "\n",
    "wandb.init(\n",
    "        project=project_name, name=exp_name+\"4.1\"+\"_stacking_classifiers_mlp_knn\"\n",
    "    )  # Инициализация эксперимента, project - название проекта\n",
    "wandb.log(\n",
    "    {\n",
    "        \"accuracy_score\": accuracy_score(y_true=test_y, y_pred=y_pred.round()),\n",
    "        \"f1_score_weighted\": f1_score(y_true=test_y, y_pred=y_pred.round(), average=\"weighted\"),\n",
    "        \"precision_weighted\": precision_score(y_true=test_y, y_pred=y_pred.round(), average=\"weighted\"),\n",
    "        \"roc_auc_score\": roc_auc_score(y_true=test_y, y_score=y_pred, average=\"weighted\"),\n",
    "        \"gini\": 2 * roc_auc_score(y_true=test_y, y_score=y_pred, average=\"weighted\") - 1\n",
    "    }\n",
    ")\n",
    "wandb.sklearn.plot_roc(y_true = test_y, y_probas = clf.predict_proba(test_X))\n",
    "#wandb.sklearn.plot_class_proportions(y_train, y_test)\n",
    "wandb.finish()"
   ]
  },
  {
   "cell_type": "markdown",
   "id": "b2025696-ed22-42ce-a2e8-7def952af8c0",
   "metadata": {},
   "source": [
    "### Выводы\n",
    "Стэкинг также не показал значимого улучшения. Кроме того, сам алгоритм обладает довольно низкой интерпретируемостью. Гипотеза заключается в том, что мы выбрали сложный подход для достаточно простой зависимости, т.к. регрессоры справляются с задачей лучше.\n",
    "\n",
    "Как лучший результат для тюнинга способ не подходит.\n",
    "Стэкинг не обладает артефактами помимо массива предсказаний, выгрузить нечего."
   ]
  },
  {
   "cell_type": "code",
   "execution_count": null,
   "id": "6d584c8f-e73a-4d3f-889c-31da9f976f0e",
   "metadata": {},
   "outputs": [],
   "source": []
  }
 ],
 "metadata": {
  "kernelspec": {
   "display_name": "Python 3 (ipykernel)",
   "language": "python",
   "name": "python3"
  },
  "language_info": {
   "codemirror_mode": {
    "name": "ipython",
    "version": 3
   },
   "file_extension": ".py",
   "mimetype": "text/x-python",
   "name": "python",
   "nbconvert_exporter": "python",
   "pygments_lexer": "ipython3",
   "version": "3.9.13"
  }
 },
 "nbformat": 4,
 "nbformat_minor": 5
}
