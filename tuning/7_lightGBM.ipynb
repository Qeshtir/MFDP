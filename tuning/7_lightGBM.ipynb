{
 "cells": [
  {
   "cell_type": "code",
   "execution_count": 1,
   "id": "ce165539-35a4-42c1-b625-ca5797cbd4e3",
   "metadata": {},
   "outputs": [],
   "source": [
    "import warnings\n",
    "warnings.simplefilter(action='ignore', category=FutureWarning)"
   ]
  },
  {
   "cell_type": "code",
   "execution_count": 2,
   "id": "e8ef5a0e-888f-4382-a010-60dd2fc262b9",
   "metadata": {},
   "outputs": [],
   "source": [
    "# Standard python libraries\n",
    "import os\n",
    "import requests\n",
    "\n",
    "# Essential DS libraries\n",
    "import numpy as np\n",
    "import pandas as pd\n",
    "from sklearn.metrics import roc_auc_score\n",
    "from sklearn.model_selection import train_test_split\n",
    "from sklearn.preprocessing import LabelEncoder\n",
    "from catboost import CatBoostClassifier\n",
    "from sklearn.metrics import classification_report, roc_curve, RocCurveDisplay, auc, precision_score, roc_auc_score, accuracy_score, f1_score\n",
    "from sklearn.impute import SimpleImputer\n",
    "import optuna\n",
    "from optuna.integration import CatBoostPruningCallback\n",
    "import joblib\n",
    "\n",
    "import catboost as cb\n",
    "\n",
    "import matplotlib.pyplot as plt\n",
    "import seaborn as sns\n",
    "\n",
    "# Experiments block\n",
    "import wandb\n",
    "\n",
    "\n",
    "pd.set_option('display.max_columns', None)"
   ]
  },
  {
   "cell_type": "code",
   "execution_count": 3,
   "id": "cab22ad5-15e3-4ef8-ba76-f3f1af6a1c38",
   "metadata": {},
   "outputs": [],
   "source": [
    "# Подготовим инфраструктуру для версионирования экспериментов\n",
    "project_name = \"Makarov_mfdp_unit_5\"\n",
    "exp_name = \"exp_\"\n",
    "config = []"
   ]
  },
  {
   "cell_type": "markdown",
   "id": "bb9d5833-3ca9-4ec4-a8e0-b5054d4b2b66",
   "metadata": {},
   "source": [
    "## Эксперимент 7 Замена модели на lightGBM, подбор параметров\n",
    "На лучшем фича селекшене и с учётом эксперимента про кросс-валидацию"
   ]
  },
  {
   "cell_type": "code",
   "execution_count": 4,
   "id": "8c8c39ed-0854-48dc-8b49-a80d267ed12d",
   "metadata": {},
   "outputs": [],
   "source": [
    "outliers_data_x = pd.read_csv(\"2_best_features_permutation.csv\")\n",
    "outliers_data_y = pd.read_csv(\"1_outliers_raw_data\")[\"TARGET\"]"
   ]
  },
  {
   "cell_type": "code",
   "execution_count": 6,
   "id": "9cd4e70a-55aa-4d0e-80fc-58a95351c283",
   "metadata": {},
   "outputs": [
    {
     "name": "stderr",
     "output_type": "stream",
     "text": [
      "[I 2024-07-08 19:22:07,553] A new study created in memory with name: no-name-999828ce-ba04-431d-89ef-3d7018c64eca\n",
      "feature_fraction, val_score: -inf:   0%|                                                                                                                                                                                     | 0/7 [00:00<?, ?it/s]"
     ]
    },
    {
     "name": "stdout",
     "output_type": "stream",
     "text": [
      "Training until validation scores don't improve for 100 rounds\n",
      "[100]\tcv_agg's valid auc: 0.868918 + 0.00850717\n",
      "[200]\tcv_agg's valid auc: 0.870539 + 0.00868267\n",
      "[300]\tcv_agg's valid auc: 0.869847 + 0.00897938\n"
     ]
    },
    {
     "name": "stderr",
     "output_type": "stream",
     "text": [
      "feature_fraction, val_score: 0.871177:  14%|########################1                                                                                                                                                | 1/7 [00:03<00:18,  3.16s/it][I 2024-07-08 19:22:10,718] Trial 0 finished with value: 0.871177083304174 and parameters: {'feature_fraction': 0.6}. Best is trial 0 with value: 0.871177083304174.\n",
      "feature_fraction, val_score: 0.871177:  14%|########################1                                                                                                                                                | 1/7 [00:03<00:18,  3.16s/it]"
     ]
    },
    {
     "name": "stdout",
     "output_type": "stream",
     "text": [
      "Early stopping, best iteration is:\n",
      "[230]\tcv_agg's valid auc: 0.871177 + 0.00877076\n",
      "Training until validation scores don't improve for 100 rounds\n",
      "[100]\tcv_agg's valid auc: 0.867601 + 0.0132871\n",
      "[200]\tcv_agg's valid auc: 0.86845 + 0.0147155\n"
     ]
    },
    {
     "name": "stderr",
     "output_type": "stream",
     "text": [
      "feature_fraction, val_score: 0.871177:  29%|################################################2                                                                                                                        | 2/7 [00:06<00:14,  2.98s/it][I 2024-07-08 19:22:13,574] Trial 1 finished with value: 0.8685503474432945 and parameters: {'feature_fraction': 0.8}. Best is trial 0 with value: 0.871177083304174.\n",
      "feature_fraction, val_score: 0.871177:  29%|################################################2                                                                                                                        | 2/7 [00:06<00:14,  2.98s/it]"
     ]
    },
    {
     "name": "stdout",
     "output_type": "stream",
     "text": [
      "Early stopping, best iteration is:\n",
      "[199]\tcv_agg's valid auc: 0.86855 + 0.0146251\n",
      "Training until validation scores don't improve for 100 rounds\n",
      "[100]\tcv_agg's valid auc: 0.869608 + 0.00990835\n"
     ]
    },
    {
     "name": "stderr",
     "output_type": "stream",
     "text": [
      "feature_fraction, val_score: 0.871177:  43%|########################################################################4                                                                                                | 3/7 [00:07<00:09,  2.46s/it][I 2024-07-08 19:22:15,407] Trial 2 finished with value: 0.8701926642570449 and parameters: {'feature_fraction': 0.8999999999999999}. Best is trial 0 with value: 0.871177083304174.\n",
      "feature_fraction, val_score: 0.871177:  43%|########################################################################4                                                                                                | 3/7 [00:07<00:09,  2.46s/it]"
     ]
    },
    {
     "name": "stdout",
     "output_type": "stream",
     "text": [
      "Early stopping, best iteration is:\n",
      "[90]\tcv_agg's valid auc: 0.870193 + 0.00896187\n",
      "Training until validation scores don't improve for 100 rounds\n",
      "[100]\tcv_agg's valid auc: 0.869289 + 0.00943597\n",
      "[200]\tcv_agg's valid auc: 0.86964 + 0.0112101\n"
     ]
    },
    {
     "name": "stderr",
     "output_type": "stream",
     "text": [
      "feature_fraction, val_score: 0.871177:  57%|################################################################################################5                                                                        | 4/7 [00:10<00:07,  2.52s/it][I 2024-07-08 19:22:18,018] Trial 3 finished with value: 0.8705337048062729 and parameters: {'feature_fraction': 1.0}. Best is trial 0 with value: 0.871177083304174.\n",
      "feature_fraction, val_score: 0.871177:  57%|################################################################################################5                                                                        | 4/7 [00:10<00:07,  2.52s/it]"
     ]
    },
    {
     "name": "stdout",
     "output_type": "stream",
     "text": [
      "Early stopping, best iteration is:\n",
      "[170]\tcv_agg's valid auc: 0.870534 + 0.0105415\n",
      "Training until validation scores don't improve for 100 rounds\n",
      "[100]\tcv_agg's valid auc: 0.872066 + 0.0101734\n",
      "[200]\tcv_agg's valid auc: 0.872397 + 0.0103624\n",
      "[300]\tcv_agg's valid auc: 0.873057 + 0.0112002\n"
     ]
    },
    {
     "name": "stderr",
     "output_type": "stream",
     "text": [
      "feature_fraction, val_score: 0.873278:  71%|########################################################################################################################7                                                | 5/7 [00:13<00:05,  2.78s/it][I 2024-07-08 19:22:21,262] Trial 4 finished with value: 0.873277874884669 and parameters: {'feature_fraction': 0.5}. Best is trial 4 with value: 0.873277874884669.\n",
      "feature_fraction, val_score: 0.873278:  71%|########################################################################################################################7                                                | 5/7 [00:13<00:05,  2.78s/it]"
     ]
    },
    {
     "name": "stdout",
     "output_type": "stream",
     "text": [
      "Early stopping, best iteration is:\n",
      "[251]\tcv_agg's valid auc: 0.873278 + 0.0108827\n",
      "Training until validation scores don't improve for 100 rounds\n",
      "[100]\tcv_agg's valid auc: 0.872636 + 0.00890366\n",
      "[200]\tcv_agg's valid auc: 0.87489 + 0.010245\n"
     ]
    },
    {
     "name": "stderr",
     "output_type": "stream",
     "text": [
      "feature_fraction, val_score: 0.874890:  86%|################################################################################################################################################8                        | 6/7 [00:16<00:02,  2.84s/it][I 2024-07-08 19:22:24,212] Trial 5 finished with value: 0.8748897429862331 and parameters: {'feature_fraction': 0.4}. Best is trial 5 with value: 0.8748897429862331.\n",
      "feature_fraction, val_score: 0.874890:  86%|################################################################################################################################################8                        | 6/7 [00:16<00:02,  2.84s/it]"
     ]
    },
    {
     "name": "stdout",
     "output_type": "stream",
     "text": [
      "[300]\tcv_agg's valid auc: 0.872587 + 0.0108487\n",
      "Early stopping, best iteration is:\n",
      "[200]\tcv_agg's valid auc: 0.87489 + 0.010245\n",
      "Training until validation scores don't improve for 100 rounds\n",
      "[100]\tcv_agg's valid auc: 0.871731 + 0.00800751\n"
     ]
    },
    {
     "name": "stderr",
     "output_type": "stream",
     "text": [
      "feature_fraction, val_score: 0.874890: 100%|#########################################################################################################################################################################| 7/7 [00:18<00:00,  2.54s/it][I 2024-07-08 19:22:26,146] Trial 6 finished with value: 0.8722939427065749 and parameters: {'feature_fraction': 0.7}. Best is trial 5 with value: 0.8748897429862331.\n",
      "feature_fraction, val_score: 0.874890: 100%|#########################################################################################################################################################################| 7/7 [00:18<00:00,  2.66s/it]\n"
     ]
    },
    {
     "name": "stdout",
     "output_type": "stream",
     "text": [
      "Early stopping, best iteration is:\n",
      "[90]\tcv_agg's valid auc: 0.872294 + 0.00865946\n"
     ]
    },
    {
     "name": "stderr",
     "output_type": "stream",
     "text": [
      "num_leaves, val_score: 0.874890:   0%|                                                                                                                                                                                      | 0/20 [00:00<?, ?it/s]"
     ]
    },
    {
     "name": "stdout",
     "output_type": "stream",
     "text": [
      "Training until validation scores don't improve for 100 rounds\n",
      "[100]\tcv_agg's valid auc: 0.869339 + 0.00926562\n",
      "[200]\tcv_agg's valid auc: 0.873403 + 0.0110903\n",
      "[300]\tcv_agg's valid auc: 0.87492 + 0.00952061\n"
     ]
    },
    {
     "name": "stderr",
     "output_type": "stream",
     "text": [
      "num_leaves, val_score: 0.875505:   5%|########7                                                                                                                                                                     | 1/20 [00:04<01:20,  4.24s/it][I 2024-07-08 19:22:30,390] Trial 7 finished with value: 0.8755049983681408 and parameters: {'num_leaves': 60}. Best is trial 7 with value: 0.8755049983681408.\n",
      "num_leaves, val_score: 0.875505:   5%|########7                                                                                                                                                                     | 1/20 [00:04<01:20,  4.24s/it]"
     ]
    },
    {
     "name": "stdout",
     "output_type": "stream",
     "text": [
      "Early stopping, best iteration is:\n",
      "[243]\tcv_agg's valid auc: 0.875505 + 0.010062\n",
      "Training until validation scores don't improve for 100 rounds\n",
      "[100]\tcv_agg's valid auc: 0.868405 + 0.00864483\n",
      "[200]\tcv_agg's valid auc: 0.871748 + 0.0105016\n",
      "[300]\tcv_agg's valid auc: 0.874291 + 0.0111919\n",
      "[400]\tcv_agg's valid auc: 0.876523 + 0.0120438\n",
      "[500]\tcv_agg's valid auc: 0.877272 + 0.0124664\n",
      "[600]\tcv_agg's valid auc: 0.877325 + 0.0130664\n",
      "[700]\tcv_agg's valid auc: 0.877156 + 0.012945\n"
     ]
    },
    {
     "name": "stderr",
     "output_type": "stream",
     "text": [
      "num_leaves, val_score: 0.877426:  10%|#################4                                                                                                                                                            | 2/20 [00:15<02:33,  8.51s/it][I 2024-07-08 19:22:41,894] Trial 8 finished with value: 0.8774264412726519 and parameters: {'num_leaves': 121}. Best is trial 8 with value: 0.8774264412726519.\n",
      "num_leaves, val_score: 0.877426:  10%|#################4                                                                                                                                                            | 2/20 [00:15<02:33,  8.51s/it]"
     ]
    },
    {
     "name": "stdout",
     "output_type": "stream",
     "text": [
      "Early stopping, best iteration is:\n",
      "[626]\tcv_agg's valid auc: 0.877426 + 0.0130129\n",
      "Training until validation scores don't improve for 100 rounds\n",
      "[100]\tcv_agg's valid auc: 0.867283 + 0.0106358\n",
      "[200]\tcv_agg's valid auc: 0.871886 + 0.0103846\n",
      "[300]\tcv_agg's valid auc: 0.873346 + 0.0120765\n",
      "[400]\tcv_agg's valid auc: 0.87427 + 0.0126326\n",
      "[500]\tcv_agg's valid auc: 0.874997 + 0.0121019\n",
      "[600]\tcv_agg's valid auc: 0.875448 + 0.0118156\n",
      "[700]\tcv_agg's valid auc: 0.875619 + 0.0116578\n",
      "[800]\tcv_agg's valid auc: 0.875535 + 0.011787\n"
     ]
    },
    {
     "name": "stderr",
     "output_type": "stream",
     "text": [
      "num_leaves, val_score: 0.877426:  15%|##########################1                                                                                                                                                   | 3/20 [00:29<03:02, 10.76s/it][I 2024-07-08 19:22:55,326] Trial 9 finished with value: 0.8757413969897833 and parameters: {'num_leaves': 102}. Best is trial 8 with value: 0.8774264412726519.\n",
      "num_leaves, val_score: 0.877426:  15%|##########################1                                                                                                                                                   | 3/20 [00:29<03:02, 10.76s/it]"
     ]
    },
    {
     "name": "stdout",
     "output_type": "stream",
     "text": [
      "Early stopping, best iteration is:\n",
      "[775]\tcv_agg's valid auc: 0.875741 + 0.0117274\n",
      "Training until validation scores don't improve for 100 rounds\n",
      "[100]\tcv_agg's valid auc: 0.860724 + 0.00978071\n",
      "[200]\tcv_agg's valid auc: 0.867656 + 0.00928372\n",
      "[300]\tcv_agg's valid auc: 0.873008 + 0.00991996\n",
      "[400]\tcv_agg's valid auc: 0.874273 + 0.0101413\n",
      "[500]\tcv_agg's valid auc: 0.874806 + 0.0103506\n",
      "[600]\tcv_agg's valid auc: 0.875279 + 0.0106398\n",
      "[700]\tcv_agg's valid auc: 0.875652 + 0.0106995\n",
      "[800]\tcv_agg's valid auc: 0.875913 + 0.0106701\n"
     ]
    },
    {
     "name": "stderr",
     "output_type": "stream",
     "text": [
      "num_leaves, val_score: 0.877426:  20%|##################################8                                                                                                                                           | 4/20 [00:41<03:04, 11.52s/it][I 2024-07-08 19:23:08,013] Trial 10 finished with value: 0.8759821454210667 and parameters: {'num_leaves': 243}. Best is trial 8 with value: 0.8774264412726519.\n",
      "num_leaves, val_score: 0.877426:  20%|##################################8                                                                                                                                           | 4/20 [00:41<03:04, 11.52s/it]"
     ]
    },
    {
     "name": "stdout",
     "output_type": "stream",
     "text": [
      "Early stopping, best iteration is:\n",
      "[754]\tcv_agg's valid auc: 0.875982 + 0.0104758\n",
      "Training until validation scores don't improve for 100 rounds\n",
      "[100]\tcv_agg's valid auc: 0.859062 + 0.00603835\n",
      "[200]\tcv_agg's valid auc: 0.868474 + 0.00625766\n",
      "[300]\tcv_agg's valid auc: 0.872446 + 0.00755736\n",
      "[400]\tcv_agg's valid auc: 0.874237 + 0.00732596\n",
      "[500]\tcv_agg's valid auc: 0.87439 + 0.00736326\n",
      "[600]\tcv_agg's valid auc: 0.875034 + 0.0071423\n",
      "[700]\tcv_agg's valid auc: 0.875213 + 0.00735455\n",
      "[800]\tcv_agg's valid auc: 0.87533 + 0.00712317\n",
      "[900]\tcv_agg's valid auc: 0.875457 + 0.00720759\n"
     ]
    },
    {
     "name": "stderr",
     "output_type": "stream",
     "text": [
      "num_leaves, val_score: 0.877426:  25%|###########################################5                                                                                                                                  | 5/20 [00:53<02:55, 11.72s/it][I 2024-07-08 19:23:20,083] Trial 11 finished with value: 0.8757856531362392 and parameters: {'num_leaves': 256}. Best is trial 8 with value: 0.8774264412726519.\n",
      "num_leaves, val_score: 0.877426:  25%|###########################################5                                                                                                                                  | 5/20 [00:53<02:55, 11.72s/it]"
     ]
    },
    {
     "name": "stdout",
     "output_type": "stream",
     "text": [
      "[1000]\tcv_agg's valid auc: 0.875784 + 0.00731323\n",
      "Did not meet early stopping. Best iteration is:\n",
      "[998]\tcv_agg's valid auc: 0.875786 + 0.00730133\n",
      "Training until validation scores don't improve for 100 rounds\n",
      "[100]\tcv_agg's valid auc: 0.860468 + 0.0110343\n",
      "[200]\tcv_agg's valid auc: 0.866225 + 0.0103973\n",
      "[300]\tcv_agg's valid auc: 0.87143 + 0.00970202\n",
      "[400]\tcv_agg's valid auc: 0.873157 + 0.00965101\n",
      "[500]\tcv_agg's valid auc: 0.873735 + 0.00993385\n",
      "[600]\tcv_agg's valid auc: 0.873741 + 0.0100975\n",
      "[700]\tcv_agg's valid auc: 0.873998 + 0.00999791\n"
     ]
    },
    {
     "name": "stderr",
     "output_type": "stream",
     "text": [
      "num_leaves, val_score: 0.877426:  30%|####################################################2                                                                                                                         | 6/20 [01:04<02:40, 11.47s/it][I 2024-07-08 19:23:31,085] Trial 12 finished with value: 0.8741850433066384 and parameters: {'num_leaves': 203}. Best is trial 8 with value: 0.8774264412726519.\n",
      "num_leaves, val_score: 0.877426:  30%|####################################################2                                                                                                                         | 6/20 [01:04<02:40, 11.47s/it]"
     ]
    },
    {
     "name": "stdout",
     "output_type": "stream",
     "text": [
      "Early stopping, best iteration is:\n",
      "[657]\tcv_agg's valid auc: 0.874185 + 0.0100547\n",
      "Training until validation scores don't improve for 100 rounds\n",
      "[100]\tcv_agg's valid auc: 0.865192 + 0.00403098\n",
      "[200]\tcv_agg's valid auc: 0.870181 + 0.00747028\n",
      "[300]\tcv_agg's valid auc: 0.872937 + 0.00864653\n",
      "[400]\tcv_agg's valid auc: 0.874294 + 0.00790946\n",
      "[500]\tcv_agg's valid auc: 0.874274 + 0.00801468\n"
     ]
    },
    {
     "name": "stderr",
     "output_type": "stream",
     "text": [
      "num_leaves, val_score: 0.877426:  35%|############################################################9                                                                                                                 | 7/20 [01:14<02:19, 10.72s/it][I 2024-07-08 19:23:40,244] Trial 13 finished with value: 0.8746429313165115 and parameters: {'num_leaves': 150}. Best is trial 8 with value: 0.8774264412726519.\n",
      "num_leaves, val_score: 0.877426:  35%|############################################################9                                                                                                                 | 7/20 [01:14<02:19, 10.72s/it]"
     ]
    },
    {
     "name": "stdout",
     "output_type": "stream",
     "text": [
      "Early stopping, best iteration is:\n",
      "[421]\tcv_agg's valid auc: 0.874643 + 0.00789488\n",
      "Training until validation scores don't improve for 100 rounds\n",
      "[100]\tcv_agg's valid auc: 0.865721 + 0.00668075\n",
      "[200]\tcv_agg's valid auc: 0.87236 + 0.00839332\n",
      "[300]\tcv_agg's valid auc: 0.875952 + 0.00969899\n",
      "[400]\tcv_agg's valid auc: 0.877243 + 0.0103914\n",
      "[500]\tcv_agg's valid auc: 0.877333 + 0.0103934\n"
     ]
    },
    {
     "name": "stderr",
     "output_type": "stream",
     "text": [
      "num_leaves, val_score: 0.877457:  40%|#####################################################################6                                                                                                        | 8/20 [01:23<02:04, 10.33s/it][I 2024-07-08 19:23:49,755] Trial 14 finished with value: 0.877456870654984 and parameters: {'num_leaves': 152}. Best is trial 14 with value: 0.877456870654984.\n",
      "num_leaves, val_score: 0.877457:  40%|#####################################################################6                                                                                                        | 8/20 [01:23<02:04, 10.33s/it]"
     ]
    },
    {
     "name": "stdout",
     "output_type": "stream",
     "text": [
      "Early stopping, best iteration is:\n",
      "[429]\tcv_agg's valid auc: 0.877457 + 0.0104688\n",
      "Training until validation scores don't improve for 100 rounds\n",
      "[100]\tcv_agg's valid auc: 0.867453 + 0.00631043\n",
      "[200]\tcv_agg's valid auc: 0.872271 + 0.00921728\n",
      "[300]\tcv_agg's valid auc: 0.874831 + 0.0095671\n",
      "[400]\tcv_agg's valid auc: 0.875726 + 0.00862936\n",
      "[500]\tcv_agg's valid auc: 0.876433 + 0.00788694\n",
      "[600]\tcv_agg's valid auc: 0.876844 + 0.00779669\n",
      "[700]\tcv_agg's valid auc: 0.87674 + 0.00787035\n",
      "Early stopping, best iteration is:\n",
      "[623]\tcv_agg's valid auc: 0.876932 + 0.00780471\n"
     ]
    },
    {
     "name": "stderr",
     "output_type": "stream",
     "text": [
      "num_leaves, val_score: 0.877457:  45%|##############################################################################3                                                                                               | 9/20 [01:34<01:54, 10.44s/it][I 2024-07-08 19:24:00,420] Trial 15 finished with value: 0.8769320783126037 and parameters: {'num_leaves': 146}. Best is trial 14 with value: 0.877456870654984.\n",
      "num_leaves, val_score: 0.877457:  45%|##############################################################################3                                                                                               | 9/20 [01:34<01:54, 10.44s/it]"
     ]
    },
    {
     "name": "stdout",
     "output_type": "stream",
     "text": [
      "Training until validation scores don't improve for 100 rounds\n",
      "[100]\tcv_agg's valid auc: 0.805171 + 0.0181632\n",
      "[200]\tcv_agg's valid auc: 0.827605 + 0.0187271\n",
      "[300]\tcv_agg's valid auc: 0.837732 + 0.0172531\n",
      "[400]\tcv_agg's valid auc: 0.843376 + 0.0166106\n",
      "[500]\tcv_agg's valid auc: 0.846895 + 0.0161919\n",
      "[600]\tcv_agg's valid auc: 0.848951 + 0.0157976\n",
      "[700]\tcv_agg's valid auc: 0.850734 + 0.015558\n",
      "[800]\tcv_agg's valid auc: 0.851928 + 0.0154974\n",
      "[900]\tcv_agg's valid auc: 0.852756 + 0.0151305\n"
     ]
    },
    {
     "name": "stderr",
     "output_type": "stream",
     "text": [
      "num_leaves, val_score: 0.877457:  50%|######################################################################################5                                                                                      | 10/20 [01:40<01:30,  9.09s/it][I 2024-07-08 19:24:06,478] Trial 16 finished with value: 0.8536555054794596 and parameters: {'num_leaves': 2}. Best is trial 14 with value: 0.877456870654984.\n",
      "num_leaves, val_score: 0.877457:  50%|######################################################################################5                                                                                      | 10/20 [01:40<01:30,  9.09s/it]"
     ]
    },
    {
     "name": "stdout",
     "output_type": "stream",
     "text": [
      "[1000]\tcv_agg's valid auc: 0.853609 + 0.0146794\n",
      "Did not meet early stopping. Best iteration is:\n",
      "[988]\tcv_agg's valid auc: 0.853656 + 0.0148253\n",
      "Training until validation scores don't improve for 100 rounds\n",
      "[100]\tcv_agg's valid auc: 0.867283 + 0.0106358\n",
      "[200]\tcv_agg's valid auc: 0.871886 + 0.0103846\n",
      "[300]\tcv_agg's valid auc: 0.873346 + 0.0120765\n",
      "[400]\tcv_agg's valid auc: 0.87427 + 0.0126326\n",
      "[500]\tcv_agg's valid auc: 0.874997 + 0.0121019\n",
      "[600]\tcv_agg's valid auc: 0.875448 + 0.0118156\n",
      "[700]\tcv_agg's valid auc: 0.875619 + 0.0116578\n",
      "[800]\tcv_agg's valid auc: 0.875535 + 0.011787\n"
     ]
    },
    {
     "name": "stderr",
     "output_type": "stream",
     "text": [
      "num_leaves, val_score: 0.877457:  55%|###############################################################################################1                                                                             | 11/20 [01:54<01:34, 10.52s/it][I 2024-07-08 19:24:20,257] Trial 17 finished with value: 0.8757413969897833 and parameters: {'num_leaves': 102}. Best is trial 14 with value: 0.877456870654984.\n",
      "num_leaves, val_score: 0.877457:  55%|###############################################################################################1                                                                             | 11/20 [01:54<01:34, 10.52s/it]"
     ]
    },
    {
     "name": "stdout",
     "output_type": "stream",
     "text": [
      "Early stopping, best iteration is:\n",
      "[775]\tcv_agg's valid auc: 0.875741 + 0.0117274\n",
      "Training until validation scores don't improve for 100 rounds\n",
      "[100]\tcv_agg's valid auc: 0.867088 + 0.00966015\n",
      "[200]\tcv_agg's valid auc: 0.869798 + 0.00988852\n",
      "[300]\tcv_agg's valid auc: 0.873827 + 0.00919457\n",
      "[400]\tcv_agg's valid auc: 0.874677 + 0.00934954\n"
     ]
    },
    {
     "name": "stderr",
     "output_type": "stream",
     "text": [
      "num_leaves, val_score: 0.877457:  60%|#######################################################################################################8                                                                     | 12/20 [02:02<01:19,  9.96s/it][I 2024-07-08 19:24:28,943] Trial 18 finished with value: 0.8748152812152776 and parameters: {'num_leaves': 180}. Best is trial 14 with value: 0.877456870654984.\n",
      "num_leaves, val_score: 0.877457:  60%|#######################################################################################################8                                                                     | 12/20 [02:02<01:19,  9.96s/it]"
     ]
    },
    {
     "name": "stdout",
     "output_type": "stream",
     "text": [
      "Early stopping, best iteration is:\n",
      "[388]\tcv_agg's valid auc: 0.874815 + 0.00921341\n",
      "Training until validation scores don't improve for 100 rounds\n",
      "[100]\tcv_agg's valid auc: 0.868296 + 0.00938246\n",
      "[200]\tcv_agg's valid auc: 0.871005 + 0.00906269\n",
      "[300]\tcv_agg's valid auc: 0.874159 + 0.00869763\n",
      "[400]\tcv_agg's valid auc: 0.874271 + 0.00860803\n"
     ]
    },
    {
     "name": "stderr",
     "output_type": "stream",
     "text": [
      "num_leaves, val_score: 0.877457:  65%|################################################################################################################4                                                            | 13/20 [02:09<01:02,  8.95s/it][I 2024-07-08 19:24:35,551] Trial 19 finished with value: 0.875498464746722 and parameters: {'num_leaves': 74}. Best is trial 14 with value: 0.877456870654984.\n",
      "num_leaves, val_score: 0.877457:  65%|################################################################################################################4                                                            | 13/20 [02:09<01:02,  8.95s/it]"
     ]
    },
    {
     "name": "stdout",
     "output_type": "stream",
     "text": [
      "Early stopping, best iteration is:\n",
      "[350]\tcv_agg's valid auc: 0.875498 + 0.00896851\n",
      "Training until validation scores don't improve for 100 rounds\n",
      "[100]\tcv_agg's valid auc: 0.86499 + 0.00801978\n",
      "[200]\tcv_agg's valid auc: 0.870262 + 0.00954607\n",
      "[300]\tcv_agg's valid auc: 0.874574 + 0.00842169\n",
      "[400]\tcv_agg's valid auc: 0.876387 + 0.00826694\n",
      "[500]\tcv_agg's valid auc: 0.876748 + 0.00859064\n",
      "[600]\tcv_agg's valid auc: 0.877052 + 0.00860714\n",
      "[700]\tcv_agg's valid auc: 0.877262 + 0.00861159\n",
      "[800]\tcv_agg's valid auc: 0.877575 + 0.00850321\n",
      "[900]\tcv_agg's valid auc: 0.877638 + 0.00834026\n"
     ]
    },
    {
     "name": "stderr",
     "output_type": "stream",
     "text": [
      "num_leaves, val_score: 0.877851:  70%|#########################################################################################################################1                                                   | 14/20 [02:21<00:58,  9.75s/it][I 2024-07-08 19:24:47,166] Trial 20 finished with value: 0.8778507172242267 and parameters: {'num_leaves': 185}. Best is trial 20 with value: 0.8778507172242267.\n",
      "num_leaves, val_score: 0.877851:  70%|#########################################################################################################################1                                                   | 14/20 [02:21<00:58,  9.75s/it]"
     ]
    },
    {
     "name": "stdout",
     "output_type": "stream",
     "text": [
      "[1000]\tcv_agg's valid auc: 0.877674 + 0.00822652\n",
      "Did not meet early stopping. Best iteration is:\n",
      "[920]\tcv_agg's valid auc: 0.877851 + 0.00821297\n",
      "Training until validation scores don't improve for 100 rounds\n",
      "[100]\tcv_agg's valid auc: 0.864828 + 0.00791806\n",
      "[200]\tcv_agg's valid auc: 0.868569 + 0.00852519\n",
      "[300]\tcv_agg's valid auc: 0.873273 + 0.00927463\n",
      "[400]\tcv_agg's valid auc: 0.874753 + 0.00980147\n",
      "[500]\tcv_agg's valid auc: 0.874849 + 0.00961951\n",
      "[600]\tcv_agg's valid auc: 0.875006 + 0.00965971\n",
      "[700]\tcv_agg's valid auc: 0.875171 + 0.00976148\n",
      "[800]\tcv_agg's valid auc: 0.875223 + 0.00977772\n",
      "[900]\tcv_agg's valid auc: 0.875263 + 0.0100913\n"
     ]
    },
    {
     "name": "stderr",
     "output_type": "stream",
     "text": [
      "num_leaves, val_score: 0.877851:  75%|#################################################################################################################################7                                           | 15/20 [02:33<00:53, 10.72s/it][I 2024-07-08 19:25:00,139] Trial 21 finished with value: 0.8753657715702934 and parameters: {'num_leaves': 186}. Best is trial 20 with value: 0.8778507172242267.\n",
      "num_leaves, val_score: 0.877851:  75%|#################################################################################################################################7                                           | 15/20 [02:33<00:53, 10.72s/it]"
     ]
    },
    {
     "name": "stdout",
     "output_type": "stream",
     "text": [
      "[1000]\tcv_agg's valid auc: 0.875357 + 0.00972655\n",
      "Did not meet early stopping. Best iteration is:\n",
      "[932]\tcv_agg's valid auc: 0.875366 + 0.00988922\n",
      "Training until validation scores don't improve for 100 rounds\n",
      "[100]\tcv_agg's valid auc: 0.866288 + 0.010477\n",
      "[200]\tcv_agg's valid auc: 0.871686 + 0.0113462\n",
      "[300]\tcv_agg's valid auc: 0.873346 + 0.0110392\n",
      "[400]\tcv_agg's valid auc: 0.875376 + 0.0101916\n",
      "[500]\tcv_agg's valid auc: 0.875878 + 0.0103079\n",
      "[600]\tcv_agg's valid auc: 0.876511 + 0.010151\n",
      "[700]\tcv_agg's valid auc: 0.876395 + 0.0106185\n"
     ]
    },
    {
     "name": "stderr",
     "output_type": "stream",
     "text": [
      "num_leaves, val_score: 0.877851:  80%|##########################################################################################################################################4                                  | 16/20 [02:43<00:41, 10.30s/it][I 2024-07-08 19:25:09,448] Trial 22 finished with value: 0.8765590585887061 and parameters: {'num_leaves': 123}. Best is trial 20 with value: 0.8778507172242267.\n",
      "num_leaves, val_score: 0.877851:  80%|##########################################################################################################################################4                                  | 16/20 [02:43<00:41, 10.30s/it]"
     ]
    },
    {
     "name": "stdout",
     "output_type": "stream",
     "text": [
      "Early stopping, best iteration is:\n",
      "[638]\tcv_agg's valid auc: 0.876559 + 0.0104259\n",
      "Training until validation scores don't improve for 100 rounds\n",
      "[100]\tcv_agg's valid auc: 0.864492 + 0.0109404\n",
      "[200]\tcv_agg's valid auc: 0.869994 + 0.00991749\n",
      "[300]\tcv_agg's valid auc: 0.874235 + 0.00911072\n",
      "[400]\tcv_agg's valid auc: 0.876111 + 0.00958091\n"
     ]
    },
    {
     "name": "stderr",
     "output_type": "stream",
     "text": [
      "num_leaves, val_score: 0.877851:  85%|###################################################################################################################################################                          | 17/20 [02:51<00:29,  9.79s/it][I 2024-07-08 19:25:18,043] Trial 23 finished with value: 0.8763851296598157 and parameters: {'num_leaves': 163}. Best is trial 20 with value: 0.8778507172242267.\n",
      "num_leaves, val_score: 0.877851:  85%|###################################################################################################################################################                          | 17/20 [02:51<00:29,  9.79s/it]"
     ]
    },
    {
     "name": "stdout",
     "output_type": "stream",
     "text": [
      "[500]\tcv_agg's valid auc: 0.876165 + 0.00928648\n",
      "Early stopping, best iteration is:\n",
      "[415]\tcv_agg's valid auc: 0.876385 + 0.00945284\n",
      "Training until validation scores don't improve for 100 rounds\n",
      "[100]\tcv_agg's valid auc: 0.861613 + 0.00827876\n",
      "[200]\tcv_agg's valid auc: 0.869573 + 0.00930706\n",
      "[300]\tcv_agg's valid auc: 0.874866 + 0.00832745\n",
      "[400]\tcv_agg's valid auc: 0.875961 + 0.00814302\n"
     ]
    },
    {
     "name": "stderr",
     "output_type": "stream",
     "text": [
      "num_leaves, val_score: 0.877851:  90%|###########################################################################################################################################################7                 | 18/20 [03:00<00:18,  9.30s/it][I 2024-07-08 19:25:26,222] Trial 24 finished with value: 0.8760742097007747 and parameters: {'num_leaves': 214}. Best is trial 20 with value: 0.8778507172242267.\n",
      "num_leaves, val_score: 0.877851:  90%|###########################################################################################################################################################7                 | 18/20 [03:00<00:18,  9.30s/it]"
     ]
    },
    {
     "name": "stdout",
     "output_type": "stream",
     "text": [
      "[500]\tcv_agg's valid auc: 0.875824 + 0.00833668\n",
      "Early stopping, best iteration is:\n",
      "[410]\tcv_agg's valid auc: 0.876074 + 0.00817476\n",
      "Training until validation scores don't improve for 100 rounds\n",
      "[100]\tcv_agg's valid auc: 0.866288 + 0.010477\n",
      "[200]\tcv_agg's valid auc: 0.871686 + 0.0113462\n",
      "[300]\tcv_agg's valid auc: 0.873346 + 0.0110392\n",
      "[400]\tcv_agg's valid auc: 0.875376 + 0.0101916\n",
      "[500]\tcv_agg's valid auc: 0.875878 + 0.0103079\n",
      "[600]\tcv_agg's valid auc: 0.876511 + 0.010151\n",
      "[700]\tcv_agg's valid auc: 0.876395 + 0.0106185\n"
     ]
    },
    {
     "name": "stderr",
     "output_type": "stream",
     "text": [
      "num_leaves, val_score: 0.877851:  95%|####################################################################################################################################################################3        | 19/20 [03:10<00:09,  9.53s/it][I 2024-07-08 19:25:36,278] Trial 25 finished with value: 0.8765590585887061 and parameters: {'num_leaves': 123}. Best is trial 20 with value: 0.8778507172242267.\n",
      "num_leaves, val_score: 0.877851:  95%|####################################################################################################################################################################3        | 19/20 [03:10<00:09,  9.53s/it]"
     ]
    },
    {
     "name": "stdout",
     "output_type": "stream",
     "text": [
      "Early stopping, best iteration is:\n",
      "[638]\tcv_agg's valid auc: 0.876559 + 0.0104259\n",
      "Training until validation scores don't improve for 100 rounds\n",
      "[100]\tcv_agg's valid auc: 0.861905 + 0.00549452\n",
      "[200]\tcv_agg's valid auc: 0.869135 + 0.00624628\n",
      "[300]\tcv_agg's valid auc: 0.87354 + 0.00659062\n",
      "[400]\tcv_agg's valid auc: 0.874524 + 0.00664963\n",
      "[500]\tcv_agg's valid auc: 0.874887 + 0.00694329\n",
      "[600]\tcv_agg's valid auc: 0.874954 + 0.00687142\n"
     ]
    },
    {
     "name": "stderr",
     "output_type": "stream",
     "text": [
      "num_leaves, val_score: 0.877851: 100%|#############################################################################################################################################################################| 20/20 [03:19<00:00,  9.63s/it][I 2024-07-08 19:25:46,132] Trial 26 finished with value: 0.8750953642960041 and parameters: {'num_leaves': 217}. Best is trial 20 with value: 0.8778507172242267.\n",
      "num_leaves, val_score: 0.877851: 100%|#############################################################################################################################################################################| 20/20 [03:19<00:00, 10.00s/it]\n"
     ]
    },
    {
     "name": "stdout",
     "output_type": "stream",
     "text": [
      "Early stopping, best iteration is:\n",
      "[539]\tcv_agg's valid auc: 0.875095 + 0.00691044\n"
     ]
    },
    {
     "name": "stderr",
     "output_type": "stream",
     "text": [
      "bagging, val_score: 0.877851:   0%|                                                                                                                                                                                         | 0/10 [00:00<?, ?it/s]"
     ]
    },
    {
     "name": "stdout",
     "output_type": "stream",
     "text": [
      "Training until validation scores don't improve for 100 rounds\n",
      "[100]\tcv_agg's valid auc: 0.857958 + 0.00685945\n",
      "[200]\tcv_agg's valid auc: 0.860782 + 0.00965126\n"
     ]
    },
    {
     "name": "stderr",
     "output_type": "stream",
     "text": [
      "bagging, val_score: 0.877851:  10%|#################7                                                                                                                                                               | 1/10 [00:04<00:44,  4.99s/it][I 2024-07-08 19:25:51,130] Trial 27 finished with value: 0.8622728724883908 and parameters: {'bagging_fraction': 0.5671911703210284, 'bagging_freq': 1}. Best is trial 27 with value: 0.8622728724883908.\n",
      "bagging, val_score: 0.877851:  10%|#################7                                                                                                                                                               | 1/10 [00:04<00:44,  4.99s/it]"
     ]
    },
    {
     "name": "stdout",
     "output_type": "stream",
     "text": [
      "Early stopping, best iteration is:\n",
      "[139]\tcv_agg's valid auc: 0.862273 + 0.0076539\n",
      "Training until validation scores don't improve for 100 rounds\n",
      "[100]\tcv_agg's valid auc: 0.865058 + 0.00895703\n",
      "[200]\tcv_agg's valid auc: 0.870481 + 0.0107476\n",
      "[300]\tcv_agg's valid auc: 0.873707 + 0.0100753\n",
      "[400]\tcv_agg's valid auc: 0.875789 + 0.0101231\n",
      "[500]\tcv_agg's valid auc: 0.876396 + 0.0100855\n"
     ]
    },
    {
     "name": "stderr",
     "output_type": "stream",
     "text": [
      "bagging, val_score: 0.877851:  20%|###################################4                                                                                                                                             | 2/10 [00:14<01:00,  7.61s/it][I 2024-07-08 19:26:00,566] Trial 28 finished with value: 0.8765181290931432 and parameters: {'bagging_fraction': 0.9952743255175722, 'bagging_freq': 7}. Best is trial 28 with value: 0.8765181290931432.\n",
      "bagging, val_score: 0.877851:  20%|###################################4                                                                                                                                             | 2/10 [00:14<01:00,  7.61s/it]"
     ]
    },
    {
     "name": "stdout",
     "output_type": "stream",
     "text": [
      "Early stopping, best iteration is:\n",
      "[478]\tcv_agg's valid auc: 0.876518 + 0.0100014\n",
      "Training until validation scores don't improve for 100 rounds\n",
      "[100]\tcv_agg's valid auc: 0.838373 + 0.00400602\n",
      "[200]\tcv_agg's valid auc: 0.843566 + 0.000143325\n",
      "[300]\tcv_agg's valid auc: 0.849382 + 0.00354437\n",
      "[400]\tcv_agg's valid auc: 0.851427 + 0.00436465\n",
      "[500]\tcv_agg's valid auc: 0.854224 + 0.00308072\n",
      "[600]\tcv_agg's valid auc: 0.855568 + 0.0031265\n",
      "[700]\tcv_agg's valid auc: 0.856413 + 0.00421857\n",
      "[800]\tcv_agg's valid auc: 0.857186 + 0.00411411\n"
     ]
    },
    {
     "name": "stderr",
     "output_type": "stream",
     "text": [
      "bagging, val_score: 0.877851:  30%|#####################################################1                                                                                                                           | 3/10 [00:27<01:09,  9.96s/it][I 2024-07-08 19:26:13,325] Trial 29 finished with value: 0.8574257820540382 and parameters: {'bagging_fraction': 0.4091152393346649, 'bagging_freq': 4}. Best is trial 28 with value: 0.8765181290931432.\n",
      "bagging, val_score: 0.877851:  30%|#####################################################1                                                                                                                           | 3/10 [00:27<01:09,  9.96s/it]"
     ]
    },
    {
     "name": "stdout",
     "output_type": "stream",
     "text": [
      "[900]\tcv_agg's valid auc: 0.857249 + 0.00389959\n",
      "Early stopping, best iteration is:\n",
      "[813]\tcv_agg's valid auc: 0.857426 + 0.00385256\n",
      "Training until validation scores don't improve for 100 rounds\n",
      "[100]\tcv_agg's valid auc: 0.866286 + 0.00911984\n",
      "[200]\tcv_agg's valid auc: 0.872257 + 0.00865525\n",
      "[300]\tcv_agg's valid auc: 0.875901 + 0.00864862\n",
      "[400]\tcv_agg's valid auc: 0.87699 + 0.00930527\n"
     ]
    },
    {
     "name": "stderr",
     "output_type": "stream",
     "text": [
      "bagging, val_score: 0.877851:  40%|######################################################################8                                                                                                          | 4/10 [00:35<00:55,  9.33s/it][I 2024-07-08 19:26:21,682] Trial 30 finished with value: 0.8773511652746092 and parameters: {'bagging_fraction': 0.9459699224636835, 'bagging_freq': 7}. Best is trial 30 with value: 0.8773511652746092.\n",
      "bagging, val_score: 0.877851:  40%|######################################################################8                                                                                                          | 4/10 [00:35<00:55,  9.33s/it]"
     ]
    },
    {
     "name": "stdout",
     "output_type": "stream",
     "text": [
      "Early stopping, best iteration is:\n",
      "[375]\tcv_agg's valid auc: 0.877351 + 0.00900914\n",
      "Training until validation scores don't improve for 100 rounds\n",
      "[100]\tcv_agg's valid auc: 0.863939 + 0.0115166\n",
      "[200]\tcv_agg's valid auc: 0.867205 + 0.00988764\n",
      "[300]\tcv_agg's valid auc: 0.872929 + 0.00983747\n",
      "[400]\tcv_agg's valid auc: 0.874449 + 0.00996943\n"
     ]
    },
    {
     "name": "stderr",
     "output_type": "stream",
     "text": [
      "bagging, val_score: 0.877851:  50%|########################################################################################5                                                                                        | 5/10 [00:43<00:44,  8.93s/it][I 2024-07-08 19:26:29,902] Trial 31 finished with value: 0.8747361426428558 and parameters: {'bagging_fraction': 0.9670068144863125, 'bagging_freq': 7}. Best is trial 30 with value: 0.8773511652746092.\n",
      "bagging, val_score: 0.877851:  50%|########################################################################################5                                                                                        | 5/10 [00:43<00:44,  8.93s/it]"
     ]
    },
    {
     "name": "stdout",
     "output_type": "stream",
     "text": [
      "[500]\tcv_agg's valid auc: 0.874475 + 0.0101512\n",
      "Early stopping, best iteration is:\n",
      "[410]\tcv_agg's valid auc: 0.874736 + 0.009979\n",
      "Training until validation scores don't improve for 100 rounds\n",
      "[100]\tcv_agg's valid auc: 0.858855 + 0.00598643\n",
      "[200]\tcv_agg's valid auc: 0.865875 + 0.00700945\n",
      "[300]\tcv_agg's valid auc: 0.870448 + 0.00759429\n",
      "[400]\tcv_agg's valid auc: 0.872702 + 0.00813134\n",
      "[500]\tcv_agg's valid auc: 0.872942 + 0.00847664\n",
      "[600]\tcv_agg's valid auc: 0.873552 + 0.00823734\n"
     ]
    },
    {
     "name": "stderr",
     "output_type": "stream",
     "text": [
      "bagging, val_score: 0.877851:  60%|##########################################################################################################2                                                                      | 6/10 [00:54<00:38,  9.60s/it][I 2024-07-08 19:26:40,807] Trial 32 finished with value: 0.8735897370053641 and parameters: {'bagging_fraction': 0.7736105755426553, 'bagging_freq': 5}. Best is trial 30 with value: 0.8773511652746092.\n",
      "bagging, val_score: 0.877851:  60%|##########################################################################################################2                                                                      | 6/10 [00:54<00:38,  9.60s/it]"
     ]
    },
    {
     "name": "stdout",
     "output_type": "stream",
     "text": [
      "[700]\tcv_agg's valid auc: 0.873396 + 0.00791906\n",
      "Early stopping, best iteration is:\n",
      "[615]\tcv_agg's valid auc: 0.87359 + 0.00823421\n",
      "Training until validation scores don't improve for 100 rounds\n",
      "[100]\tcv_agg's valid auc: 0.854404 + 0.00687526\n",
      "[200]\tcv_agg's valid auc: 0.863733 + 0.00925237\n",
      "[300]\tcv_agg's valid auc: 0.869086 + 0.00848038\n",
      "[400]\tcv_agg's valid auc: 0.870841 + 0.00879502\n",
      "[500]\tcv_agg's valid auc: 0.871997 + 0.00808328\n",
      "[600]\tcv_agg's valid auc: 0.872293 + 0.00718864\n"
     ]
    },
    {
     "name": "stderr",
     "output_type": "stream",
     "text": [
      "bagging, val_score: 0.877851:  70%|###########################################################################################################################9                                                     | 7/10 [01:05<00:30, 10.12s/it][I 2024-07-08 19:26:52,008] Trial 33 finished with value: 0.8723931104614708 and parameters: {'bagging_fraction': 0.740172455801205, 'bagging_freq': 4}. Best is trial 30 with value: 0.8773511652746092.\n",
      "bagging, val_score: 0.877851:  70%|###########################################################################################################################9                                                     | 7/10 [01:05<00:30, 10.12s/it]"
     ]
    },
    {
     "name": "stdout",
     "output_type": "stream",
     "text": [
      "Early stopping, best iteration is:\n",
      "[593]\tcv_agg's valid auc: 0.872393 + 0.00732122\n",
      "Training until validation scores don't improve for 100 rounds\n",
      "[100]\tcv_agg's valid auc: 0.864433 + 0.0131731\n",
      "[200]\tcv_agg's valid auc: 0.86947 + 0.0118304\n",
      "[300]\tcv_agg's valid auc: 0.873097 + 0.0124988\n",
      "[400]\tcv_agg's valid auc: 0.873615 + 0.0124345\n",
      "[500]\tcv_agg's valid auc: 0.874573 + 0.0120549\n",
      "[600]\tcv_agg's valid auc: 0.874783 + 0.0120317\n",
      "[700]\tcv_agg's valid auc: 0.874661 + 0.0120274\n",
      "[800]\tcv_agg's valid auc: 0.874788 + 0.011884\n"
     ]
    },
    {
     "name": "stderr",
     "output_type": "stream",
     "text": [
      "bagging, val_score: 0.877851:  80%|#############################################################################################################################################6                                   | 8/10 [01:16<00:20, 10.43s/it][I 2024-07-08 19:27:03,106] Trial 34 finished with value: 0.875020925234236 and parameters: {'bagging_fraction': 0.8420296426472925, 'bagging_freq': 1}. Best is trial 30 with value: 0.8773511652746092.\n",
      "bagging, val_score: 0.877851:  80%|#############################################################################################################################################6                                   | 8/10 [01:16<00:20, 10.43s/it]"
     ]
    },
    {
     "name": "stdout",
     "output_type": "stream",
     "text": [
      "Early stopping, best iteration is:\n",
      "[749]\tcv_agg's valid auc: 0.875021 + 0.0120154\n",
      "Training until validation scores don't improve for 100 rounds\n",
      "[100]\tcv_agg's valid auc: 0.849199 + 0.00919171\n",
      "[200]\tcv_agg's valid auc: 0.858057 + 0.0109415\n",
      "[300]\tcv_agg's valid auc: 0.862105 + 0.0126599\n",
      "[400]\tcv_agg's valid auc: 0.865145 + 0.012766\n",
      "[500]\tcv_agg's valid auc: 0.867636 + 0.0123373\n",
      "[600]\tcv_agg's valid auc: 0.868486 + 0.012585\n",
      "[700]\tcv_agg's valid auc: 0.868867 + 0.012246\n",
      "[800]\tcv_agg's valid auc: 0.86918 + 0.0121024\n",
      "[900]\tcv_agg's valid auc: 0.869491 + 0.0120359\n"
     ]
    },
    {
     "name": "stderr",
     "output_type": "stream",
     "text": [
      "bagging, val_score: 0.877851:  90%|###############################################################################################################################################################3                 | 9/10 [01:29<00:11, 11.16s/it][I 2024-07-08 19:27:15,858] Trial 35 finished with value: 0.86960142944002 and parameters: {'bagging_fraction': 0.5843194070432557, 'bagging_freq': 6}. Best is trial 30 with value: 0.8773511652746092.\n",
      "bagging, val_score: 0.877851:  90%|###############################################################################################################################################################3                 | 9/10 [01:29<00:11, 11.16s/it]"
     ]
    },
    {
     "name": "stdout",
     "output_type": "stream",
     "text": [
      "[1000]\tcv_agg's valid auc: 0.869389 + 0.0121454\n",
      "Did not meet early stopping. Best iteration is:\n",
      "[920]\tcv_agg's valid auc: 0.869601 + 0.0122302\n",
      "Training until validation scores don't improve for 100 rounds\n",
      "[100]\tcv_agg's valid auc: 0.864066 + 0.00974135\n",
      "[200]\tcv_agg's valid auc: 0.868144 + 0.00919265\n",
      "[300]\tcv_agg's valid auc: 0.871943 + 0.00920453\n",
      "[400]\tcv_agg's valid auc: 0.87357 + 0.0086077\n",
      "[500]\tcv_agg's valid auc: 0.873595 + 0.00822093\n",
      "[600]\tcv_agg's valid auc: 0.874165 + 0.0081752\n",
      "[700]\tcv_agg's valid auc: 0.874224 + 0.00838092\n",
      "[800]\tcv_agg's valid auc: 0.874626 + 0.00878895\n",
      "[900]\tcv_agg's valid auc: 0.8746 + 0.00863162\n"
     ]
    },
    {
     "name": "stderr",
     "output_type": "stream",
     "text": [
      "bagging, val_score: 0.877851: 100%|################################################################################################################################################################################| 10/10 [01:42<00:00, 11.72s/it][I 2024-07-08 19:27:28,837] Trial 36 finished with value: 0.8747724390125757 and parameters: {'bagging_fraction': 0.8740216781414555, 'bagging_freq': 3}. Best is trial 30 with value: 0.8773511652746092.\n",
      "bagging, val_score: 0.877851: 100%|################################################################################################################################################################################| 10/10 [01:42<00:00, 10.27s/it]\n"
     ]
    },
    {
     "name": "stdout",
     "output_type": "stream",
     "text": [
      "Early stopping, best iteration is:\n",
      "[862]\tcv_agg's valid auc: 0.874772 + 0.00862407\n"
     ]
    },
    {
     "name": "stderr",
     "output_type": "stream",
     "text": [
      "feature_fraction_stage2, val_score: 0.877851:   0%|                                                                                                                                                                          | 0/3 [00:00<?, ?it/s]"
     ]
    },
    {
     "name": "stdout",
     "output_type": "stream",
     "text": [
      "Training until validation scores don't improve for 100 rounds\n",
      "[100]\tcv_agg's valid auc: 0.862987 + 0.0123374\n",
      "[200]\tcv_agg's valid auc: 0.868638 + 0.0105233\n",
      "[300]\tcv_agg's valid auc: 0.873369 + 0.00994999\n",
      "[400]\tcv_agg's valid auc: 0.874382 + 0.00968651\n",
      "[500]\tcv_agg's valid auc: 0.87455 + 0.00953323\n"
     ]
    },
    {
     "name": "stderr",
     "output_type": "stream",
     "text": [
      "feature_fraction_stage2, val_score: 0.877851:  33%|######################################################                                                                                                            | 1/3 [00:11<00:22, 11.38s/it][I 2024-07-08 19:27:40,222] Trial 37 finished with value: 0.8748427153677999 and parameters: {'feature_fraction': 0.44800000000000006}. Best is trial 37 with value: 0.8748427153677999.\n",
      "feature_fraction_stage2, val_score: 0.877851:  33%|######################################################                                                                                                            | 1/3 [00:11<00:22, 11.38s/it]"
     ]
    },
    {
     "name": "stdout",
     "output_type": "stream",
     "text": [
      "Early stopping, best iteration is:\n",
      "[456]\tcv_agg's valid auc: 0.874843 + 0.009469\n",
      "Training until validation scores don't improve for 100 rounds\n",
      "[100]\tcv_agg's valid auc: 0.86499 + 0.00801978\n",
      "[200]\tcv_agg's valid auc: 0.870262 + 0.00954607\n",
      "[300]\tcv_agg's valid auc: 0.874574 + 0.00842169\n",
      "[400]\tcv_agg's valid auc: 0.876387 + 0.00826694\n",
      "[500]\tcv_agg's valid auc: 0.876748 + 0.00859064\n",
      "[600]\tcv_agg's valid auc: 0.877052 + 0.00860714\n",
      "[700]\tcv_agg's valid auc: 0.877262 + 0.00861159\n",
      "[800]\tcv_agg's valid auc: 0.877575 + 0.00850321\n",
      "[900]\tcv_agg's valid auc: 0.877638 + 0.00834026\n"
     ]
    },
    {
     "name": "stderr",
     "output_type": "stream",
     "text": [
      "feature_fraction_stage2, val_score: 0.877851:  67%|############################################################################################################                                                      | 2/3 [00:24<00:12, 12.27s/it][I 2024-07-08 19:27:53,114] Trial 38 finished with value: 0.8778507172242267 and parameters: {'feature_fraction': 0.41600000000000004}. Best is trial 38 with value: 0.8778507172242267.\n",
      "feature_fraction_stage2, val_score: 0.877851:  67%|############################################################################################################                                                      | 2/3 [00:24<00:12, 12.27s/it]"
     ]
    },
    {
     "name": "stdout",
     "output_type": "stream",
     "text": [
      "[1000]\tcv_agg's valid auc: 0.877674 + 0.00822652\n",
      "Did not meet early stopping. Best iteration is:\n",
      "[920]\tcv_agg's valid auc: 0.877851 + 0.00821297\n",
      "Training until validation scores don't improve for 100 rounds\n",
      "[100]\tcv_agg's valid auc: 0.864388 + 0.00807967\n",
      "[200]\tcv_agg's valid auc: 0.869273 + 0.00773254\n",
      "[300]\tcv_agg's valid auc: 0.873254 + 0.0078304\n",
      "[400]\tcv_agg's valid auc: 0.87394 + 0.00863213\n",
      "[500]\tcv_agg's valid auc: 0.874232 + 0.00886628\n",
      "[600]\tcv_agg's valid auc: 0.874405 + 0.00896645\n",
      "[700]\tcv_agg's valid auc: 0.874739 + 0.00912807\n",
      "[800]\tcv_agg's valid auc: 0.874819 + 0.00890052\n",
      "[900]\tcv_agg's valid auc: 0.874953 + 0.00881597\n"
     ]
    },
    {
     "name": "stderr",
     "output_type": "stream",
     "text": [
      "feature_fraction_stage2, val_score: 0.877851: 100%|##################################################################################################################################################################| 3/3 [00:37<00:00, 12.48s/it][I 2024-07-08 19:28:05,846] Trial 39 finished with value: 0.8750509836371694 and parameters: {'feature_fraction': 0.48000000000000004}. Best is trial 38 with value: 0.8778507172242267.\n",
      "feature_fraction_stage2, val_score: 0.877851: 100%|##################################################################################################################################################################| 3/3 [00:37<00:00, 12.34s/it]\n"
     ]
    },
    {
     "name": "stdout",
     "output_type": "stream",
     "text": [
      "Early stopping, best iteration is:\n",
      "[879]\tcv_agg's valid auc: 0.875051 + 0.00878836\n"
     ]
    },
    {
     "name": "stderr",
     "output_type": "stream",
     "text": [
      "regularization_factors, val_score: 0.877851:   0%|                                                                                                                                                                          | 0/20 [00:00<?, ?it/s]"
     ]
    },
    {
     "name": "stdout",
     "output_type": "stream",
     "text": [
      "Training until validation scores don't improve for 100 rounds\n",
      "[100]\tcv_agg's valid auc: 0.866509 + 0.00848465\n",
      "[200]\tcv_agg's valid auc: 0.873253 + 0.00906872\n",
      "[300]\tcv_agg's valid auc: 0.875736 + 0.00891879\n",
      "[400]\tcv_agg's valid auc: 0.876627 + 0.00918506\n",
      "[500]\tcv_agg's valid auc: 0.877446 + 0.00898811\n",
      "[600]\tcv_agg's valid auc: 0.877497 + 0.00891623\n"
     ]
    },
    {
     "name": "stderr",
     "output_type": "stream",
     "text": [
      "regularization_factors, val_score: 0.877851:   5%|########1                                                                                                                                                         | 1/20 [00:09<03:00,  9.52s/it][I 2024-07-08 19:28:15,373] Trial 40 finished with value: 0.8775017008125013 and parameters: {'lambda_l1': 0.08143674574757287, 'lambda_l2': 0.18452981630001233}. Best is trial 40 with value: 0.8775017008125013.\n",
      "regularization_factors, val_score: 0.877851:   5%|########1                                                                                                                                                         | 1/20 [00:09<03:00,  9.52s/it]"
     ]
    },
    {
     "name": "stdout",
     "output_type": "stream",
     "text": [
      "Early stopping, best iteration is:\n",
      "[540]\tcv_agg's valid auc: 0.877502 + 0.00890961\n",
      "Training until validation scores don't improve for 100 rounds\n",
      "[100]\tcv_agg's valid auc: 0.868244 + 0.00791098\n",
      "[200]\tcv_agg's valid auc: 0.875058 + 0.00784757\n",
      "[300]\tcv_agg's valid auc: 0.876882 + 0.00801122\n",
      "[400]\tcv_agg's valid auc: 0.878481 + 0.00800137\n",
      "[500]\tcv_agg's valid auc: 0.878773 + 0.00793591\n"
     ]
    },
    {
     "name": "stderr",
     "output_type": "stream",
     "text": [
      "regularization_factors, val_score: 0.878792:  10%|################2                                                                                                                                                 | 2/20 [00:19<02:52,  9.56s/it][I 2024-07-08 19:28:24,960] Trial 41 finished with value: 0.8787922937476172 and parameters: {'lambda_l1': 0.19428297702206526, 'lambda_l2': 0.3582690759984129}. Best is trial 41 with value: 0.8787922937476172.\n",
      "regularization_factors, val_score: 0.878792:  10%|################2                                                                                                                                                 | 2/20 [00:19<02:52,  9.56s/it]"
     ]
    },
    {
     "name": "stdout",
     "output_type": "stream",
     "text": [
      "Early stopping, best iteration is:\n",
      "[447]\tcv_agg's valid auc: 0.878792 + 0.00787975\n",
      "Training until validation scores don't improve for 100 rounds\n",
      "[100]\tcv_agg's valid auc: 0.86742 + 0.00564309\n",
      "[200]\tcv_agg's valid auc: 0.874236 + 0.00667018\n",
      "[300]\tcv_agg's valid auc: 0.876066 + 0.00705297\n",
      "[400]\tcv_agg's valid auc: 0.877427 + 0.00710229\n",
      "[500]\tcv_agg's valid auc: 0.877789 + 0.00730425\n"
     ]
    },
    {
     "name": "stderr",
     "output_type": "stream",
     "text": [
      "regularization_factors, val_score: 0.878792:  15%|########################3                                                                                                                                         | 3/20 [00:27<02:33,  9.01s/it][I 2024-07-08 19:28:33,306] Trial 42 finished with value: 0.8777892373365356 and parameters: {'lambda_l1': 0.2801970306757319, 'lambda_l2': 0.5107104962927623}. Best is trial 41 with value: 0.8787922937476172.\n",
      "regularization_factors, val_score: 0.878792:  15%|########################3                                                                                                                                         | 3/20 [00:27<02:33,  9.01s/it]"
     ]
    },
    {
     "name": "stdout",
     "output_type": "stream",
     "text": [
      "Early stopping, best iteration is:\n",
      "[460]\tcv_agg's valid auc: 0.877789 + 0.00730436\n",
      "Training until validation scores don't improve for 100 rounds\n",
      "[100]\tcv_agg's valid auc: 0.870146 + 0.00939966\n",
      "[200]\tcv_agg's valid auc: 0.874783 + 0.00924672\n",
      "[300]\tcv_agg's valid auc: 0.877394 + 0.00854389\n",
      "[400]\tcv_agg's valid auc: 0.878598 + 0.0079796\n",
      "[500]\tcv_agg's valid auc: 0.879139 + 0.00770107\n"
     ]
    },
    {
     "name": "stderr",
     "output_type": "stream",
     "text": [
      "regularization_factors, val_score: 0.879206:  20%|################################4                                                                                                                                 | 4/20 [00:37<02:30,  9.41s/it][I 2024-07-08 19:28:43,327] Trial 43 finished with value: 0.8792059205835919 and parameters: {'lambda_l1': 0.29061899346648806, 'lambda_l2': 0.8214043226333126}. Best is trial 43 with value: 0.8792059205835919.\n",
      "regularization_factors, val_score: 0.879206:  20%|################################4                                                                                                                                 | 4/20 [00:37<02:30,  9.41s/it]"
     ]
    },
    {
     "name": "stdout",
     "output_type": "stream",
     "text": [
      "[600]\tcv_agg's valid auc: 0.879205 + 0.00760983\n",
      "Early stopping, best iteration is:\n",
      "[525]\tcv_agg's valid auc: 0.879206 + 0.00760803\n",
      "Training until validation scores don't improve for 100 rounds\n",
      "[100]\tcv_agg's valid auc: 0.871481 + 0.00638854\n",
      "[200]\tcv_agg's valid auc: 0.875973 + 0.00676894\n",
      "[300]\tcv_agg's valid auc: 0.877408 + 0.00643397\n",
      "[400]\tcv_agg's valid auc: 0.878519 + 0.00624896\n",
      "[500]\tcv_agg's valid auc: 0.878893 + 0.00638981\n"
     ]
    },
    {
     "name": "stderr",
     "output_type": "stream",
     "text": [
      "regularization_factors, val_score: 0.879206:  25%|########################################5                                                                                                                         | 5/20 [00:46<02:17,  9.19s/it][I 2024-07-08 19:28:52,130] Trial 44 finished with value: 0.8789003242071652 and parameters: {'lambda_l1': 0.528236849965625, 'lambda_l2': 1.475431474992116}. Best is trial 43 with value: 0.8792059205835919.\n",
      "regularization_factors, val_score: 0.879206:  25%|########################################5                                                                                                                         | 5/20 [00:46<02:17,  9.19s/it]"
     ]
    },
    {
     "name": "stdout",
     "output_type": "stream",
     "text": [
      "Early stopping, best iteration is:\n",
      "[498]\tcv_agg's valid auc: 0.8789 + 0.00637882\n",
      "Training until validation scores don't improve for 100 rounds\n",
      "[100]\tcv_agg's valid auc: 0.874721 + 0.00894005\n",
      "[200]\tcv_agg's valid auc: 0.877719 + 0.00868054\n",
      "[300]\tcv_agg's valid auc: 0.878901 + 0.00831947\n",
      "[400]\tcv_agg's valid auc: 0.879716 + 0.00811069\n",
      "[500]\tcv_agg's valid auc: 0.879915 + 0.00828546\n"
     ]
    },
    {
     "name": "stderr",
     "output_type": "stream",
     "text": [
      "regularization_factors, val_score: 0.879940:  30%|################################################6                                                                                                                 | 6/20 [00:55<02:07,  9.10s/it][I 2024-07-08 19:29:01,061] Trial 45 finished with value: 0.8799400642853795 and parameters: {'lambda_l1': 1.197466234302863, 'lambda_l2': 4.092551445111128}. Best is trial 45 with value: 0.8799400642853795.\n",
      "regularization_factors, val_score: 0.879940:  30%|################################################6                                                                                                                 | 6/20 [00:55<02:07,  9.10s/it]"
     ]
    },
    {
     "name": "stdout",
     "output_type": "stream",
     "text": [
      "Early stopping, best iteration is:\n",
      "[451]\tcv_agg's valid auc: 0.87994 + 0.00827455\n",
      "Training until validation scores don't improve for 100 rounds\n",
      "[100]\tcv_agg's valid auc: 0.873838 + 0.00892848\n",
      "[200]\tcv_agg's valid auc: 0.877279 + 0.00919839\n",
      "[300]\tcv_agg's valid auc: 0.879036 + 0.00887325\n",
      "[400]\tcv_agg's valid auc: 0.879727 + 0.00887618\n",
      "[500]\tcv_agg's valid auc: 0.880314 + 0.00867957\n"
     ]
    },
    {
     "name": "stderr",
     "output_type": "stream",
     "text": [
      "regularization_factors, val_score: 0.880338:  35%|########################################################7                                                                                                         | 7/20 [01:03<01:53,  8.70s/it][I 2024-07-08 19:29:08,929] Trial 46 finished with value: 0.8803384981630694 and parameters: {'lambda_l1': 1.307812364878438, 'lambda_l2': 5.133738935534521}. Best is trial 46 with value: 0.8803384981630694.\n",
      "regularization_factors, val_score: 0.880338:  35%|########################################################7                                                                                                         | 7/20 [01:03<01:53,  8.70s/it]"
     ]
    },
    {
     "name": "stdout",
     "output_type": "stream",
     "text": [
      "[600]\tcv_agg's valid auc: 0.880315 + 0.00867815\n",
      "Early stopping, best iteration is:\n",
      "[507]\tcv_agg's valid auc: 0.880338 + 0.00864616\n",
      "Training until validation scores don't improve for 100 rounds\n",
      "[100]\tcv_agg's valid auc: 0.875681 + 0.00933458\n",
      "[200]\tcv_agg's valid auc: 0.878959 + 0.00992381\n",
      "[300]\tcv_agg's valid auc: 0.880669 + 0.00942837\n",
      "[400]\tcv_agg's valid auc: 0.880781 + 0.00923033\n",
      "[500]\tcv_agg's valid auc: 0.880982 + 0.00959097\n"
     ]
    },
    {
     "name": "stderr",
     "output_type": "stream",
     "text": [
      "regularization_factors, val_score: 0.881237:  40%|################################################################8                                                                                                 | 8/20 [01:13<01:49,  9.14s/it][I 2024-07-08 19:29:19,018] Trial 47 finished with value: 0.8812372533456446 and parameters: {'lambda_l1': 1.293158729950494, 'lambda_l2': 5.840821980140348}. Best is trial 47 with value: 0.8812372533456446.\n",
      "regularization_factors, val_score: 0.881237:  40%|################################################################8                                                                                                 | 8/20 [01:13<01:49,  9.14s/it]"
     ]
    },
    {
     "name": "stdout",
     "output_type": "stream",
     "text": [
      "Early stopping, best iteration is:\n",
      "[459]\tcv_agg's valid auc: 0.881237 + 0.00938703\n",
      "Training until validation scores don't improve for 100 rounds\n",
      "[100]\tcv_agg's valid auc: 0.875102 + 0.0107684\n",
      "[200]\tcv_agg's valid auc: 0.880552 + 0.0106103\n",
      "[300]\tcv_agg's valid auc: 0.88191 + 0.0104494\n"
     ]
    },
    {
     "name": "stderr",
     "output_type": "stream",
     "text": [
      "regularization_factors, val_score: 0.881961:  45%|########################################################################9                                                                                         | 9/20 [01:17<01:24,  7.68s/it][I 2024-07-08 19:29:23,483] Trial 48 finished with value: 0.8819614708733466 and parameters: {'lambda_l1': 5.290115032032674, 'lambda_l2': 8.959059936462246}. Best is trial 48 with value: 0.8819614708733466.\n",
      "regularization_factors, val_score: 0.881961:  45%|########################################################################9                                                                                         | 9/20 [01:17<01:24,  7.68s/it]"
     ]
    },
    {
     "name": "stdout",
     "output_type": "stream",
     "text": [
      "Early stopping, best iteration is:\n",
      "[273]\tcv_agg's valid auc: 0.881961 + 0.0103761\n",
      "Training until validation scores don't improve for 100 rounds\n",
      "[100]\tcv_agg's valid auc: 0.874179 + 0.00926585\n",
      "[200]\tcv_agg's valid auc: 0.881315 + 0.0083431\n",
      "[300]\tcv_agg's valid auc: 0.881742 + 0.00863462\n"
     ]
    },
    {
     "name": "stderr",
     "output_type": "stream",
     "text": [
      "regularization_factors, val_score: 0.881961:  50%|################################################################################5                                                                                | 10/20 [01:21<01:05,  6.52s/it][I 2024-07-08 19:29:27,404] Trial 49 finished with value: 0.8817468899839845 and parameters: {'lambda_l1': 9.842877442218184, 'lambda_l2': 7.058134176019311}. Best is trial 48 with value: 0.8819614708733466.\n",
      "regularization_factors, val_score: 0.881961:  50%|################################################################################5                                                                                | 10/20 [01:21<01:05,  6.52s/it]"
     ]
    },
    {
     "name": "stdout",
     "output_type": "stream",
     "text": [
      "[400]\tcv_agg's valid auc: 0.881745 + 0.0086381\n",
      "Early stopping, best iteration is:\n",
      "[314]\tcv_agg's valid auc: 0.881747 + 0.00864069\n",
      "Training until validation scores don't improve for 100 rounds\n",
      "[100]\tcv_agg's valid auc: 0.876236 + 0.00970109\n",
      "[200]\tcv_agg's valid auc: 0.881889 + 0.00930026\n",
      "[300]\tcv_agg's valid auc: 0.882865 + 0.00943263\n"
     ]
    },
    {
     "name": "stderr",
     "output_type": "stream",
     "text": [
      "regularization_factors, val_score: 0.882868:  55%|########################################################################################5                                                                        | 11/20 [01:25<00:50,  5.66s/it][I 2024-07-08 19:29:31,123] Trial 50 finished with value: 0.8828676597472538 and parameters: {'lambda_l1': 5.403515266626482, 'lambda_l2': 7.091511491887405}. Best is trial 50 with value: 0.8828676597472538.\n",
      "regularization_factors, val_score: 0.882868:  55%|########################################################################################5                                                                        | 11/20 [01:25<00:50,  5.66s/it]"
     ]
    },
    {
     "name": "stdout",
     "output_type": "stream",
     "text": [
      "Early stopping, best iteration is:\n",
      "[252]\tcv_agg's valid auc: 0.882868 + 0.00953492\n",
      "Training until validation scores don't improve for 100 rounds\n",
      "[100]\tcv_agg's valid auc: 0.873469 + 0.00982831\n",
      "[200]\tcv_agg's valid auc: 0.880869 + 0.00953436\n",
      "[300]\tcv_agg's valid auc: 0.881901 + 0.00968037\n"
     ]
    },
    {
     "name": "stderr",
     "output_type": "stream",
     "text": [
      "regularization_factors, val_score: 0.882868:  60%|################################################################################################6                                                                | 12/20 [01:28<00:38,  4.87s/it][I 2024-07-08 19:29:34,169] Trial 51 finished with value: 0.8819019561942936 and parameters: {'lambda_l1': 8.91192964476864, 'lambda_l2': 9.899520451304648}. Best is trial 50 with value: 0.8828676597472538.\n",
      "regularization_factors, val_score: 0.882868:  60%|################################################################################################6                                                                | 12/20 [01:28<00:38,  4.87s/it]"
     ]
    },
    {
     "name": "stdout",
     "output_type": "stream",
     "text": [
      "Early stopping, best iteration is:\n",
      "[246]\tcv_agg's valid auc: 0.881902 + 0.00967938\n",
      "Training until validation scores don't improve for 100 rounds\n",
      "[100]\tcv_agg's valid auc: 0.874546 + 0.0102108\n",
      "[200]\tcv_agg's valid auc: 0.881037 + 0.0090382\n",
      "[300]\tcv_agg's valid auc: 0.881796 + 0.00922206\n"
     ]
    },
    {
     "name": "stderr",
     "output_type": "stream",
     "text": [
      "regularization_factors, val_score: 0.882868:  65%|########################################################################################################6                                                        | 13/20 [01:32<00:31,  4.52s/it][I 2024-07-08 19:29:37,906] Trial 52 finished with value: 0.8818108790325688 and parameters: {'lambda_l1': 8.161583517338737, 'lambda_l2': 8.038411760274371}. Best is trial 50 with value: 0.8828676597472538.\n",
      "regularization_factors, val_score: 0.882868:  65%|########################################################################################################6                                                        | 13/20 [01:32<00:31,  4.52s/it]"
     ]
    },
    {
     "name": "stdout",
     "output_type": "stream",
     "text": [
      "Early stopping, best iteration is:\n",
      "[240]\tcv_agg's valid auc: 0.881811 + 0.00922682\n",
      "Training until validation scores don't improve for 100 rounds\n",
      "[100]\tcv_agg's valid auc: 0.873401 + 0.0112472\n",
      "[200]\tcv_agg's valid auc: 0.881917 + 0.0105851\n",
      "[300]\tcv_agg's valid auc: 0.882536 + 0.0105019\n",
      "[400]\tcv_agg's valid auc: 0.882541 + 0.0104956\n"
     ]
    },
    {
     "name": "stderr",
     "output_type": "stream",
     "text": [
      "regularization_factors, val_score: 0.882868:  70%|################################################################################################################7                                                | 14/20 [01:36<00:26,  4.36s/it][I 2024-07-08 19:29:41,875] Trial 53 finished with value: 0.8825405163148013 and parameters: {'lambda_l1': 8.53414886188654, 'lambda_l2': 9.982256574033174}. Best is trial 50 with value: 0.8828676597472538.\n",
      "regularization_factors, val_score: 0.882868:  70%|################################################################################################################7                                                | 14/20 [01:36<00:26,  4.36s/it]"
     ]
    },
    {
     "name": "stdout",
     "output_type": "stream",
     "text": [
      "Early stopping, best iteration is:\n",
      "[358]\tcv_agg's valid auc: 0.882541 + 0.0104956\n",
      "Training until validation scores don't improve for 100 rounds\n",
      "[100]\tcv_agg's valid auc: 0.87487 + 0.0108595\n",
      "[200]\tcv_agg's valid auc: 0.881778 + 0.0098193\n",
      "[300]\tcv_agg's valid auc: 0.882461 + 0.00988243\n",
      "Early stopping, best iteration is:\n",
      "[229]\tcv_agg's valid auc: 0.882589 + 0.0101215\n"
     ]
    },
    {
     "name": "stderr",
     "output_type": "stream",
     "text": [
      "regularization_factors, val_score: 0.882868:  75%|########################################################################################################################7                                        | 15/20 [01:39<00:20,  4.07s/it][I 2024-07-08 19:29:45,293] Trial 54 finished with value: 0.8825887071064061 and parameters: {'lambda_l1': 7.361013390618709, 'lambda_l2': 9.956151771240265}. Best is trial 50 with value: 0.8828676597472538.\n",
      "regularization_factors, val_score: 0.882868:  75%|########################################################################################################################7                                        | 15/20 [01:39<00:20,  4.07s/it]"
     ]
    },
    {
     "name": "stdout",
     "output_type": "stream",
     "text": [
      "Training until validation scores don't improve for 100 rounds\n",
      "[100]\tcv_agg's valid auc: 0.874602 + 0.00988891\n",
      "[200]\tcv_agg's valid auc: 0.88038 + 0.00893936\n",
      "[300]\tcv_agg's valid auc: 0.880447 + 0.00900284\n",
      "[400]\tcv_agg's valid auc: 0.880448 + 0.0090029\n",
      "Early stopping, best iteration is:\n",
      "[332]\tcv_agg's valid auc: 0.880448 + 0.00900284\n"
     ]
    },
    {
     "name": "stderr",
     "output_type": "stream",
     "text": [
      "regularization_factors, val_score: 0.882868:  80%|################################################################################################################################8                                | 16/20 [01:42<00:15,  3.90s/it][I 2024-07-08 19:29:48,798] Trial 55 finished with value: 0.8804484524619923 and parameters: {'lambda_l1': 9.906059078099796, 'lambda_l2': 4.316483030153185e-08}. Best is trial 50 with value: 0.8828676597472538.\n",
      "regularization_factors, val_score: 0.882868:  80%|################################################################################################################################8                                | 16/20 [01:42<00:15,  3.90s/it]"
     ]
    },
    {
     "name": "stdout",
     "output_type": "stream",
     "text": [
      "Training until validation scores don't improve for 100 rounds\n",
      "[100]\tcv_agg's valid auc: 0.873349 + 0.0103031\n",
      "[200]\tcv_agg's valid auc: 0.880817 + 0.00897376\n",
      "[300]\tcv_agg's valid auc: 0.88148 + 0.00891432\n",
      "Early stopping, best iteration is:\n",
      "[235]\tcv_agg's valid auc: 0.881524 + 0.00902027\n"
     ]
    },
    {
     "name": "stderr",
     "output_type": "stream",
     "text": [
      "regularization_factors, val_score: 0.882868:  85%|########################################################################################################################################8                        | 17/20 [01:46<00:10,  3.66s/it][I 2024-07-08 19:29:51,889] Trial 56 finished with value: 0.8815244761823533 and parameters: {'lambda_l1': 8.92624052824222, 'lambda_l2': 6.842185185130773}. Best is trial 50 with value: 0.8828676597472538.\n",
      "regularization_factors, val_score: 0.882868:  85%|########################################################################################################################################8                        | 17/20 [01:46<00:10,  3.66s/it]"
     ]
    },
    {
     "name": "stdout",
     "output_type": "stream",
     "text": [
      "Training until validation scores don't improve for 100 rounds\n",
      "[100]\tcv_agg's valid auc: 0.860248 + 0.00990762\n",
      "[200]\tcv_agg's valid auc: 0.868072 + 0.0107338\n",
      "[300]\tcv_agg's valid auc: 0.871943 + 0.0103857\n",
      "[400]\tcv_agg's valid auc: 0.873806 + 0.0104784\n",
      "[500]\tcv_agg's valid auc: 0.874247 + 0.0103104\n",
      "[600]\tcv_agg's valid auc: 0.874762 + 0.0101832\n",
      "[700]\tcv_agg's valid auc: 0.875053 + 0.0101481\n",
      "[800]\tcv_agg's valid auc: 0.875185 + 0.0102227\n"
     ]
    },
    {
     "name": "stderr",
     "output_type": "stream",
     "text": [
      "regularization_factors, val_score: 0.882868:  90%|################################################################################################################################################9                | 18/20 [01:59<00:13,  6.59s/it][I 2024-07-08 19:30:05,320] Trial 57 finished with value: 0.8752636127882322 and parameters: {'lambda_l1': 1.0909016810285674e-07, 'lambda_l2': 0.007012943028122843}. Best is trial 50 with value: 0.8828676597472538.\n",
      "regularization_factors, val_score: 0.882868:  90%|################################################################################################################################################9                | 18/20 [01:59<00:13,  6.59s/it]"
     ]
    },
    {
     "name": "stdout",
     "output_type": "stream",
     "text": [
      "Early stopping, best iteration is:\n",
      "[757]\tcv_agg's valid auc: 0.875264 + 0.0101794\n",
      "Training until validation scores don't improve for 100 rounds\n",
      "[100]\tcv_agg's valid auc: 0.875084 + 0.00922008\n",
      "[200]\tcv_agg's valid auc: 0.88189 + 0.00775847\n"
     ]
    },
    {
     "name": "stderr",
     "output_type": "stream",
     "text": [
      "regularization_factors, val_score: 0.882868:  95%|########################################################################################################################################################9        | 19/20 [02:02<00:05,  5.50s/it][I 2024-07-08 19:30:08,273] Trial 58 finished with value: 0.8819783823899915 and parameters: {'lambda_l1': 9.905693660109025, 'lambda_l2': 7.406680354668613}. Best is trial 50 with value: 0.8828676597472538.\n",
      "regularization_factors, val_score: 0.882868:  95%|########################################################################################################################################################9        | 19/20 [02:02<00:05,  5.50s/it]"
     ]
    },
    {
     "name": "stdout",
     "output_type": "stream",
     "text": [
      "[300]\tcv_agg's valid auc: 0.881973 + 0.00788302\n",
      "Early stopping, best iteration is:\n",
      "[202]\tcv_agg's valid auc: 0.881978 + 0.00773965\n",
      "Training until validation scores don't improve for 100 rounds\n",
      "[100]\tcv_agg's valid auc: 0.875346 + 0.00970382\n",
      "[200]\tcv_agg's valid auc: 0.881769 + 0.00880826\n"
     ]
    },
    {
     "name": "stderr",
     "output_type": "stream",
     "text": [
      "regularization_factors, val_score: 0.882868: 100%|#################################################################################################################################################################| 20/20 [02:05<00:00,  4.73s/it][I 2024-07-08 19:30:11,199] Trial 59 finished with value: 0.8817991637763724 and parameters: {'lambda_l1': 9.108937623059296, 'lambda_l2': 0.04463630278701793}. Best is trial 50 with value: 0.8828676597472538.\n",
      "regularization_factors, val_score: 0.882868: 100%|#################################################################################################################################################################| 20/20 [02:05<00:00,  6.27s/it]\n"
     ]
    },
    {
     "name": "stdout",
     "output_type": "stream",
     "text": [
      "[300]\tcv_agg's valid auc: 0.881798 + 0.00884183\n",
      "Early stopping, best iteration is:\n",
      "[210]\tcv_agg's valid auc: 0.881799 + 0.00883913\n"
     ]
    },
    {
     "name": "stderr",
     "output_type": "stream",
     "text": [
      "min_child_samples, val_score: 0.882868:   0%|                                                                                                                                                                                | 0/5 [00:00<?, ?it/s]"
     ]
    },
    {
     "name": "stdout",
     "output_type": "stream",
     "text": [
      "Training until validation scores don't improve for 100 rounds\n",
      "[100]\tcv_agg's valid auc: 0.87552 + 0.00968667\n",
      "[200]\tcv_agg's valid auc: 0.881605 + 0.0100983\n",
      "[300]\tcv_agg's valid auc: 0.882618 + 0.00988248\n"
     ]
    },
    {
     "name": "stderr",
     "output_type": "stream",
     "text": [
      "min_child_samples, val_score: 0.882868:  20%|#################################6                                                                                                                                      | 1/5 [00:03<00:14,  3.75s/it][I 2024-07-08 19:30:14,956] Trial 60 finished with value: 0.8826541219791354 and parameters: {'min_child_samples': 25}. Best is trial 60 with value: 0.8826541219791354.\n",
      "min_child_samples, val_score: 0.882868:  20%|#################################6                                                                                                                                      | 1/5 [00:03<00:14,  3.75s/it]"
     ]
    },
    {
     "name": "stdout",
     "output_type": "stream",
     "text": [
      "Early stopping, best iteration is:\n",
      "[270]\tcv_agg's valid auc: 0.882654 + 0.00989728\n",
      "Training until validation scores don't improve for 100 rounds\n",
      "[100]\tcv_agg's valid auc: 0.877079 + 0.0104943\n",
      "[200]\tcv_agg's valid auc: 0.88239 + 0.0096804\n",
      "[300]\tcv_agg's valid auc: 0.88312 + 0.0101902\n"
     ]
    },
    {
     "name": "stderr",
     "output_type": "stream",
     "text": [
      "min_child_samples, val_score: 0.883258:  40%|###################################################################2                                                                                                    | 2/5 [00:07<00:11,  3.81s/it][I 2024-07-08 19:30:18,809] Trial 61 finished with value: 0.8832579399406453 and parameters: {'min_child_samples': 50}. Best is trial 61 with value: 0.8832579399406453.\n",
      "min_child_samples, val_score: 0.883258:  40%|###################################################################2                                                                                                    | 2/5 [00:07<00:11,  3.81s/it]"
     ]
    },
    {
     "name": "stdout",
     "output_type": "stream",
     "text": [
      "Early stopping, best iteration is:\n",
      "[253]\tcv_agg's valid auc: 0.883258 + 0.00984924\n",
      "Training until validation scores don't improve for 100 rounds\n",
      "[100]\tcv_agg's valid auc: 0.876574 + 0.00965599\n",
      "[200]\tcv_agg's valid auc: 0.881157 + 0.00957231\n",
      "[300]\tcv_agg's valid auc: 0.882151 + 0.00927315\n"
     ]
    },
    {
     "name": "stderr",
     "output_type": "stream",
     "text": [
      "min_child_samples, val_score: 0.883258:  60%|####################################################################################################8                                                                   | 3/5 [00:12<00:08,  4.13s/it][I 2024-07-08 19:30:23,329] Trial 62 finished with value: 0.882191466968695 and parameters: {'min_child_samples': 10}. Best is trial 61 with value: 0.8832579399406453.\n",
      "min_child_samples, val_score: 0.883258:  60%|####################################################################################################8                                                                   | 3/5 [00:12<00:08,  4.13s/it]"
     ]
    },
    {
     "name": "stdout",
     "output_type": "stream",
     "text": [
      "Early stopping, best iteration is:\n",
      "[270]\tcv_agg's valid auc: 0.882191 + 0.00924313\n",
      "Training until validation scores don't improve for 100 rounds\n",
      "[100]\tcv_agg's valid auc: 0.873232 + 0.0123169\n",
      "[200]\tcv_agg's valid auc: 0.879849 + 0.010454\n",
      "[300]\tcv_agg's valid auc: 0.881446 + 0.010665\n"
     ]
    },
    {
     "name": "stderr",
     "output_type": "stream",
     "text": [
      "min_child_samples, val_score: 0.883258:  80%|######################################################################################################################################4                                 | 4/5 [00:16<00:04,  4.13s/it][I 2024-07-08 19:30:27,454] Trial 63 finished with value: 0.8815105910757869 and parameters: {'min_child_samples': 5}. Best is trial 61 with value: 0.8832579399406453.\n",
      "min_child_samples, val_score: 0.883258:  80%|######################################################################################################################################4                                 | 4/5 [00:16<00:04,  4.13s/it]"
     ]
    },
    {
     "name": "stdout",
     "output_type": "stream",
     "text": [
      "Early stopping, best iteration is:\n",
      "[250]\tcv_agg's valid auc: 0.881511 + 0.0106572\n",
      "Training until validation scores don't improve for 100 rounds\n",
      "[100]\tcv_agg's valid auc: 0.878017 + 0.0100071\n",
      "[200]\tcv_agg's valid auc: 0.883226 + 0.00985983\n",
      "[300]\tcv_agg's valid auc: 0.884247 + 0.00934872\n"
     ]
    },
    {
     "name": "stderr",
     "output_type": "stream",
     "text": [
      "min_child_samples, val_score: 0.884472: 100%|########################################################################################################################################################################| 5/5 [00:19<00:00,  3.80s/it][I 2024-07-08 19:30:30,672] Trial 64 finished with value: 0.8844715768297383 and parameters: {'min_child_samples': 100}. Best is trial 64 with value: 0.8844715768297383.\n",
      "min_child_samples, val_score: 0.884472: 100%|########################################################################################################################################################################| 5/5 [00:19<00:00,  3.89s/it]"
     ]
    },
    {
     "name": "stdout",
     "output_type": "stream",
     "text": [
      "Early stopping, best iteration is:\n",
      "[251]\tcv_agg's valid auc: 0.884472 + 0.00971858\n",
      "Best score: 0.8844715768297383\n",
      "Best params: {'objective': 'binary', 'metric': 'auc', 'verbosity': -1, 'boosting_type': 'gbdt', 'feature_pre_filter': False, 'lambda_l1': 5.403515266626482, 'lambda_l2': 7.091511491887405, 'num_leaves': 185, 'feature_fraction': 0.4, 'bagging_fraction': 1.0, 'bagging_freq': 0, 'min_child_samples': 100}\n",
      "  Params: \n",
      "    objective: binary\n",
      "    metric: auc\n",
      "    verbosity: -1\n",
      "    boosting_type: gbdt\n",
      "    feature_pre_filter: False\n",
      "    lambda_l1: 5.403515266626482\n",
      "    lambda_l2: 7.091511491887405\n",
      "    num_leaves: 185\n",
      "    feature_fraction: 0.4\n",
      "    bagging_fraction: 1.0\n",
      "    bagging_freq: 0\n",
      "    min_child_samples: 100\n"
     ]
    },
    {
     "name": "stderr",
     "output_type": "stream",
     "text": [
      "\n"
     ]
    }
   ],
   "source": [
    "import optuna.integration.lightgbm as lgb\n",
    "\n",
    "from lightgbm import early_stopping\n",
    "from lightgbm import log_evaluation\n",
    "import sklearn.datasets\n",
    "from sklearn.model_selection import KFold\n",
    "\n",
    "\n",
    "if __name__ == \"__main__\":\n",
    "    data = outliers_data_x\n",
    "    target = outliers_data_y\n",
    "    dtrain = lgb.Dataset(data, label=target)\n",
    "\n",
    "    params = {\n",
    "        \"objective\": \"binary\",\n",
    "        \"metric\": \"auc\",\n",
    "        \"verbosity\": -1,\n",
    "        \"boosting_type\": \"gbdt\",\n",
    "    }\n",
    "\n",
    "    tuner = lgb.LightGBMTunerCV(\n",
    "        params,\n",
    "        dtrain,\n",
    "        folds=KFold(n_splits=3),\n",
    "        callbacks=[early_stopping(100), log_evaluation(100)],\n",
    "    )\n",
    "\n",
    "    tuner.run()\n",
    "\n",
    "    print(\"Best score:\", tuner.best_score)\n",
    "    best_params = tuner.best_params\n",
    "    print(\"Best params:\", best_params)\n",
    "    print(\"  Params: \")\n",
    "    for key, value in best_params.items():\n",
    "        print(\"    {}: {}\".format(key, value))"
   ]
  },
  {
   "cell_type": "raw",
   "id": "3d4e6cca-2ebd-4758-a5d5-c3c1cb05b59c",
   "metadata": {},
   "source": [
    "  Params: \n",
    "    objective: binary\n",
    "    metric: auc\n",
    "    verbosity: -1\n",
    "    boosting_type: gbdt\n",
    "    feature_pre_filter: False\n",
    "    lambda_l1: 5.403515266626482\n",
    "    lambda_l2: 7.091511491887405\n",
    "    num_leaves: 185\n",
    "    feature_fraction: 0.4\n",
    "    bagging_fraction: 1.0\n",
    "    bagging_freq: 0\n",
    "    min_child_samples: 100"
   ]
  },
  {
   "cell_type": "code",
   "execution_count": 9,
   "id": "fa27e6be-4df5-4770-9392-4802f2b8b472",
   "metadata": {},
   "outputs": [],
   "source": [
    "import lightgbm as lgbm\n",
    "model_lgbm = lgbm.LGBMClassifier(\n",
    "    objective='binary',\n",
    "    metric='auc',\n",
    "    verbosity=-1,\n",
    "    boosting_type='gbdt',\n",
    "    feature_pre_filter=False,\n",
    "    lambda_l1=5.403515266626482,\n",
    "    lambda_l2=7.091511491887405,\n",
    "    num_leaves=185,\n",
    "    feature_fraction=0.4,\n",
    "    bagging_fraction=1.0,\n",
    "    bagging_freq=0,\n",
    "    min_child_samples=100,\n",
    "    random_state=42,\n",
    "    is_unbalance=True,\n",
    ")"
   ]
  },
  {
   "cell_type": "code",
   "execution_count": 11,
   "id": "361043cc-3ab1-4ff7-82a6-95eba1f7aa13",
   "metadata": {},
   "outputs": [
    {
     "data": {
      "image/png": "[encoded data removed]",
      "text/plain": [
       "<Figure size 1200x800 with 1 Axes>"
      ]
     },
     "metadata": {},
     "output_type": "display_data"
    },
    {
     "data": {
      "text/plain": [
       "defaultdict(collections.OrderedDict,\n",
       "            {'valid_0': OrderedDict([('auc', 0.8792135593220339)])})"
      ]
     },
     "execution_count": 11,
     "metadata": {},
     "output_type": "execute_result"
    }
   ],
   "source": [
    "X = outliers_data_x\n",
    "y = outliers_data_y\n",
    "\n",
    "train_X_cv, test_X_cv, train_y_cv, test_y_cv = train_test_split(X, y, train_size=0.8, random_state=42)\n",
    "\n",
    "model_lgbm.fit(train_X_cv, train_y_cv, eval_set=(test_X_cv, test_y_cv))\n",
    "\n",
    "\n",
    "# Get feature importances\n",
    "feature_importances = model_lgbm.feature_importances_\n",
    "\n",
    "# Create a pandas dataframe for easier visualization\n",
    "importance_df = pd.DataFrame({\n",
    "    'Features': train_X_cv.columns,\n",
    "    'Importance': feature_importances\n",
    "})\n",
    "\n",
    "# Sort the dataframe based on the feature importances\n",
    "importance_df = importance_df.sort_values(by='Importance', ascending=False)\n",
    "\n",
    "# Plot the feature importances\n",
    "plt.figure(figsize=(12, 8))\n",
    "plt.barh(importance_df['Features'], importance_df['Importance'])\n",
    "plt.xlabel('Importance')\n",
    "plt.ylabel('Features')\n",
    "plt.title('Feature Importances')\n",
    "plt.gca().invert_yaxis()\n",
    "plt.show()\n",
    "model_lgbm.best_score_"
   ]
  },
  {
   "cell_type": "code",
   "execution_count": 12,
   "id": "56dc9f5c-acb1-4bc4-b7e5-9cd45dd92471",
   "metadata": {},
   "outputs": [
    {
     "name": "stdout",
     "output_type": "stream",
     "text": [
      "0.9504566210045662\n",
      "0.8792135593220339\n",
      "              precision    recall  f1-score   support\n",
      "\n",
      "           0       0.95      1.00      0.97      4130\n",
      "           1       0.92      0.14      0.25       250\n",
      "\n",
      "    accuracy                           0.95      4380\n",
      "   macro avg       0.94      0.57      0.61      4380\n",
      "weighted avg       0.95      0.95      0.93      4380\n",
      "\n"
     ]
    }
   ],
   "source": [
    "y_test_pred_dr = model_lgbm.predict_proba(test_X_cv)\n",
    "print(accuracy_score(y_true=test_y_cv, y_pred=y_test_pred_dr[:,1].round()))\n",
    "print(roc_auc_score(y_true=test_y_cv, y_score=y_test_pred_dr[:,1], average=\"weighted\"))\n",
    "print(classification_report(test_y_cv, y_test_pred_dr[:,1].round()))"
   ]
  },
  {
   "cell_type": "code",
   "execution_count": 13,
   "id": "58add89a-ec87-42b0-88be-0c3cf4a4307b",
   "metadata": {},
   "outputs": [
    {
     "name": "stderr",
     "output_type": "stream",
     "text": [
      "\u001b[34m\u001b[1mwandb\u001b[0m: Currently logged in as: \u001b[33mqeshtir\u001b[0m (\u001b[33mqesh-squad\u001b[0m). Use \u001b[1m`wandb login --relogin`\u001b[0m to force relogin\n"
     ]
    },
    {
     "data": {
      "text/html": [
       "wandb version 0.17.4 is available!  To upgrade, please run:\n",
       " $ pip install wandb --upgrade"
      ],
      "text/plain": [
       "<IPython.core.display.HTML object>"
      ]
     },
     "metadata": {},
     "output_type": "display_data"
    },
    {
     "data": {
      "text/html": [
       "Tracking run with wandb version 0.16.5"
      ],
      "text/plain": [
       "<IPython.core.display.HTML object>"
      ]
     },
     "metadata": {},
     "output_type": "display_data"
    },
    {
     "data": {
      "text/html": [
       "Run data is saved locally in <code>C:\\Users\\realn\\PycharmProjects\\ML_training_course\\07_ITMO_FC\\EDA\\wandb\\run-20240708_193649-kkv0pyda</code>"
      ],
      "text/plain": [
       "<IPython.core.display.HTML object>"
      ]
     },
     "metadata": {},
     "output_type": "display_data"
    },
    {
     "data": {
      "text/html": [
       "Syncing run <strong><a href='https://wandb.ai/qesh-squad/Makarov_mfdp_unit_5/runs/kkv0pyda/workspace' target=\"_blank\">exp_7_lgbm_tuned</a></strong> to <a href='https://wandb.ai/qesh-squad/Makarov_mfdp_unit_5' target=\"_blank\">Weights & Biases</a> (<a href='https://wandb.me/run' target=\"_blank\">docs</a>)<br/>"
      ],
      "text/plain": [
       "<IPython.core.display.HTML object>"
      ]
     },
     "metadata": {},
     "output_type": "display_data"
    },
    {
     "data": {
      "text/html": [
       " View project at <a href='https://wandb.ai/qesh-squad/Makarov_mfdp_unit_5' target=\"_blank\">https://wandb.ai/qesh-squad/Makarov_mfdp_unit_5</a>"
      ],
      "text/plain": [
       "<IPython.core.display.HTML object>"
      ]
     },
     "metadata": {},
     "output_type": "display_data"
    },
    {
     "data": {
      "text/html": [
       " View run at <a href='https://wandb.ai/qesh-squad/Makarov_mfdp_unit_5/runs/kkv0pyda/workspace' target=\"_blank\">https://wandb.ai/qesh-squad/Makarov_mfdp_unit_5/runs/kkv0pyda/workspace</a>"
      ],
      "text/plain": [
       "<IPython.core.display.HTML object>"
      ]
     },
     "metadata": {},
     "output_type": "display_data"
    },
    {
     "name": "stderr",
     "output_type": "stream",
     "text": [
      "\u001b[34m\u001b[1mwandb\u001b[0m: \u001b[33mWARNING\u001b[0m wandb.plots.* functions are deprecated and will be removed in a future release. Please use wandb.plot.* instead.\n"
     ]
    },
    {
     "data": {
      "application/vnd.jupyter.widget-view+json": {
       "model_id": "",
       "version_major": 2,
       "version_minor": 0
      },
      "text/plain": [
       "VBox(children=(Label(value='0.027 MB of 0.027 MB uploaded\\r'), FloatProgress(value=1.0, max=1.0)))"
      ]
     },
     "metadata": {},
     "output_type": "display_data"
    },
    {
     "data": {
      "text/html": [
       "<style>\n",
       "    table.wandb td:nth-child(1) { padding: 0 10px; text-align: left ; width: auto;} td:nth-child(2) {text-align: left ; width: 100%}\n",
       "    .wandb-row { display: flex; flex-direction: row; flex-wrap: wrap; justify-content: flex-start; width: 100% }\n",
       "    .wandb-col { display: flex; flex-direction: column; flex-basis: 100%; flex: 1; padding: 10px; }\n",
       "    </style>\n",
       "<div class=\"wandb-row\"><div class=\"wandb-col\"><h3>Run history:</h3><br/><table class=\"wandb\"><tr><td>accuracy_score</td><td>▁</td></tr><tr><td>f1_score_weighted</td><td>▁</td></tr><tr><td>gini</td><td>▁</td></tr><tr><td>precision_weighted</td><td>▁</td></tr><tr><td>roc_auc_score</td><td>▁</td></tr></table><br/></div><div class=\"wandb-col\"><h3>Run summary:</h3><br/><table class=\"wandb\"><tr><td>accuracy_score</td><td>0.95046</td></tr><tr><td>f1_score_weighted</td><td>0.93299</td></tr><tr><td>gini</td><td>0.75843</td></tr><tr><td>precision_weighted</td><td>0.94913</td></tr><tr><td>roc_auc_score</td><td>0.87921</td></tr></table><br/></div></div>"
      ],
      "text/plain": [
       "<IPython.core.display.HTML object>"
      ]
     },
     "metadata": {},
     "output_type": "display_data"
    },
    {
     "data": {
      "text/html": [
       " View run <strong style=\"color:#cdcd00\">exp_7_lgbm_tuned</strong> at: <a href='https://wandb.ai/qesh-squad/Makarov_mfdp_unit_5/runs/kkv0pyda/workspace' target=\"_blank\">https://wandb.ai/qesh-squad/Makarov_mfdp_unit_5/runs/kkv0pyda/workspace</a><br/>Synced 5 W&B file(s), 1 media file(s), 3 artifact file(s) and 0 other file(s)"
      ],
      "text/plain": [
       "<IPython.core.display.HTML object>"
      ]
     },
     "metadata": {},
     "output_type": "display_data"
    },
    {
     "data": {
      "text/html": [
       "Find logs at: <code>.\\wandb\\run-20240708_193649-kkv0pyda\\logs</code>"
      ],
      "text/plain": [
       "<IPython.core.display.HTML object>"
      ]
     },
     "metadata": {},
     "output_type": "display_data"
    }
   ],
   "source": [
    "y_pred = y_test_pred_dr[:,1]\n",
    "y = test_y_cv\n",
    "\n",
    "wandb.init(\n",
    "        project=project_name, name=exp_name+\"7\"+\"_lgbm_tuned\"\n",
    "    )  # Инициализация эксперимента, project - название проекта\n",
    "wandb.log(\n",
    "    {\n",
    "        \"accuracy_score\": accuracy_score(y_true=y, y_pred=y_pred.round()),\n",
    "        \"f1_score_weighted\": f1_score(y_true=y, y_pred=y_pred.round(), average=\"weighted\"),\n",
    "        \"precision_weighted\": precision_score(y_true=y, y_pred=y_pred.round(), average=\"weighted\"),\n",
    "        \"roc_auc_score\": roc_auc_score(y_true=y, y_score=y_pred, average=\"weighted\"),\n",
    "        \"gini\": 2 * roc_auc_score(y_true=y, y_score=y_pred, average=\"weighted\") - 1\n",
    "    }\n",
    ")\n",
    "wandb.sklearn.plot_roc(y_true = y, y_probas = y_test_pred_dr)\n",
    "#wandb.sklearn.plot_class_proportions(y_train, y_test)\n",
    "wandb.finish()"
   ]
  },
  {
   "cell_type": "markdown",
   "id": "d96c701f-c652-40bd-a5e4-045074af6c64",
   "metadata": {},
   "source": [
    "### Добавим разбалансированность классов в условие тюнинга"
   ]
  },
  {
   "cell_type": "code",
   "execution_count": 14,
   "id": "264770d1-7e63-473f-ad6e-bd28d266a2b6",
   "metadata": {},
   "outputs": [
    {
     "name": "stderr",
     "output_type": "stream",
     "text": [
      "[I 2024-07-08 19:42:54,687] A new study created in memory with name: no-name-e6d30984-3ac1-4c63-a615-b5797f2ff73f\n",
      "feature_fraction, val_score: -inf:   0%|                                                                                                                                                                                     | 0/7 [00:00<?, ?it/s]"
     ]
    },
    {
     "name": "stdout",
     "output_type": "stream",
     "text": [
      "Training until validation scores don't improve for 100 rounds\n",
      "[100]\tcv_agg's valid auc: 0.864683 + 0.00968072\n",
      "[200]\tcv_agg's valid auc: 0.86408 + 0.0108459\n"
     ]
    },
    {
     "name": "stderr",
     "output_type": "stream",
     "text": [
      "feature_fraction, val_score: 0.865571:  14%|########################1                                                                                                                                                | 1/7 [00:02<00:14,  2.35s/it][I 2024-07-08 19:42:57,046] Trial 0 finished with value: 0.8655705436437381 and parameters: {'feature_fraction': 0.8999999999999999}. Best is trial 0 with value: 0.8655705436437381.\n",
      "feature_fraction, val_score: 0.865571:  14%|########################1                                                                                                                                                | 1/7 [00:02<00:14,  2.35s/it]"
     ]
    },
    {
     "name": "stdout",
     "output_type": "stream",
     "text": [
      "Early stopping, best iteration is:\n",
      "[129]\tcv_agg's valid auc: 0.865571 + 0.009372\n",
      "Training until validation scores don't improve for 100 rounds\n",
      "[100]\tcv_agg's valid auc: 0.866989 + 0.0132125\n",
      "[200]\tcv_agg's valid auc: 0.866168 + 0.0141747\n"
     ]
    },
    {
     "name": "stderr",
     "output_type": "stream",
     "text": [
      "feature_fraction, val_score: 0.868024:  29%|################################################2                                                                                                                        | 2/7 [00:04<00:12,  2.47s/it][I 2024-07-08 19:42:59,602] Trial 1 finished with value: 0.8680244856818956 and parameters: {'feature_fraction': 0.7}. Best is trial 1 with value: 0.8680244856818956.\n",
      "feature_fraction, val_score: 0.868024:  29%|################################################2                                                                                                                        | 2/7 [00:04<00:12,  2.47s/it]"
     ]
    },
    {
     "name": "stdout",
     "output_type": "stream",
     "text": [
      "Early stopping, best iteration is:\n",
      "[142]\tcv_agg's valid auc: 0.868024 + 0.0127878\n",
      "Training until validation scores don't improve for 100 rounds\n",
      "[100]\tcv_agg's valid auc: 0.869424 + 0.0106137\n",
      "[200]\tcv_agg's valid auc: 0.869004 + 0.0108556\n"
     ]
    },
    {
     "name": "stderr",
     "output_type": "stream",
     "text": [
      "feature_fraction, val_score: 0.871378:  43%|########################################################################4                                                                                                | 3/7 [00:07<00:09,  2.38s/it][I 2024-07-08 19:43:01,873] Trial 2 finished with value: 0.8713780144716919 and parameters: {'feature_fraction': 0.4}. Best is trial 2 with value: 0.8713780144716919.\n",
      "feature_fraction, val_score: 0.871378:  43%|########################################################################4                                                                                                | 3/7 [00:07<00:09,  2.38s/it]"
     ]
    },
    {
     "name": "stdout",
     "output_type": "stream",
     "text": [
      "Early stopping, best iteration is:\n",
      "[132]\tcv_agg's valid auc: 0.871378 + 0.0111007\n",
      "Training until validation scores don't improve for 100 rounds\n",
      "[100]\tcv_agg's valid auc: 0.865306 + 0.00956809\n",
      "[200]\tcv_agg's valid auc: 0.865906 + 0.010541\n",
      "[300]\tcv_agg's valid auc: 0.866169 + 0.0090432\n",
      "[400]\tcv_agg's valid auc: 0.866738 + 0.0104425\n"
     ]
    },
    {
     "name": "stderr",
     "output_type": "stream",
     "text": [
      "feature_fraction, val_score: 0.871378:  57%|################################################################################################5                                                                        | 4/7 [00:11<00:09,  3.23s/it][I 2024-07-08 19:43:06,395] Trial 3 finished with value: 0.8668481487317526 and parameters: {'feature_fraction': 1.0}. Best is trial 2 with value: 0.8713780144716919.\n",
      "feature_fraction, val_score: 0.871378:  57%|################################################################################################5                                                                        | 4/7 [00:11<00:09,  3.23s/it]"
     ]
    },
    {
     "name": "stdout",
     "output_type": "stream",
     "text": [
      "Early stopping, best iteration is:\n",
      "[325]\tcv_agg's valid auc: 0.866848 + 0.00864338\n",
      "Training until validation scores don't improve for 100 rounds\n",
      "[100]\tcv_agg's valid auc: 0.866594 + 0.0113264\n",
      "[200]\tcv_agg's valid auc: 0.86408 + 0.00947454\n"
     ]
    },
    {
     "name": "stderr",
     "output_type": "stream",
     "text": [
      "feature_fraction, val_score: 0.871378:  71%|########################################################################################################################7                                                | 5/7 [00:14<00:06,  3.12s/it][I 2024-07-08 19:43:09,316] Trial 4 finished with value: 0.867425248071974 and parameters: {'feature_fraction': 0.6}. Best is trial 2 with value: 0.8713780144716919.\n",
      "feature_fraction, val_score: 0.871378:  71%|########################################################################################################################7                                                | 5/7 [00:14<00:06,  3.12s/it]"
     ]
    },
    {
     "name": "stdout",
     "output_type": "stream",
     "text": [
      "Early stopping, best iteration is:\n",
      "[136]\tcv_agg's valid auc: 0.867425 + 0.0105469\n",
      "Training until validation scores don't improve for 100 rounds\n",
      "[100]\tcv_agg's valid auc: 0.870391 + 0.0106935\n",
      "[200]\tcv_agg's valid auc: 0.870547 + 0.0102796\n"
     ]
    },
    {
     "name": "stderr",
     "output_type": "stream",
     "text": [
      "feature_fraction, val_score: 0.872443:  86%|################################################################################################################################################8                        | 6/7 [00:17<00:02,  2.94s/it][I 2024-07-08 19:43:11,917] Trial 5 finished with value: 0.8724432944755723 and parameters: {'feature_fraction': 0.5}. Best is trial 5 with value: 0.8724432944755723.\n",
      "feature_fraction, val_score: 0.872443:  86%|################################################################################################################################################8                        | 6/7 [00:17<00:02,  2.94s/it]"
     ]
    },
    {
     "name": "stdout",
     "output_type": "stream",
     "text": [
      "Early stopping, best iteration is:\n",
      "[153]\tcv_agg's valid auc: 0.872443 + 0.00976807\n",
      "Training until validation scores don't improve for 100 rounds\n",
      "[100]\tcv_agg's valid auc: 0.864844 + 0.00899542\n",
      "[200]\tcv_agg's valid auc: 0.863526 + 0.0100507\n",
      "Early stopping, best iteration is:\n",
      "[117]\tcv_agg's valid auc: 0.866051 + 0.00965722\n"
     ]
    },
    {
     "name": "stderr",
     "output_type": "stream",
     "text": [
      "feature_fraction, val_score: 0.872443: 100%|#########################################################################################################################################################################| 7/7 [00:19<00:00,  2.77s/it][I 2024-07-08 19:43:14,333] Trial 6 finished with value: 0.8660511931698526 and parameters: {'feature_fraction': 0.8}. Best is trial 5 with value: 0.8724432944755723.\n",
      "feature_fraction, val_score: 0.872443: 100%|#########################################################################################################################################################################| 7/7 [00:19<00:00,  2.81s/it]\n",
      "num_leaves, val_score: 0.872443:   0%|                                                                                                                                                                                      | 0/20 [00:00<?, ?it/s]"
     ]
    },
    {
     "name": "stdout",
     "output_type": "stream",
     "text": [
      "Training until validation scores don't improve for 100 rounds\n",
      "[100]\tcv_agg's valid auc: 0.861382 + 0.0104176\n",
      "[200]\tcv_agg's valid auc: 0.868914 + 0.0112337\n",
      "[300]\tcv_agg's valid auc: 0.872385 + 0.0109361\n",
      "[400]\tcv_agg's valid auc: 0.873478 + 0.0104759\n",
      "[500]\tcv_agg's valid auc: 0.873848 + 0.0102947\n",
      "[600]\tcv_agg's valid auc: 0.874224 + 0.0102548\n",
      "[700]\tcv_agg's valid auc: 0.874563 + 0.0101164\n",
      "[800]\tcv_agg's valid auc: 0.874531 + 0.0103675\n",
      "[900]\tcv_agg's valid auc: 0.874562 + 0.0104071\n"
     ]
    },
    {
     "name": "stderr",
     "output_type": "stream",
     "text": [
      "num_leaves, val_score: 0.874708:   5%|########7                                                                                                                                                                     | 1/20 [00:14<04:30, 14.22s/it][I 2024-07-08 19:43:28,558] Trial 7 finished with value: 0.8747077443163853 and parameters: {'num_leaves': 189}. Best is trial 7 with value: 0.8747077443163853.\n",
      "num_leaves, val_score: 0.874708:   5%|########7                                                                                                                                                                     | 1/20 [00:14<04:30, 14.22s/it]"
     ]
    },
    {
     "name": "stdout",
     "output_type": "stream",
     "text": [
      "Early stopping, best iteration is:\n",
      "[856]\tcv_agg's valid auc: 0.874708 + 0.0103626\n",
      "Training until validation scores don't improve for 100 rounds\n",
      "[100]\tcv_agg's valid auc: 0.870391 + 0.0106935\n",
      "[200]\tcv_agg's valid auc: 0.870547 + 0.0102796\n"
     ]
    },
    {
     "name": "stderr",
     "output_type": "stream",
     "text": [
      "num_leaves, val_score: 0.874708:  10%|#################4                                                                                                                                                            | 2/20 [00:16<02:14,  7.47s/it][I 2024-07-08 19:43:31,308] Trial 8 finished with value: 0.8724432944755723 and parameters: {'num_leaves': 31}. Best is trial 7 with value: 0.8747077443163853.\n",
      "num_leaves, val_score: 0.874708:  10%|#################4                                                                                                                                                            | 2/20 [00:16<02:14,  7.47s/it]"
     ]
    },
    {
     "name": "stdout",
     "output_type": "stream",
     "text": [
      "Early stopping, best iteration is:\n",
      "[153]\tcv_agg's valid auc: 0.872443 + 0.00976807\n",
      "Training until validation scores don't improve for 100 rounds\n",
      "[100]\tcv_agg's valid auc: 0.864806 + 0.00692657\n",
      "[200]\tcv_agg's valid auc: 0.868053 + 0.00984802\n",
      "[300]\tcv_agg's valid auc: 0.871253 + 0.0093922\n",
      "[400]\tcv_agg's valid auc: 0.872331 + 0.00908209\n",
      "[500]\tcv_agg's valid auc: 0.873012 + 0.00913451\n",
      "[600]\tcv_agg's valid auc: 0.873243 + 0.0103502\n",
      "[700]\tcv_agg's valid auc: 0.874192 + 0.00966549\n",
      "[800]\tcv_agg's valid auc: 0.874425 + 0.00951171\n"
     ]
    },
    {
     "name": "stderr",
     "output_type": "stream",
     "text": [
      "num_leaves, val_score: 0.874708:  15%|##########################1                                                                                                                                                   | 3/20 [00:28<02:36,  9.23s/it][I 2024-07-08 19:43:42,638] Trial 9 finished with value: 0.8746513251875839 and parameters: {'num_leaves': 72}. Best is trial 7 with value: 0.8747077443163853.\n",
      "num_leaves, val_score: 0.874708:  15%|##########################1                                                                                                                                                   | 3/20 [00:28<02:36,  9.23s/it]"
     ]
    },
    {
     "name": "stdout",
     "output_type": "stream",
     "text": [
      "Early stopping, best iteration is:\n",
      "[750]\tcv_agg's valid auc: 0.874651 + 0.00947529\n",
      "Training until validation scores don't improve for 100 rounds\n",
      "[100]\tcv_agg's valid auc: 0.856884 + 0.00799091\n",
      "[200]\tcv_agg's valid auc: 0.86517 + 0.0098197\n",
      "[300]\tcv_agg's valid auc: 0.869869 + 0.00912927\n",
      "[400]\tcv_agg's valid auc: 0.871237 + 0.00894358\n",
      "[500]\tcv_agg's valid auc: 0.871612 + 0.0087658\n"
     ]
    },
    {
     "name": "stderr",
     "output_type": "stream",
     "text": [
      "num_leaves, val_score: 0.874708:  20%|##################################8                                                                                                                                           | 4/20 [00:39<02:39,  9.97s/it][I 2024-07-08 19:43:53,737] Trial 10 finished with value: 0.8716732664517672 and parameters: {'num_leaves': 240}. Best is trial 7 with value: 0.8747077443163853.\n",
      "num_leaves, val_score: 0.874708:  20%|##################################8                                                                                                                                           | 4/20 [00:39<02:39,  9.97s/it]"
     ]
    },
    {
     "name": "stdout",
     "output_type": "stream",
     "text": [
      "Early stopping, best iteration is:\n",
      "[485]\tcv_agg's valid auc: 0.871673 + 0.00862924\n",
      "Training until validation scores don't improve for 100 rounds\n",
      "[100]\tcv_agg's valid auc: 0.862033 + 0.0033356\n",
      "[200]\tcv_agg's valid auc: 0.866442 + 0.00546479\n",
      "[300]\tcv_agg's valid auc: 0.870338 + 0.00650999\n",
      "[400]\tcv_agg's valid auc: 0.872001 + 0.00724979\n",
      "[500]\tcv_agg's valid auc: 0.872522 + 0.00746963\n",
      "[600]\tcv_agg's valid auc: 0.872739 + 0.00749691\n"
     ]
    },
    {
     "name": "stderr",
     "output_type": "stream",
     "text": [
      "num_leaves, val_score: 0.874708:  25%|###########################################5                                                                                                                                  | 5/20 [00:49<02:32, 10.14s/it][I 2024-07-08 19:44:04,174] Trial 11 finished with value: 0.8728286575385682 and parameters: {'num_leaves': 149}. Best is trial 7 with value: 0.8747077443163853.\n",
      "num_leaves, val_score: 0.874708:  25%|###########################################5                                                                                                                                  | 5/20 [00:49<02:32, 10.14s/it]"
     ]
    },
    {
     "name": "stdout",
     "output_type": "stream",
     "text": [
      "Early stopping, best iteration is:\n",
      "[562]\tcv_agg's valid auc: 0.872829 + 0.0074612\n",
      "Training until validation scores don't improve for 100 rounds\n",
      "[100]\tcv_agg's valid auc: 0.863603 + 0.00579115\n",
      "[200]\tcv_agg's valid auc: 0.871417 + 0.00827632\n",
      "[300]\tcv_agg's valid auc: 0.872132 + 0.0104009\n",
      "[400]\tcv_agg's valid auc: 0.872433 + 0.0100703\n"
     ]
    },
    {
     "name": "stderr",
     "output_type": "stream",
     "text": [
      "num_leaves, val_score: 0.874708:  30%|####################################################2                                                                                                                         | 6/20 [00:56<02:06,  9.06s/it][I 2024-07-08 19:44:11,130] Trial 12 finished with value: 0.873026100706515 and parameters: {'num_leaves': 91}. Best is trial 7 with value: 0.8747077443163853.\n",
      "num_leaves, val_score: 0.874708:  30%|####################################################2                                                                                                                         | 6/20 [00:56<02:06,  9.06s/it]"
     ]
    },
    {
     "name": "stdout",
     "output_type": "stream",
     "text": [
      "Early stopping, best iteration is:\n",
      "[330]\tcv_agg's valid auc: 0.873026 + 0.00984812\n",
      "Training until validation scores don't improve for 100 rounds\n",
      "[100]\tcv_agg's valid auc: 0.861334 + 0.00585071\n",
      "[200]\tcv_agg's valid auc: 0.869517 + 0.00559971\n",
      "[300]\tcv_agg's valid auc: 0.873569 + 0.00600908\n",
      "[400]\tcv_agg's valid auc: 0.87416 + 0.00590856\n",
      "[500]\tcv_agg's valid auc: 0.874905 + 0.00607651\n",
      "[600]\tcv_agg's valid auc: 0.875235 + 0.00605211\n",
      "[700]\tcv_agg's valid auc: 0.875758 + 0.00624369\n"
     ]
    },
    {
     "name": "stderr",
     "output_type": "stream",
     "text": [
      "num_leaves, val_score: 0.875871:  35%|############################################################9                                                                                                                 | 7/20 [01:07<02:06,  9.72s/it][I 2024-07-08 19:44:22,228] Trial 13 finished with value: 0.8758712259842522 and parameters: {'num_leaves': 183}. Best is trial 13 with value: 0.8758712259842522.\n",
      "num_leaves, val_score: 0.875871:  35%|############################################################9                                                                                                                 | 7/20 [01:07<02:06,  9.72s/it]"
     ]
    },
    {
     "name": "stdout",
     "output_type": "stream",
     "text": [
      "Early stopping, best iteration is:\n",
      "[683]\tcv_agg's valid auc: 0.875871 + 0.00621845\n",
      "Training until validation scores don't improve for 100 rounds\n",
      "[100]\tcv_agg's valid auc: 0.858655 + 0.00840118\n",
      "[200]\tcv_agg's valid auc: 0.867027 + 0.00852823\n",
      "[300]\tcv_agg's valid auc: 0.871652 + 0.00849179\n",
      "[400]\tcv_agg's valid auc: 0.873014 + 0.00848069\n"
     ]
    },
    {
     "name": "stderr",
     "output_type": "stream",
     "text": [
      "num_leaves, val_score: 0.875871:  40%|#####################################################################6                                                                                                        | 8/20 [01:17<01:56,  9.70s/it][I 2024-07-08 19:44:31,885] Trial 14 finished with value: 0.873321248614929 and parameters: {'num_leaves': 182}. Best is trial 13 with value: 0.8758712259842522.\n",
      "num_leaves, val_score: 0.875871:  40%|#####################################################################6                                                                                                        | 8/20 [01:17<01:56,  9.70s/it]"
     ]
    },
    {
     "name": "stdout",
     "output_type": "stream",
     "text": [
      "[500]\tcv_agg's valid auc: 0.873046 + 0.00890727\n",
      "Early stopping, best iteration is:\n",
      "[418]\tcv_agg's valid auc: 0.873321 + 0.00864524\n",
      "Training until validation scores don't improve for 100 rounds\n",
      "[100]\tcv_agg's valid auc: 0.859779 + 0.00656882\n",
      "[200]\tcv_agg's valid auc: 0.867646 + 0.00614462\n",
      "[300]\tcv_agg's valid auc: 0.871282 + 0.00672008\n",
      "[400]\tcv_agg's valid auc: 0.872981 + 0.00644756\n",
      "[500]\tcv_agg's valid auc: 0.873374 + 0.00673382\n",
      "[600]\tcv_agg's valid auc: 0.873538 + 0.0067267\n",
      "[700]\tcv_agg's valid auc: 0.87395 + 0.00672759\n",
      "[800]\tcv_agg's valid auc: 0.874277 + 0.00688851\n",
      "[900]\tcv_agg's valid auc: 0.874207 + 0.00716317\n"
     ]
    },
    {
     "name": "stderr",
     "output_type": "stream",
     "text": [
      "num_leaves, val_score: 0.875871:  45%|##############################################################################3                                                                                               | 9/20 [01:29<01:55, 10.52s/it][I 2024-07-08 19:44:44,209] Trial 15 finished with value: 0.8743332712265411 and parameters: {'num_leaves': 211}. Best is trial 13 with value: 0.8758712259842522.\n",
      "num_leaves, val_score: 0.875871:  45%|##############################################################################3                                                                                               | 9/20 [01:29<01:55, 10.52s/it]"
     ]
    },
    {
     "name": "stdout",
     "output_type": "stream",
     "text": [
      "Early stopping, best iteration is:\n",
      "[841]\tcv_agg's valid auc: 0.874333 + 0.00702324\n",
      "Training until validation scores don't improve for 100 rounds\n",
      "[100]\tcv_agg's valid auc: 0.858175 + 0.00776657\n",
      "[200]\tcv_agg's valid auc: 0.867581 + 0.00920265\n",
      "[300]\tcv_agg's valid auc: 0.871758 + 0.00919916\n",
      "[400]\tcv_agg's valid auc: 0.873342 + 0.0093364\n",
      "[500]\tcv_agg's valid auc: 0.873951 + 0.00947396\n",
      "[600]\tcv_agg's valid auc: 0.874274 + 0.00946206\n",
      "[700]\tcv_agg's valid auc: 0.874436 + 0.00953787\n",
      "[800]\tcv_agg's valid auc: 0.874609 + 0.00943113\n",
      "[900]\tcv_agg's valid auc: 0.874522 + 0.0094328\n",
      "Early stopping, best iteration is:\n",
      "[824]\tcv_agg's valid auc: 0.874682 + 0.0092863\n"
     ]
    },
    {
     "name": "stderr",
     "output_type": "stream",
     "text": [
      "num_leaves, val_score: 0.875871:  50%|######################################################################################5                                                                                      | 10/20 [01:41<01:48, 10.83s/it][I 2024-07-08 19:44:55,721] Trial 16 finished with value: 0.8746824959554829 and parameters: {'num_leaves': 163}. Best is trial 13 with value: 0.8758712259842522.\n",
      "num_leaves, val_score: 0.875871:  50%|######################################################################################5                                                                                      | 10/20 [01:41<01:48, 10.83s/it]"
     ]
    },
    {
     "name": "stdout",
     "output_type": "stream",
     "text": [
      "Training until validation scores don't improve for 100 rounds\n",
      "[100]\tcv_agg's valid auc: 0.86415 + 0.00444566\n",
      "[200]\tcv_agg's valid auc: 0.869132 + 0.00546821\n",
      "[300]\tcv_agg's valid auc: 0.872902 + 0.00683245\n",
      "[400]\tcv_agg's valid auc: 0.873699 + 0.00729124\n",
      "[500]\tcv_agg's valid auc: 0.874229 + 0.00750651\n",
      "[600]\tcv_agg's valid auc: 0.87465 + 0.00747231\n",
      "[700]\tcv_agg's valid auc: 0.874899 + 0.00738407\n",
      "[800]\tcv_agg's valid auc: 0.875 + 0.00708164\n"
     ]
    },
    {
     "name": "stderr",
     "output_type": "stream",
     "text": [
      "num_leaves, val_score: 0.875871:  55%|###############################################################################################1                                                                             | 11/20 [01:52<01:39, 11.01s/it][I 2024-07-08 19:45:07,137] Trial 17 finished with value: 0.8750664287711762 and parameters: {'num_leaves': 200}. Best is trial 13 with value: 0.8758712259842522.\n",
      "num_leaves, val_score: 0.875871:  55%|###############################################################################################1                                                                             | 11/20 [01:52<01:39, 11.01s/it]"
     ]
    },
    {
     "name": "stdout",
     "output_type": "stream",
     "text": [
      "Early stopping, best iteration is:\n",
      "[782]\tcv_agg's valid auc: 0.875066 + 0.00700369\n",
      "Training until validation scores don't improve for 100 rounds\n",
      "[100]\tcv_agg's valid auc: 0.859109 + 0.00873432\n",
      "[200]\tcv_agg's valid auc: 0.866769 + 0.00930435\n",
      "[300]\tcv_agg's valid auc: 0.870483 + 0.00976562\n",
      "[400]\tcv_agg's valid auc: 0.871593 + 0.0101012\n",
      "[500]\tcv_agg's valid auc: 0.87175 + 0.0103099\n",
      "[600]\tcv_agg's valid auc: 0.872154 + 0.0102565\n",
      "[700]\tcv_agg's valid auc: 0.872267 + 0.0101613\n",
      "[800]\tcv_agg's valid auc: 0.872473 + 0.00992905\n"
     ]
    },
    {
     "name": "stderr",
     "output_type": "stream",
     "text": [
      "num_leaves, val_score: 0.875871:  60%|#######################################################################################################8                                                                     | 12/20 [02:05<01:32, 11.51s/it][I 2024-07-08 19:45:19,808] Trial 18 finished with value: 0.8725797555790954 and parameters: {'num_leaves': 248}. Best is trial 13 with value: 0.8758712259842522.\n",
      "num_leaves, val_score: 0.875871:  60%|#######################################################################################################8                                                                     | 12/20 [02:05<01:32, 11.51s/it]"
     ]
    },
    {
     "name": "stdout",
     "output_type": "stream",
     "text": [
      "[900]\tcv_agg's valid auc: 0.872416 + 0.0100956\n",
      "Early stopping, best iteration is:\n",
      "[816]\tcv_agg's valid auc: 0.87258 + 0.00989105\n",
      "Training until validation scores don't improve for 100 rounds\n",
      "[100]\tcv_agg's valid auc: 0.863754 + 0.00397093\n",
      "[200]\tcv_agg's valid auc: 0.86885 + 0.00672916\n",
      "[300]\tcv_agg's valid auc: 0.870691 + 0.00834456\n",
      "[400]\tcv_agg's valid auc: 0.872314 + 0.00950493\n",
      "[500]\tcv_agg's valid auc: 0.87246 + 0.00957559\n",
      "[600]\tcv_agg's valid auc: 0.873418 + 0.00941789\n",
      "[700]\tcv_agg's valid auc: 0.873609 + 0.00962032\n",
      "[800]\tcv_agg's valid auc: 0.873926 + 0.00967697\n",
      "[900]\tcv_agg's valid auc: 0.873881 + 0.00974619\n"
     ]
    },
    {
     "name": "stderr",
     "output_type": "stream",
     "text": [
      "num_leaves, val_score: 0.875871:  65%|################################################################################################################4                                                            | 13/20 [02:17<01:21, 11.65s/it][I 2024-07-08 19:45:31,760] Trial 19 finished with value: 0.8741386815670092 and parameters: {'num_leaves': 108}. Best is trial 13 with value: 0.8758712259842522.\n",
      "num_leaves, val_score: 0.875871:  65%|################################################################################################################4                                                            | 13/20 [02:17<01:21, 11.65s/it]"
     ]
    },
    {
     "name": "stdout",
     "output_type": "stream",
     "text": [
      "[1000]\tcv_agg's valid auc: 0.874136 + 0.00980149\n",
      "Did not meet early stopping. Best iteration is:\n",
      "[999]\tcv_agg's valid auc: 0.874139 + 0.0098091\n",
      "Training until validation scores don't improve for 100 rounds\n",
      "[100]\tcv_agg's valid auc: 0.862187 + 0.00678629\n",
      "[200]\tcv_agg's valid auc: 0.869381 + 0.00556242\n",
      "[300]\tcv_agg's valid auc: 0.871763 + 0.00660368\n",
      "[400]\tcv_agg's valid auc: 0.873155 + 0.00672688\n",
      "[500]\tcv_agg's valid auc: 0.873706 + 0.00717619\n",
      "[600]\tcv_agg's valid auc: 0.874316 + 0.00708187\n",
      "[700]\tcv_agg's valid auc: 0.874486 + 0.00714382\n",
      "[800]\tcv_agg's valid auc: 0.874625 + 0.00753142\n"
     ]
    },
    {
     "name": "stderr",
     "output_type": "stream",
     "text": [
      "num_leaves, val_score: 0.875871:  70%|#########################################################################################################################1                                                   | 14/20 [02:29<01:10, 11.72s/it][I 2024-07-08 19:45:43,637] Trial 20 finished with value: 0.8746736095577724 and parameters: {'num_leaves': 134}. Best is trial 13 with value: 0.8758712259842522.\n",
      "num_leaves, val_score: 0.875871:  70%|#########################################################################################################################1                                                   | 14/20 [02:29<01:10, 11.72s/it]"
     ]
    },
    {
     "name": "stdout",
     "output_type": "stream",
     "text": [
      "Early stopping, best iteration is:\n",
      "[782]\tcv_agg's valid auc: 0.874674 + 0.00749764\n",
      "Training until validation scores don't improve for 100 rounds\n",
      "[100]\tcv_agg's valid auc: 0.861465 + 0.00629781\n",
      "[200]\tcv_agg's valid auc: 0.870446 + 0.00803236\n",
      "[300]\tcv_agg's valid auc: 0.873592 + 0.00817052\n",
      "[400]\tcv_agg's valid auc: 0.875207 + 0.00838295\n",
      "[500]\tcv_agg's valid auc: 0.87597 + 0.00801741\n"
     ]
    },
    {
     "name": "stderr",
     "output_type": "stream",
     "text": [
      "num_leaves, val_score: 0.876165:  75%|#################################################################################################################################7                                           | 15/20 [02:40<00:57, 11.45s/it][I 2024-07-08 19:45:54,465] Trial 21 finished with value: 0.8761650582504402 and parameters: {'num_leaves': 206}. Best is trial 21 with value: 0.8761650582504402.\n",
      "num_leaves, val_score: 0.876165:  75%|#################################################################################################################################7                                           | 15/20 [02:40<00:57, 11.45s/it]"
     ]
    },
    {
     "name": "stdout",
     "output_type": "stream",
     "text": [
      "[600]\tcv_agg's valid auc: 0.875978 + 0.0080845\n",
      "Early stopping, best iteration is:\n",
      "[519]\tcv_agg's valid auc: 0.876165 + 0.00804683\n",
      "Training until validation scores don't improve for 100 rounds\n",
      "[100]\tcv_agg's valid auc: 0.856445 + 0.00977416\n",
      "[200]\tcv_agg's valid auc: 0.865775 + 0.00872202\n",
      "[300]\tcv_agg's valid auc: 0.871295 + 0.00901983\n",
      "[400]\tcv_agg's valid auc: 0.872565 + 0.00843118\n",
      "[500]\tcv_agg's valid auc: 0.873279 + 0.00831761\n",
      "[600]\tcv_agg's valid auc: 0.873947 + 0.00851524\n",
      "[700]\tcv_agg's valid auc: 0.874389 + 0.00850945\n",
      "[800]\tcv_agg's valid auc: 0.874485 + 0.00854908\n"
     ]
    },
    {
     "name": "stderr",
     "output_type": "stream",
     "text": [
      "num_leaves, val_score: 0.876165:  80%|##########################################################################################################################################4                                  | 16/20 [02:51<00:45, 11.47s/it][I 2024-07-08 19:46:05,990] Trial 22 finished with value: 0.8745950812151149 and parameters: {'num_leaves': 209}. Best is trial 21 with value: 0.8761650582504402.\n",
      "num_leaves, val_score: 0.876165:  80%|##########################################################################################################################################4                                  | 16/20 [02:51<00:45, 11.47s/it]"
     ]
    },
    {
     "name": "stdout",
     "output_type": "stream",
     "text": [
      "Early stopping, best iteration is:\n",
      "[765]\tcv_agg's valid auc: 0.874595 + 0.00863137\n",
      "Training until validation scores don't improve for 100 rounds\n",
      "[100]\tcv_agg's valid auc: 0.859484 + 0.00731475\n",
      "[200]\tcv_agg's valid auc: 0.867793 + 0.00924648\n",
      "[300]\tcv_agg's valid auc: 0.871712 + 0.0098036\n",
      "[400]\tcv_agg's valid auc: 0.8729 + 0.00959297\n",
      "[500]\tcv_agg's valid auc: 0.873451 + 0.00947704\n",
      "[600]\tcv_agg's valid auc: 0.873776 + 0.00969108\n",
      "[700]\tcv_agg's valid auc: 0.874245 + 0.00974656\n",
      "[800]\tcv_agg's valid auc: 0.874376 + 0.00978349\n",
      "[900]\tcv_agg's valid auc: 0.874611 + 0.00980655\n"
     ]
    },
    {
     "name": "stderr",
     "output_type": "stream",
     "text": [
      "num_leaves, val_score: 0.876165:  85%|###################################################################################################################################################                          | 17/20 [03:04<00:35, 12.00s/it][I 2024-07-08 19:46:19,214] Trial 23 finished with value: 0.8747425975427982 and parameters: {'num_leaves': 215}. Best is trial 21 with value: 0.8761650582504402.\n",
      "num_leaves, val_score: 0.876165:  85%|###################################################################################################################################################                          | 17/20 [03:04<00:35, 12.00s/it]"
     ]
    },
    {
     "name": "stdout",
     "output_type": "stream",
     "text": [
      "[1000]\tcv_agg's valid auc: 0.874667 + 0.00983494\n",
      "Did not meet early stopping. Best iteration is:\n",
      "[988]\tcv_agg's valid auc: 0.874743 + 0.00983125\n",
      "Training until validation scores don't improve for 100 rounds\n",
      "[100]\tcv_agg's valid auc: 0.861053 + 0.00579001\n",
      "[200]\tcv_agg's valid auc: 0.868829 + 0.00799918\n",
      "[300]\tcv_agg's valid auc: 0.872172 + 0.00976592\n",
      "[400]\tcv_agg's valid auc: 0.873924 + 0.00946155\n",
      "[500]\tcv_agg's valid auc: 0.874263 + 0.0098074\n",
      "[600]\tcv_agg's valid auc: 0.874563 + 0.00966884\n",
      "[700]\tcv_agg's valid auc: 0.874812 + 0.00998025\n",
      "[800]\tcv_agg's valid auc: 0.875062 + 0.00999349\n"
     ]
    },
    {
     "name": "stderr",
     "output_type": "stream",
     "text": [
      "num_leaves, val_score: 0.876165:  90%|###########################################################################################################################################################7                 | 18/20 [03:16<00:23, 11.88s/it][I 2024-07-08 19:46:30,820] Trial 24 finished with value: 0.8751216353271064 and parameters: {'num_leaves': 178}. Best is trial 21 with value: 0.8761650582504402.\n",
      "num_leaves, val_score: 0.876165:  90%|###########################################################################################################################################################7                 | 18/20 [03:16<00:23, 11.88s/it]"
     ]
    },
    {
     "name": "stdout",
     "output_type": "stream",
     "text": [
      "Early stopping, best iteration is:\n",
      "[756]\tcv_agg's valid auc: 0.875122 + 0.00998339\n",
      "Training until validation scores don't improve for 100 rounds\n",
      "[100]\tcv_agg's valid auc: 0.860441 + 0.0114851\n",
      "[200]\tcv_agg's valid auc: 0.868204 + 0.0128347\n",
      "[300]\tcv_agg's valid auc: 0.872264 + 0.0132014\n",
      "[400]\tcv_agg's valid auc: 0.873385 + 0.0134217\n",
      "[500]\tcv_agg's valid auc: 0.874032 + 0.0132727\n",
      "[600]\tcv_agg's valid auc: 0.874441 + 0.0131722\n",
      "[700]\tcv_agg's valid auc: 0.874472 + 0.013247\n"
     ]
    },
    {
     "name": "stderr",
     "output_type": "stream",
     "text": [
      "num_leaves, val_score: 0.876165:  95%|####################################################################################################################################################################3        | 19/20 [03:28<00:12, 12.06s/it][I 2024-07-08 19:46:43,312] Trial 25 finished with value: 0.8747160273514258 and parameters: {'num_leaves': 167}. Best is trial 21 with value: 0.8761650582504402.\n",
      "num_leaves, val_score: 0.876165:  95%|####################################################################################################################################################################3        | 19/20 [03:28<00:12, 12.06s/it]"
     ]
    },
    {
     "name": "stdout",
     "output_type": "stream",
     "text": [
      "Early stopping, best iteration is:\n",
      "[639]\tcv_agg's valid auc: 0.874716 + 0.013004\n",
      "Training until validation scores don't improve for 100 rounds\n",
      "[100]\tcv_agg's valid auc: 0.859559 + 0.0106206\n",
      "[200]\tcv_agg's valid auc: 0.867852 + 0.0104229\n",
      "[300]\tcv_agg's valid auc: 0.871131 + 0.0101144\n",
      "[400]\tcv_agg's valid auc: 0.872097 + 0.0101458\n",
      "[500]\tcv_agg's valid auc: 0.872876 + 0.0100116\n",
      "[600]\tcv_agg's valid auc: 0.873154 + 0.00983848\n",
      "[700]\tcv_agg's valid auc: 0.873418 + 0.00979753\n",
      "[800]\tcv_agg's valid auc: 0.873538 + 0.00992353\n"
     ]
    },
    {
     "name": "stderr",
     "output_type": "stream",
     "text": [
      "num_leaves, val_score: 0.876165: 100%|#############################################################################################################################################################################| 20/20 [03:40<00:00, 11.96s/it][I 2024-07-08 19:46:55,019] Trial 26 finished with value: 0.8736114218508796 and parameters: {'num_leaves': 231}. Best is trial 21 with value: 0.8761650582504402.\n",
      "num_leaves, val_score: 0.876165: 100%|#############################################################################################################################################################################| 20/20 [03:40<00:00, 11.03s/it]\n"
     ]
    },
    {
     "name": "stdout",
     "output_type": "stream",
     "text": [
      "Early stopping, best iteration is:\n",
      "[789]\tcv_agg's valid auc: 0.873611 + 0.00976456\n"
     ]
    },
    {
     "name": "stderr",
     "output_type": "stream",
     "text": [
      "bagging, val_score: 0.876165:   0%|                                                                                                                                                                                         | 0/10 [00:00<?, ?it/s]"
     ]
    },
    {
     "name": "stdout",
     "output_type": "stream",
     "text": [
      "Training until validation scores don't improve for 100 rounds\n",
      "[100]\tcv_agg's valid auc: 0.854684 + 0.0161074\n",
      "[200]\tcv_agg's valid auc: 0.863184 + 0.0146435\n",
      "[300]\tcv_agg's valid auc: 0.868165 + 0.0145966\n",
      "[400]\tcv_agg's valid auc: 0.869174 + 0.0143699\n",
      "[500]\tcv_agg's valid auc: 0.870002 + 0.0142593\n",
      "[600]\tcv_agg's valid auc: 0.870641 + 0.0143095\n",
      "[700]\tcv_agg's valid auc: 0.870921 + 0.0142844\n",
      "[800]\tcv_agg's valid auc: 0.870917 + 0.0142127\n"
     ]
    },
    {
     "name": "stderr",
     "output_type": "stream",
     "text": [
      "bagging, val_score: 0.876165:  10%|#################7                                                                                                                                                               | 1/10 [00:12<01:54, 12.67s/it][I 2024-07-08 19:47:07,698] Trial 27 finished with value: 0.8710642714262464 and parameters: {'bagging_fraction': 0.8848460562885851, 'bagging_freq': 1}. Best is trial 27 with value: 0.8710642714262464.\n",
      "bagging, val_score: 0.876165:  10%|#################7                                                                                                                                                               | 1/10 [00:12<01:54, 12.67s/it]"
     ]
    },
    {
     "name": "stdout",
     "output_type": "stream",
     "text": [
      "Early stopping, best iteration is:\n",
      "[745]\tcv_agg's valid auc: 0.871064 + 0.0142123\n",
      "Training until validation scores don't improve for 100 rounds\n",
      "[100]\tcv_agg's valid auc: 0.824562 + 0.00917199\n",
      "[200]\tcv_agg's valid auc: 0.839535 + 0.0104143\n",
      "[300]\tcv_agg's valid auc: 0.846029 + 0.00998405\n",
      "[400]\tcv_agg's valid auc: 0.849299 + 0.00935254\n",
      "[500]\tcv_agg's valid auc: 0.850839 + 0.00892769\n",
      "[600]\tcv_agg's valid auc: 0.853988 + 0.00866532\n",
      "[700]\tcv_agg's valid auc: 0.854437 + 0.00955613\n",
      "[800]\tcv_agg's valid auc: 0.855196 + 0.00973009\n",
      "[900]\tcv_agg's valid auc: 0.855904 + 0.0101133\n"
     ]
    },
    {
     "name": "stderr",
     "output_type": "stream",
     "text": [
      "bagging, val_score: 0.876165:  20%|###################################4                                                                                                                                             | 2/10 [00:30<02:03, 15.45s/it][I 2024-07-08 19:47:25,100] Trial 28 finished with value: 0.8567762277214911 and parameters: {'bagging_fraction': 0.4396800055784125, 'bagging_freq': 7}. Best is trial 27 with value: 0.8710642714262464.\n",
      "bagging, val_score: 0.876165:  20%|###################################4                                                                                                                                             | 2/10 [00:30<02:03, 15.45s/it]"
     ]
    },
    {
     "name": "stdout",
     "output_type": "stream",
     "text": [
      "[1000]\tcv_agg's valid auc: 0.856776 + 0.00967436\n",
      "Did not meet early stopping. Best iteration is:\n",
      "[1000]\tcv_agg's valid auc: 0.856776 + 0.00967436\n",
      "Training until validation scores don't improve for 100 rounds\n",
      "[100]\tcv_agg's valid auc: 0.859949 + 0.0108738\n",
      "[200]\tcv_agg's valid auc: 0.868927 + 0.00911046\n",
      "[300]\tcv_agg's valid auc: 0.873024 + 0.00986985\n",
      "[400]\tcv_agg's valid auc: 0.87439 + 0.00966916\n",
      "[500]\tcv_agg's valid auc: 0.874569 + 0.00963064\n",
      "[600]\tcv_agg's valid auc: 0.874881 + 0.00946356\n",
      "[700]\tcv_agg's valid auc: 0.875166 + 0.00946975\n",
      "[800]\tcv_agg's valid auc: 0.875225 + 0.00930917\n",
      "[900]\tcv_agg's valid auc: 0.875368 + 0.00932655\n"
     ]
    },
    {
     "name": "stderr",
     "output_type": "stream",
     "text": [
      "bagging, val_score: 0.876165:  30%|#####################################################1                                                                                                                           | 3/10 [00:46<01:49, 15.67s/it][I 2024-07-08 19:47:41,031] Trial 29 finished with value: 0.875406948590573 and parameters: {'bagging_fraction': 0.985411605212744, 'bagging_freq': 4}. Best is trial 29 with value: 0.875406948590573.\n",
      "bagging, val_score: 0.876165:  30%|#####################################################1                                                                                                                           | 3/10 [00:46<01:49, 15.67s/it]"
     ]
    },
    {
     "name": "stdout",
     "output_type": "stream",
     "text": [
      "[1000]\tcv_agg's valid auc: 0.875357 + 0.0093074\n",
      "Did not meet early stopping. Best iteration is:\n",
      "[910]\tcv_agg's valid auc: 0.875407 + 0.00931498\n",
      "Training until validation scores don't improve for 100 rounds\n",
      "[100]\tcv_agg's valid auc: 0.859647 + 0.00903461\n",
      "[200]\tcv_agg's valid auc: 0.866651 + 0.00992194\n",
      "[300]\tcv_agg's valid auc: 0.871035 + 0.00940861\n",
      "[400]\tcv_agg's valid auc: 0.872398 + 0.00960773\n",
      "[500]\tcv_agg's valid auc: 0.873036 + 0.00920924\n",
      "[600]\tcv_agg's valid auc: 0.873521 + 0.0094404\n",
      "[700]\tcv_agg's valid auc: 0.873777 + 0.00941842\n",
      "[800]\tcv_agg's valid auc: 0.873921 + 0.00942552\n"
     ]
    },
    {
     "name": "stderr",
     "output_type": "stream",
     "text": [
      "bagging, val_score: 0.876165:  40%|######################################################################8                                                                                                          | 4/10 [00:58<01:25, 14.33s/it][I 2024-07-08 19:47:53,309] Trial 30 finished with value: 0.874089043275987 and parameters: {'bagging_fraction': 0.9814838272629752, 'bagging_freq': 4}. Best is trial 29 with value: 0.875406948590573.\n",
      "bagging, val_score: 0.876165:  40%|######################################################################8                                                                                                          | 4/10 [00:58<01:25, 14.33s/it]"
     ]
    },
    {
     "name": "stdout",
     "output_type": "stream",
     "text": [
      "Early stopping, best iteration is:\n",
      "[759]\tcv_agg's valid auc: 0.874089 + 0.00947123\n",
      "Training until validation scores don't improve for 100 rounds\n",
      "[100]\tcv_agg's valid auc: 0.848881 + 0.0105646\n",
      "[200]\tcv_agg's valid auc: 0.859234 + 0.00995558\n",
      "[300]\tcv_agg's valid auc: 0.862672 + 0.0105539\n",
      "[400]\tcv_agg's valid auc: 0.865804 + 0.00981294\n",
      "[500]\tcv_agg's valid auc: 0.867557 + 0.00994677\n",
      "[600]\tcv_agg's valid auc: 0.867936 + 0.0101701\n",
      "[700]\tcv_agg's valid auc: 0.868048 + 0.00977176\n",
      "[800]\tcv_agg's valid auc: 0.867826 + 0.0099312\n",
      "Early stopping, best iteration is:\n",
      "[724]\tcv_agg's valid auc: 0.868203 + 0.0097093\n"
     ]
    },
    {
     "name": "stderr",
     "output_type": "stream",
     "text": [
      "bagging, val_score: 0.876165:  50%|########################################################################################5                                                                                        | 5/10 [01:10<01:07, 13.58s/it][I 2024-07-08 19:48:05,543] Trial 31 finished with value: 0.8682026464881547 and parameters: {'bagging_fraction': 0.7104476420300103, 'bagging_freq': 4}. Best is trial 29 with value: 0.875406948590573.\n",
      "bagging, val_score: 0.876165:  50%|########################################################################################5                                                                                        | 5/10 [01:10<01:07, 13.58s/it]"
     ]
    },
    {
     "name": "stdout",
     "output_type": "stream",
     "text": [
      "Training until validation scores don't improve for 100 rounds\n",
      "[100]\tcv_agg's valid auc: 0.849484 + 0.0110231\n",
      "[200]\tcv_agg's valid auc: 0.858984 + 0.0102918\n",
      "[300]\tcv_agg's valid auc: 0.865163 + 0.00857233\n",
      "[400]\tcv_agg's valid auc: 0.867102 + 0.00841677\n",
      "[500]\tcv_agg's valid auc: 0.868427 + 0.0081062\n",
      "[600]\tcv_agg's valid auc: 0.868716 + 0.00787586\n",
      "[700]\tcv_agg's valid auc: 0.868787 + 0.00818689\n",
      "[800]\tcv_agg's valid auc: 0.868791 + 0.00806301\n"
     ]
    },
    {
     "name": "stderr",
     "output_type": "stream",
     "text": [
      "bagging, val_score: 0.876165:  60%|##########################################################################################################2                                                                      | 6/10 [01:22<00:51, 13.00s/it][I 2024-07-08 19:48:17,421] Trial 32 finished with value: 0.8690895668803259 and parameters: {'bagging_fraction': 0.7623629103902302, 'bagging_freq': 2}. Best is trial 29 with value: 0.875406948590573.\n",
      "bagging, val_score: 0.876165:  60%|##########################################################################################################2                                                                      | 6/10 [01:22<00:51, 13.00s/it]"
     ]
    },
    {
     "name": "stdout",
     "output_type": "stream",
     "text": [
      "Early stopping, best iteration is:\n",
      "[747]\tcv_agg's valid auc: 0.86909 + 0.00801564\n",
      "Training until validation scores don't improve for 100 rounds\n",
      "[100]\tcv_agg's valid auc: 0.832595 + 0.00448652\n",
      "[200]\tcv_agg's valid auc: 0.841951 + 0.00745993\n",
      "[300]\tcv_agg's valid auc: 0.845652 + 0.00593471\n",
      "[400]\tcv_agg's valid auc: 0.84962 + 0.00894974\n",
      "[500]\tcv_agg's valid auc: 0.852425 + 0.00755596\n",
      "[600]\tcv_agg's valid auc: 0.85406 + 0.00727857\n",
      "[700]\tcv_agg's valid auc: 0.8551 + 0.00799207\n",
      "[800]\tcv_agg's valid auc: 0.855913 + 0.00725327\n",
      "[900]\tcv_agg's valid auc: 0.85648 + 0.00700767\n"
     ]
    },
    {
     "name": "stderr",
     "output_type": "stream",
     "text": [
      "bagging, val_score: 0.876165:  70%|###########################################################################################################################9                                                     | 7/10 [01:42<00:45, 15.32s/it][I 2024-07-08 19:48:37,514] Trial 33 finished with value: 0.8565361371594783 and parameters: {'bagging_fraction': 0.4498775549693944, 'bagging_freq': 7}. Best is trial 29 with value: 0.875406948590573.\n",
      "bagging, val_score: 0.876165:  70%|###########################################################################################################################9                                                     | 7/10 [01:42<00:45, 15.32s/it]"
     ]
    },
    {
     "name": "stdout",
     "output_type": "stream",
     "text": [
      "Early stopping, best iteration is:\n",
      "[897]\tcv_agg's valid auc: 0.856536 + 0.00698942\n",
      "Training until validation scores don't improve for 100 rounds\n",
      "[100]\tcv_agg's valid auc: 0.86093 + 0.0121847\n",
      "[200]\tcv_agg's valid auc: 0.868474 + 0.0116031\n",
      "[300]\tcv_agg's valid auc: 0.871376 + 0.0114551\n",
      "[400]\tcv_agg's valid auc: 0.872913 + 0.0107995\n",
      "[500]\tcv_agg's valid auc: 0.873475 + 0.0112447\n",
      "[600]\tcv_agg's valid auc: 0.873827 + 0.0109834\n",
      "[700]\tcv_agg's valid auc: 0.873924 + 0.011174\n",
      "[800]\tcv_agg's valid auc: 0.874185 + 0.010925\n"
     ]
    },
    {
     "name": "stderr",
     "output_type": "stream",
     "text": [
      "bagging, val_score: 0.876165:  80%|#############################################################################################################################################6                                   | 8/10 [01:58<00:31, 15.53s/it][I 2024-07-08 19:48:53,505] Trial 34 finished with value: 0.8743518662954172 and parameters: {'bagging_fraction': 0.9744904943424424, 'bagging_freq': 5}. Best is trial 29 with value: 0.875406948590573.\n",
      "bagging, val_score: 0.876165:  80%|#############################################################################################################################################6                                   | 8/10 [01:58<00:31, 15.53s/it]"
     ]
    },
    {
     "name": "stdout",
     "output_type": "stream",
     "text": [
      "Early stopping, best iteration is:\n",
      "[754]\tcv_agg's valid auc: 0.874352 + 0.0110663\n",
      "Training until validation scores don't improve for 100 rounds\n",
      "[100]\tcv_agg's valid auc: 0.838253 + 0.0145796\n",
      "[200]\tcv_agg's valid auc: 0.85 + 0.0142916\n",
      "[300]\tcv_agg's valid auc: 0.854085 + 0.0136489\n",
      "[400]\tcv_agg's valid auc: 0.858098 + 0.0138035\n",
      "[500]\tcv_agg's valid auc: 0.860328 + 0.012906\n",
      "[600]\tcv_agg's valid auc: 0.86138 + 0.0136897\n",
      "[700]\tcv_agg's valid auc: 0.861827 + 0.0138727\n",
      "[800]\tcv_agg's valid auc: 0.862397 + 0.0137071\n",
      "[900]\tcv_agg's valid auc: 0.8625 + 0.0136087\n"
     ]
    },
    {
     "name": "stderr",
     "output_type": "stream",
     "text": [
      "bagging, val_score: 0.876165:  90%|###############################################################################################################################################################3                 | 9/10 [02:17<00:16, 16.71s/it][I 2024-07-08 19:49:12,793] Trial 35 finished with value: 0.862647410115212 and parameters: {'bagging_fraction': 0.580856046378666, 'bagging_freq': 3}. Best is trial 29 with value: 0.875406948590573.\n",
      "bagging, val_score: 0.876165:  90%|###############################################################################################################################################################3                 | 9/10 [02:17<00:16, 16.71s/it]"
     ]
    },
    {
     "name": "stdout",
     "output_type": "stream",
     "text": [
      "Early stopping, best iteration is:\n",
      "[840]\tcv_agg's valid auc: 0.862647 + 0.0136383\n",
      "Training until validation scores don't improve for 100 rounds\n",
      "[100]\tcv_agg's valid auc: 0.854233 + 0.00925177\n",
      "[200]\tcv_agg's valid auc: 0.863473 + 0.00970141\n",
      "[300]\tcv_agg's valid auc: 0.868419 + 0.0107673\n",
      "[400]\tcv_agg's valid auc: 0.870357 + 0.00995826\n",
      "[500]\tcv_agg's valid auc: 0.871124 + 0.00950578\n",
      "[600]\tcv_agg's valid auc: 0.871594 + 0.00933064\n"
     ]
    },
    {
     "name": "stderr",
     "output_type": "stream",
     "text": [
      "bagging, val_score: 0.876165: 100%|################################################################################################################################################################################| 10/10 [02:32<00:00, 16.00s/it][I 2024-07-08 19:49:27,227] Trial 36 finished with value: 0.8716727051952491 and parameters: {'bagging_fraction': 0.8321442545623571, 'bagging_freq': 5}. Best is trial 29 with value: 0.875406948590573.\n",
      "bagging, val_score: 0.876165: 100%|################################################################################################################################################################################| 10/10 [02:32<00:00, 15.22s/it]\n"
     ]
    },
    {
     "name": "stdout",
     "output_type": "stream",
     "text": [
      "[700]\tcv_agg's valid auc: 0.871559 + 0.00974216\n",
      "Early stopping, best iteration is:\n",
      "[604]\tcv_agg's valid auc: 0.871673 + 0.00933997\n"
     ]
    },
    {
     "name": "stderr",
     "output_type": "stream",
     "text": [
      "feature_fraction_stage2, val_score: 0.876165:   0%|                                                                                                                                                                          | 0/6 [00:00<?, ?it/s]"
     ]
    },
    {
     "name": "stdout",
     "output_type": "stream",
     "text": [
      "Training until validation scores don't improve for 100 rounds\n",
      "[100]\tcv_agg's valid auc: 0.856513 + 0.0105255\n",
      "[200]\tcv_agg's valid auc: 0.867707 + 0.00943846\n",
      "[300]\tcv_agg's valid auc: 0.871723 + 0.0089865\n",
      "[400]\tcv_agg's valid auc: 0.872473 + 0.00912748\n",
      "[500]\tcv_agg's valid auc: 0.872858 + 0.00904777\n",
      "[600]\tcv_agg's valid auc: 0.873351 + 0.00912606\n",
      "[700]\tcv_agg's valid auc: 0.873348 + 0.0088976\n",
      "[800]\tcv_agg's valid auc: 0.873407 + 0.00895886\n"
     ]
    },
    {
     "name": "stderr",
     "output_type": "stream",
     "text": [
      "feature_fraction_stage2, val_score: 0.876165:  17%|###########################                                                                                                                                       | 1/6 [00:15<01:18, 15.67s/it][I 2024-07-08 19:49:42,899] Trial 37 finished with value: 0.8736209315595894 and parameters: {'feature_fraction': 0.516}. Best is trial 37 with value: 0.8736209315595894.\n",
      "feature_fraction_stage2, val_score: 0.876165:  17%|###########################                                                                                                                                       | 1/6 [00:15<01:18, 15.67s/it]"
     ]
    },
    {
     "name": "stdout",
     "output_type": "stream",
     "text": [
      "Early stopping, best iteration is:\n",
      "[755]\tcv_agg's valid auc: 0.873621 + 0.00894891\n",
      "Training until validation scores don't improve for 100 rounds\n",
      "[100]\tcv_agg's valid auc: 0.865076 + 0.00749211\n",
      "[200]\tcv_agg's valid auc: 0.87144 + 0.00925368\n",
      "[300]\tcv_agg's valid auc: 0.874655 + 0.0096169\n",
      "[400]\tcv_agg's valid auc: 0.875783 + 0.00941715\n",
      "[500]\tcv_agg's valid auc: 0.87672 + 0.00924776\n",
      "[600]\tcv_agg's valid auc: 0.877112 + 0.00916728\n",
      "[700]\tcv_agg's valid auc: 0.877328 + 0.00935605\n"
     ]
    },
    {
     "name": "stderr",
     "output_type": "stream",
     "text": [
      "feature_fraction_stage2, val_score: 0.877403:  33%|######################################################                                                                                                            | 2/6 [00:28<00:56, 14.13s/it][I 2024-07-08 19:49:55,949] Trial 38 finished with value: 0.8774027520603692 and parameters: {'feature_fraction': 0.58}. Best is trial 38 with value: 0.8774027520603692.\n",
      "feature_fraction_stage2, val_score: 0.877403:  33%|######################################################                                                                                                            | 2/6 [00:28<00:56, 14.13s/it]"
     ]
    },
    {
     "name": "stdout",
     "output_type": "stream",
     "text": [
      "[800]\tcv_agg's valid auc: 0.877331 + 0.00937728\n",
      "Early stopping, best iteration is:\n",
      "[715]\tcv_agg's valid auc: 0.877403 + 0.00926668\n",
      "Training until validation scores don't improve for 100 rounds\n",
      "[100]\tcv_agg's valid auc: 0.860668 + 0.00791325\n",
      "[200]\tcv_agg's valid auc: 0.865984 + 0.00800276\n",
      "[300]\tcv_agg's valid auc: 0.869824 + 0.0076489\n",
      "[400]\tcv_agg's valid auc: 0.870377 + 0.00797566\n",
      "[500]\tcv_agg's valid auc: 0.870767 + 0.00803212\n",
      "[600]\tcv_agg's valid auc: 0.871117 + 0.00778678\n",
      "[700]\tcv_agg's valid auc: 0.871433 + 0.00813761\n",
      "[800]\tcv_agg's valid auc: 0.87138 + 0.0081238\n"
     ]
    },
    {
     "name": "stderr",
     "output_type": "stream",
     "text": [
      "feature_fraction_stage2, val_score: 0.877403:  50%|#################################################################################                                                                                 | 3/6 [00:40<00:39, 13.10s/it][I 2024-07-08 19:50:07,820] Trial 39 finished with value: 0.8715882562227305 and parameters: {'feature_fraction': 0.5479999999999999}. Best is trial 38 with value: 0.8774027520603692.\n",
      "feature_fraction_stage2, val_score: 0.877403:  50%|#################################################################################                                                                                 | 3/6 [00:40<00:39, 13.10s/it]"
     ]
    },
    {
     "name": "stdout",
     "output_type": "stream",
     "text": [
      "Early stopping, best iteration is:\n",
      "[728]\tcv_agg's valid auc: 0.871588 + 0.00819946\n",
      "Training until validation scores don't improve for 100 rounds\n",
      "[100]\tcv_agg's valid auc: 0.85142 + 0.0101138\n",
      "[200]\tcv_agg's valid auc: 0.863112 + 0.0121752\n",
      "[300]\tcv_agg's valid auc: 0.869238 + 0.0114847\n",
      "[400]\tcv_agg's valid auc: 0.871208 + 0.0111906\n",
      "[500]\tcv_agg's valid auc: 0.871971 + 0.0111723\n",
      "[600]\tcv_agg's valid auc: 0.872357 + 0.0109613\n",
      "[700]\tcv_agg's valid auc: 0.872628 + 0.0106121\n",
      "[800]\tcv_agg's valid auc: 0.872943 + 0.0103268\n",
      "[900]\tcv_agg's valid auc: 0.872904 + 0.0102704\n"
     ]
    },
    {
     "name": "stderr",
     "output_type": "stream",
     "text": [
      "feature_fraction_stage2, val_score: 0.877403:  67%|############################################################################################################                                                      | 4/6 [00:53<00:25, 12.84s/it][I 2024-07-08 19:50:20,270] Trial 40 finished with value: 0.8730877939479411 and parameters: {'feature_fraction': 0.42}. Best is trial 38 with value: 0.8774027520603692.\n",
      "feature_fraction_stage2, val_score: 0.877403:  67%|############################################################################################################                                                      | 4/6 [00:53<00:25, 12.84s/it]"
     ]
    },
    {
     "name": "stdout",
     "output_type": "stream",
     "text": [
      "Early stopping, best iteration is:\n",
      "[829]\tcv_agg's valid auc: 0.873088 + 0.0103602\n",
      "Training until validation scores don't improve for 100 rounds\n",
      "[100]\tcv_agg's valid auc: 0.854723 + 0.00604163\n",
      "[200]\tcv_agg's valid auc: 0.863959 + 0.00717359\n",
      "[300]\tcv_agg's valid auc: 0.868585 + 0.00755855\n",
      "[400]\tcv_agg's valid auc: 0.870169 + 0.00764789\n",
      "[500]\tcv_agg's valid auc: 0.871011 + 0.00755581\n",
      "[600]\tcv_agg's valid auc: 0.871865 + 0.0075591\n",
      "[700]\tcv_agg's valid auc: 0.871945 + 0.00769635\n",
      "Early stopping, best iteration is:\n",
      "[624]\tcv_agg's valid auc: 0.871996 + 0.0075741\n"
     ]
    },
    {
     "name": "stderr",
     "output_type": "stream",
     "text": [
      "feature_fraction_stage2, val_score: 0.877403:  83%|#######################################################################################################################################                           | 5/6 [01:04<00:12, 12.28s/it][I 2024-07-08 19:50:31,565] Trial 41 finished with value: 0.8719955458003406 and parameters: {'feature_fraction': 0.484}. Best is trial 38 with value: 0.8774027520603692.\n",
      "feature_fraction_stage2, val_score: 0.877403:  83%|#######################################################################################################################################                           | 5/6 [01:04<00:12, 12.28s/it]"
     ]
    },
    {
     "name": "stdout",
     "output_type": "stream",
     "text": [
      "Training until validation scores don't improve for 100 rounds\n",
      "[100]\tcv_agg's valid auc: 0.857211 + 0.00724121\n",
      "[200]\tcv_agg's valid auc: 0.866523 + 0.00976369\n",
      "[300]\tcv_agg's valid auc: 0.87078 + 0.00889754\n",
      "[400]\tcv_agg's valid auc: 0.872885 + 0.00885503\n",
      "[500]\tcv_agg's valid auc: 0.873271 + 0.00876694\n",
      "[600]\tcv_agg's valid auc: 0.87403 + 0.00857061\n",
      "[700]\tcv_agg's valid auc: 0.874156 + 0.0085149\n",
      "[800]\tcv_agg's valid auc: 0.874456 + 0.00840318\n"
     ]
    },
    {
     "name": "stderr",
     "output_type": "stream",
     "text": [
      "feature_fraction_stage2, val_score: 0.877403: 100%|##################################################################################################################################################################| 6/6 [01:16<00:00, 12.21s/it][I 2024-07-08 19:50:43,620] Trial 42 finished with value: 0.8745300516922084 and parameters: {'feature_fraction': 0.45199999999999996}. Best is trial 38 with value: 0.8774027520603692.\n",
      "feature_fraction_stage2, val_score: 0.877403: 100%|##################################################################################################################################################################| 6/6 [01:16<00:00, 12.73s/it]\n"
     ]
    },
    {
     "name": "stdout",
     "output_type": "stream",
     "text": [
      "[900]\tcv_agg's valid auc: 0.874457 + 0.00833723\n",
      "Early stopping, best iteration is:\n",
      "[817]\tcv_agg's valid auc: 0.87453 + 0.00838166\n"
     ]
    },
    {
     "name": "stderr",
     "output_type": "stream",
     "text": [
      "regularization_factors, val_score: 0.877403:   0%|                                                                                                                                                                          | 0/20 [00:00<?, ?it/s]"
     ]
    },
    {
     "name": "stdout",
     "output_type": "stream",
     "text": [
      "Training until validation scores don't improve for 100 rounds\n",
      "[100]\tcv_agg's valid auc: 0.865689 + 0.00734091\n",
      "[200]\tcv_agg's valid auc: 0.872659 + 0.00993031\n",
      "[300]\tcv_agg's valid auc: 0.876098 + 0.00991701\n",
      "[400]\tcv_agg's valid auc: 0.876485 + 0.0101721\n",
      "[500]\tcv_agg's valid auc: 0.876834 + 0.0103398\n",
      "[600]\tcv_agg's valid auc: 0.877076 + 0.0102918\n",
      "[700]\tcv_agg's valid auc: 0.877284 + 0.0104803\n"
     ]
    },
    {
     "name": "stderr",
     "output_type": "stream",
     "text": [
      "regularization_factors, val_score: 0.877403:   5%|########1                                                                                                                                                         | 1/20 [00:13<04:09, 13.13s/it][I 2024-07-08 19:50:56,758] Trial 43 finished with value: 0.8773931648629353 and parameters: {'lambda_l1': 2.084404668999185e-06, 'lambda_l2': 1.8720644791431787e-08}. Best is trial 43 with value: 0.8773931648629353.\n",
      "regularization_factors, val_score: 0.877403:   5%|########1                                                                                                                                                         | 1/20 [00:13<04:09, 13.13s/it]"
     ]
    },
    {
     "name": "stdout",
     "output_type": "stream",
     "text": [
      "Early stopping, best iteration is:\n",
      "[658]\tcv_agg's valid auc: 0.877393 + 0.0103563\n",
      "Training until validation scores don't improve for 100 rounds\n",
      "[100]\tcv_agg's valid auc: 0.865678 + 0.00731947\n",
      "[200]\tcv_agg's valid auc: 0.871093 + 0.0104594\n",
      "[300]\tcv_agg's valid auc: 0.874994 + 0.00998548\n",
      "[400]\tcv_agg's valid auc: 0.87602 + 0.0103504\n",
      "[500]\tcv_agg's valid auc: 0.876683 + 0.0100097\n",
      "[600]\tcv_agg's valid auc: 0.87692 + 0.00998539\n"
     ]
    },
    {
     "name": "stderr",
     "output_type": "stream",
     "text": [
      "regularization_factors, val_score: 0.877403:  10%|################2                                                                                                                                                 | 2/20 [00:26<03:53, 13.00s/it][I 2024-07-08 19:51:09,665] Trial 44 finished with value: 0.8769784597973952 and parameters: {'lambda_l1': 1.5369308309308772e-06, 'lambda_l2': 1.218911021347289e-08}. Best is trial 43 with value: 0.8773931648629353.\n",
      "regularization_factors, val_score: 0.877403:  10%|################2                                                                                                                                                 | 2/20 [00:26<03:53, 13.00s/it]"
     ]
    },
    {
     "name": "stdout",
     "output_type": "stream",
     "text": [
      "[700]\tcv_agg's valid auc: 0.876829 + 0.010072\n",
      "Early stopping, best iteration is:\n",
      "[606]\tcv_agg's valid auc: 0.876978 + 0.00996614\n",
      "Training until validation scores don't improve for 100 rounds\n",
      "[100]\tcv_agg's valid auc: 0.865674 + 0.00735593\n",
      "[200]\tcv_agg's valid auc: 0.872057 + 0.00960894\n",
      "[300]\tcv_agg's valid auc: 0.875574 + 0.00905052\n",
      "[400]\tcv_agg's valid auc: 0.876298 + 0.00917436\n",
      "[500]\tcv_agg's valid auc: 0.876583 + 0.00922596\n",
      "[600]\tcv_agg's valid auc: 0.876619 + 0.00901901\n",
      "[700]\tcv_agg's valid auc: 0.87661 + 0.00910073\n"
     ]
    },
    {
     "name": "stderr",
     "output_type": "stream",
     "text": [
      "regularization_factors, val_score: 0.877403:  15%|########################3                                                                                                                                         | 3/20 [00:38<03:36, 12.72s/it][I 2024-07-08 19:51:22,048] Trial 45 finished with value: 0.8767464869291558 and parameters: {'lambda_l1': 1.226329855099527e-06, 'lambda_l2': 1.0201540936825929e-08}. Best is trial 43 with value: 0.8773931648629353.\n",
      "regularization_factors, val_score: 0.877403:  15%|########################3                                                                                                                                         | 3/20 [00:38<03:36, 12.72s/it]"
     ]
    },
    {
     "name": "stdout",
     "output_type": "stream",
     "text": [
      "Early stopping, best iteration is:\n",
      "[634]\tcv_agg's valid auc: 0.876746 + 0.00907507\n",
      "Training until validation scores don't improve for 100 rounds\n",
      "[100]\tcv_agg's valid auc: 0.865658 + 0.00733365\n",
      "[200]\tcv_agg's valid auc: 0.872756 + 0.00866144\n",
      "[300]\tcv_agg's valid auc: 0.876812 + 0.00794731\n",
      "[400]\tcv_agg's valid auc: 0.877925 + 0.00747171\n",
      "[500]\tcv_agg's valid auc: 0.877929 + 0.00762899\n",
      "[600]\tcv_agg's valid auc: 0.878616 + 0.00761347\n"
     ]
    },
    {
     "name": "stderr",
     "output_type": "stream",
     "text": [
      "regularization_factors, val_score: 0.878653:  20%|################################4                                                                                                                                 | 4/20 [00:49<03:12, 12.04s/it][I 2024-07-08 19:51:33,054] Trial 46 finished with value: 0.8786528115054503 and parameters: {'lambda_l1': 1.0917851673273415e-06, 'lambda_l2': 1.0235417878966598e-08}. Best is trial 46 with value: 0.8786528115054503.\n",
      "regularization_factors, val_score: 0.878653:  20%|################################4                                                                                                                                 | 4/20 [00:49<03:12, 12.04s/it]"
     ]
    },
    {
     "name": "stdout",
     "output_type": "stream",
     "text": [
      "[700]\tcv_agg's valid auc: 0.878498 + 0.0076891\n",
      "Early stopping, best iteration is:\n",
      "[604]\tcv_agg's valid auc: 0.878653 + 0.00762584\n",
      "Training until validation scores don't improve for 100 rounds\n",
      "[100]\tcv_agg's valid auc: 0.865677 + 0.0073662\n",
      "[200]\tcv_agg's valid auc: 0.872527 + 0.00866162\n",
      "[300]\tcv_agg's valid auc: 0.876321 + 0.00838301\n",
      "[400]\tcv_agg's valid auc: 0.876936 + 0.00838212\n",
      "[500]\tcv_agg's valid auc: 0.877566 + 0.00854637\n",
      "[600]\tcv_agg's valid auc: 0.877441 + 0.00824607\n",
      "Early stopping, best iteration is:\n",
      "[523]\tcv_agg's valid auc: 0.877716 + 0.00852968\n"
     ]
    },
    {
     "name": "stderr",
     "output_type": "stream",
     "text": [
      "regularization_factors, val_score: 0.878653:  25%|########################################5                                                                                                                         | 5/20 [00:59<02:50, 11.37s/it][I 2024-07-08 19:51:43,233] Trial 47 finished with value: 0.8777162996070319 and parameters: {'lambda_l1': 1.1706767895354121e-06, 'lambda_l2': 1.6852611000240743e-08}. Best is trial 46 with value: 0.8786528115054503.\n",
      "regularization_factors, val_score: 0.878653:  25%|########################################5                                                                                                                         | 5/20 [00:59<02:50, 11.37s/it]"
     ]
    },
    {
     "name": "stdout",
     "output_type": "stream",
     "text": [
      "Training until validation scores don't improve for 100 rounds\n",
      "[100]\tcv_agg's valid auc: 0.865647 + 0.00732116\n",
      "[200]\tcv_agg's valid auc: 0.871834 + 0.00949674\n",
      "[300]\tcv_agg's valid auc: 0.875299 + 0.0104078\n",
      "[400]\tcv_agg's valid auc: 0.876702 + 0.0100969\n",
      "[500]\tcv_agg's valid auc: 0.877143 + 0.0100459\n"
     ]
    },
    {
     "name": "stderr",
     "output_type": "stream",
     "text": [
      "regularization_factors, val_score: 0.878653:  30%|################################################6                                                                                                                 | 6/20 [01:10<02:34, 11.05s/it][I 2024-07-08 19:51:53,662] Trial 48 finished with value: 0.8772136243030685 and parameters: {'lambda_l1': 9.811856334990967e-07, 'lambda_l2': 1.040535847412681e-08}. Best is trial 46 with value: 0.8786528115054503.\n",
      "regularization_factors, val_score: 0.878653:  30%|################################################6                                                                                                                 | 6/20 [01:10<02:34, 11.05s/it]"
     ]
    },
    {
     "name": "stdout",
     "output_type": "stream",
     "text": [
      "[600]\tcv_agg's valid auc: 0.877025 + 0.0100789\n",
      "Early stopping, best iteration is:\n",
      "[503]\tcv_agg's valid auc: 0.877214 + 0.0100677\n",
      "Training until validation scores don't improve for 100 rounds\n",
      "[100]\tcv_agg's valid auc: 0.865662 + 0.00733775\n",
      "[200]\tcv_agg's valid auc: 0.871902 + 0.00956904\n",
      "[300]\tcv_agg's valid auc: 0.874228 + 0.00960343\n",
      "[400]\tcv_agg's valid auc: 0.875087 + 0.00959928\n",
      "[500]\tcv_agg's valid auc: 0.87581 + 0.00963718\n",
      "[600]\tcv_agg's valid auc: 0.875951 + 0.00995635\n",
      "[700]\tcv_agg's valid auc: 0.876177 + 0.0100011\n",
      "[800]\tcv_agg's valid auc: 0.876398 + 0.0100736\n",
      "[900]\tcv_agg's valid auc: 0.876562 + 0.00998914\n"
     ]
    },
    {
     "name": "stderr",
     "output_type": "stream",
     "text": [
      "regularization_factors, val_score: 0.878653:  35%|########################################################7                                                                                                         | 7/20 [01:23<02:35, 11.95s/it][I 2024-07-08 19:52:07,452] Trial 49 finished with value: 0.8766318940434052 and parameters: {'lambda_l1': 1.0214468930567828e-06, 'lambda_l2': 1.1124442478116617e-08}. Best is trial 46 with value: 0.8786528115054503.\n",
      "regularization_factors, val_score: 0.878653:  35%|########################################################7                                                                                                         | 7/20 [01:23<02:35, 11.95s/it]"
     ]
    },
    {
     "name": "stdout",
     "output_type": "stream",
     "text": [
      "Early stopping, best iteration is:\n",
      "[894]\tcv_agg's valid auc: 0.876632 + 0.0100065\n",
      "Training until validation scores don't improve for 100 rounds\n",
      "[100]\tcv_agg's valid auc: 0.865649 + 0.00735232\n",
      "[200]\tcv_agg's valid auc: 0.871793 + 0.00976234\n",
      "[300]\tcv_agg's valid auc: 0.874651 + 0.00915745\n",
      "[400]\tcv_agg's valid auc: 0.875613 + 0.00895888\n",
      "[500]\tcv_agg's valid auc: 0.876083 + 0.00916409\n",
      "[600]\tcv_agg's valid auc: 0.876384 + 0.00894255\n",
      "[700]\tcv_agg's valid auc: 0.876641 + 0.00892359\n",
      "[800]\tcv_agg's valid auc: 0.87681 + 0.00907732\n",
      "[900]\tcv_agg's valid auc: 0.876901 + 0.00904085\n"
     ]
    },
    {
     "name": "stderr",
     "output_type": "stream",
     "text": [
      "regularization_factors, val_score: 0.878653:  40%|################################################################8                                                                                                 | 8/20 [01:37<02:31, 12.62s/it][I 2024-07-08 19:52:21,531] Trial 50 finished with value: 0.8769785886915984 and parameters: {'lambda_l1': 1.3279504683948587e-06, 'lambda_l2': 2.1671801708082837e-08}. Best is trial 46 with value: 0.8786528115054503.\n",
      "regularization_factors, val_score: 0.878653:  40%|################################################################8                                                                                                 | 8/20 [01:37<02:31, 12.62s/it]"
     ]
    },
    {
     "name": "stdout",
     "output_type": "stream",
     "text": [
      "Early stopping, best iteration is:\n",
      "[875]\tcv_agg's valid auc: 0.876979 + 0.00902231\n",
      "Training until validation scores don't improve for 100 rounds\n",
      "[100]\tcv_agg's valid auc: 0.865642 + 0.00731098\n",
      "[200]\tcv_agg's valid auc: 0.872513 + 0.00865728\n",
      "[300]\tcv_agg's valid auc: 0.875661 + 0.00800412\n",
      "[400]\tcv_agg's valid auc: 0.877059 + 0.00800476\n",
      "[500]\tcv_agg's valid auc: 0.877523 + 0.00787937\n",
      "[600]\tcv_agg's valid auc: 0.877676 + 0.00780383\n"
     ]
    },
    {
     "name": "stderr",
     "output_type": "stream",
     "text": [
      "regularization_factors, val_score: 0.878653:  45%|########################################################################9                                                                                         | 9/20 [01:50<02:17, 12.49s/it][I 2024-07-08 19:52:33,739] Trial 51 finished with value: 0.8778577288762727 and parameters: {'lambda_l1': 1.1610913543738788e-06, 'lambda_l2': 1.7736966033128965e-08}. Best is trial 46 with value: 0.8786528115054503.\n",
      "regularization_factors, val_score: 0.878653:  45%|########################################################################9                                                                                         | 9/20 [01:50<02:17, 12.49s/it]"
     ]
    },
    {
     "name": "stdout",
     "output_type": "stream",
     "text": [
      "[700]\tcv_agg's valid auc: 0.87765 + 0.00791441\n",
      "Early stopping, best iteration is:\n",
      "[617]\tcv_agg's valid auc: 0.877858 + 0.0077757\n",
      "Training until validation scores don't improve for 100 rounds\n",
      "[100]\tcv_agg's valid auc: 0.865678 + 0.00733551\n",
      "[200]\tcv_agg's valid auc: 0.871911 + 0.00957018\n",
      "[300]\tcv_agg's valid auc: 0.874274 + 0.00955549\n",
      "[400]\tcv_agg's valid auc: 0.875363 + 0.00924688\n",
      "[500]\tcv_agg's valid auc: 0.875874 + 0.00954977\n",
      "[600]\tcv_agg's valid auc: 0.876075 + 0.00980248\n",
      "[700]\tcv_agg's valid auc: 0.876335 + 0.00979975\n",
      "[800]\tcv_agg's valid auc: 0.876627 + 0.00978216\n",
      "[900]\tcv_agg's valid auc: 0.876748 + 0.00974977\n"
     ]
    },
    {
     "name": "stderr",
     "output_type": "stream",
     "text": [
      "regularization_factors, val_score: 0.878653:  50%|################################################################################5                                                                                | 10/20 [02:03<02:07, 12.77s/it][I 2024-07-08 19:52:47,113] Trial 52 finished with value: 0.8768036997538573 and parameters: {'lambda_l1': 1.01831112792653e-06, 'lambda_l2': 2.056572788842633e-08}. Best is trial 46 with value: 0.8786528115054503.\n",
      "regularization_factors, val_score: 0.878653:  50%|################################################################################5                                                                                | 10/20 [02:03<02:07, 12.77s/it]"
     ]
    },
    {
     "name": "stdout",
     "output_type": "stream",
     "text": [
      "[1000]\tcv_agg's valid auc: 0.876745 + 0.00974845\n",
      "Did not meet early stopping. Best iteration is:\n",
      "[957]\tcv_agg's valid auc: 0.876804 + 0.00967843\n",
      "Training until validation scores don't improve for 100 rounds\n",
      "[100]\tcv_agg's valid auc: 0.86938 + 0.00858482\n",
      "[200]\tcv_agg's valid auc: 0.874276 + 0.00772444\n",
      "[300]\tcv_agg's valid auc: 0.876031 + 0.00809209\n",
      "[400]\tcv_agg's valid auc: 0.876679 + 0.00829819\n",
      "[500]\tcv_agg's valid auc: 0.877232 + 0.00835807\n",
      "[600]\tcv_agg's valid auc: 0.877544 + 0.00844759\n",
      "[700]\tcv_agg's valid auc: 0.877813 + 0.00819123\n",
      "[800]\tcv_agg's valid auc: 0.8779 + 0.00829821\n",
      "[900]\tcv_agg's valid auc: 0.878172 + 0.00837087\n"
     ]
    },
    {
     "name": "stderr",
     "output_type": "stream",
     "text": [
      "regularization_factors, val_score: 0.878653:  55%|########################################################################################5                                                                        | 11/20 [02:25<02:19, 15.47s/it][I 2024-07-08 19:53:08,705] Trial 53 finished with value: 0.8782197251022065 and parameters: {'lambda_l1': 1.9266741605844185e-07, 'lambda_l2': 8.062487098766148}. Best is trial 46 with value: 0.8786528115054503.\n",
      "regularization_factors, val_score: 0.878653:  55%|########################################################################################5                                                                        | 11/20 [02:25<02:19, 15.47s/it]"
     ]
    },
    {
     "name": "stdout",
     "output_type": "stream",
     "text": [
      "[1000]\tcv_agg's valid auc: 0.878191 + 0.00845084\n",
      "Did not meet early stopping. Best iteration is:\n",
      "[991]\tcv_agg's valid auc: 0.87822 + 0.00843105\n",
      "Training until validation scores don't improve for 100 rounds\n",
      "[100]\tcv_agg's valid auc: 0.866273 + 0.0114512\n",
      "[200]\tcv_agg's valid auc: 0.872549 + 0.0109445\n",
      "[300]\tcv_agg's valid auc: 0.874429 + 0.0106619\n",
      "[400]\tcv_agg's valid auc: 0.875265 + 0.0104471\n",
      "[500]\tcv_agg's valid auc: 0.8759 + 0.010589\n",
      "[600]\tcv_agg's valid auc: 0.876404 + 0.0104802\n",
      "[700]\tcv_agg's valid auc: 0.876888 + 0.0102386\n",
      "[800]\tcv_agg's valid auc: 0.877079 + 0.0101508\n",
      "[900]\tcv_agg's valid auc: 0.877121 + 0.0100928\n",
      "Early stopping, best iteration is:\n",
      "[810]\tcv_agg's valid auc: 0.87718 + 0.0101108\n"
     ]
    },
    {
     "name": "stderr",
     "output_type": "stream",
     "text": [
      "regularization_factors, val_score: 0.878653:  60%|################################################################################################6                                                                | 12/20 [02:46<02:18, 17.30s/it][I 2024-07-08 19:53:30,211] Trial 54 finished with value: 0.8771797171166197 and parameters: {'lambda_l1': 3.168145615057284e-08, 'lambda_l2': 1.662247209341373}. Best is trial 46 with value: 0.8786528115054503.\n",
      "regularization_factors, val_score: 0.878653:  60%|################################################################################################6                                                                | 12/20 [02:46<02:18, 17.30s/it]"
     ]
    },
    {
     "name": "stdout",
     "output_type": "stream",
     "text": [
      "Training until validation scores don't improve for 100 rounds\n",
      "[100]\tcv_agg's valid auc: 0.862484 + 0.00826993\n",
      "[200]\tcv_agg's valid auc: 0.869712 + 0.00761001\n",
      "[300]\tcv_agg's valid auc: 0.872879 + 0.00776657\n",
      "[400]\tcv_agg's valid auc: 0.874145 + 0.00813031\n",
      "[500]\tcv_agg's valid auc: 0.874647 + 0.00850237\n",
      "[600]\tcv_agg's valid auc: 0.875149 + 0.00840097\n"
     ]
    },
    {
     "name": "stderr",
     "output_type": "stream",
     "text": [
      "regularization_factors, val_score: 0.878653:  65%|########################################################################################################6                                                        | 13/20 [02:57<01:47, 15.33s/it][I 2024-07-08 19:53:40,991] Trial 55 finished with value: 0.8751791782512442 and parameters: {'lambda_l1': 0.00022371693717727808, 'lambda_l2': 6.713973065476119e-06}. Best is trial 46 with value: 0.8786528115054503.\n",
      "regularization_factors, val_score: 0.878653:  65%|########################################################################################################6                                                        | 13/20 [02:57<01:47, 15.33s/it]"
     ]
    },
    {
     "name": "stdout",
     "output_type": "stream",
     "text": [
      "Early stopping, best iteration is:\n",
      "[588]\tcv_agg's valid auc: 0.875179 + 0.00837449\n",
      "Training until validation scores don't improve for 100 rounds\n",
      "[100]\tcv_agg's valid auc: 0.872315 + 0.0124547\n",
      "[200]\tcv_agg's valid auc: 0.876032 + 0.0105794\n",
      "[300]\tcv_agg's valid auc: 0.87749 + 0.0103698\n",
      "[400]\tcv_agg's valid auc: 0.877732 + 0.0103105\n",
      "[500]\tcv_agg's valid auc: 0.87835 + 0.0102511\n",
      "[600]\tcv_agg's valid auc: 0.878801 + 0.00997697\n",
      "[700]\tcv_agg's valid auc: 0.878754 + 0.00964235\n",
      "[800]\tcv_agg's valid auc: 0.878946 + 0.00961578\n",
      "[900]\tcv_agg's valid auc: 0.879121 + 0.00957187\n"
     ]
    },
    {
     "name": "stderr",
     "output_type": "stream",
     "text": [
      "regularization_factors, val_score: 0.879219:  70%|################################################################################################################7                                                | 14/20 [03:18<01:41, 16.98s/it][I 2024-07-08 19:54:01,774] Trial 56 finished with value: 0.8792190948589833 and parameters: {'lambda_l1': 0.00011335671488733103, 'lambda_l2': 7.328707001226165}. Best is trial 56 with value: 0.8792190948589833.\n",
      "regularization_factors, val_score: 0.879219:  70%|################################################################################################################7                                                | 14/20 [03:18<01:41, 16.98s/it]"
     ]
    },
    {
     "name": "stdout",
     "output_type": "stream",
     "text": [
      "[1000]\tcv_agg's valid auc: 0.879208 + 0.00956489\n",
      "Did not meet early stopping. Best iteration is:\n",
      "[998]\tcv_agg's valid auc: 0.879219 + 0.00956126\n",
      "Training until validation scores don't improve for 100 rounds\n",
      "[100]\tcv_agg's valid auc: 0.868825 + 0.0110456\n",
      "[200]\tcv_agg's valid auc: 0.873695 + 0.0102697\n",
      "[300]\tcv_agg's valid auc: 0.8757 + 0.00955889\n",
      "[400]\tcv_agg's valid auc: 0.876772 + 0.00960379\n",
      "[500]\tcv_agg's valid auc: 0.87723 + 0.00938612\n",
      "[600]\tcv_agg's valid auc: 0.877412 + 0.0093627\n",
      "[700]\tcv_agg's valid auc: 0.877769 + 0.00945418\n",
      "[800]\tcv_agg's valid auc: 0.87787 + 0.00933579\n"
     ]
    },
    {
     "name": "stderr",
     "output_type": "stream",
     "text": [
      "regularization_factors, val_score: 0.879219:  75%|########################################################################################################################7                                        | 15/20 [03:36<01:27, 17.46s/it][I 2024-07-08 19:54:20,355] Trial 57 finished with value: 0.8779489530096661 and parameters: {'lambda_l1': 0.00034674148584550274, 'lambda_l2': 8.430073224076033}. Best is trial 56 with value: 0.8792190948589833.\n",
      "regularization_factors, val_score: 0.879219:  75%|########################################################################################################################7                                        | 15/20 [03:36<01:27, 17.46s/it]"
     ]
    },
    {
     "name": "stdout",
     "output_type": "stream",
     "text": [
      "Early stopping, best iteration is:\n",
      "[748]\tcv_agg's valid auc: 0.877949 + 0.00933407\n",
      "Training until validation scores don't improve for 100 rounds\n",
      "[100]\tcv_agg's valid auc: 0.868237 + 0.0120569\n",
      "[200]\tcv_agg's valid auc: 0.873805 + 0.0102793\n",
      "[300]\tcv_agg's valid auc: 0.874838 + 0.0104755\n",
      "[400]\tcv_agg's valid auc: 0.875796 + 0.00997152\n",
      "[500]\tcv_agg's valid auc: 0.876457 + 0.00981722\n",
      "[600]\tcv_agg's valid auc: 0.876707 + 0.0101214\n",
      "[700]\tcv_agg's valid auc: 0.876975 + 0.00995643\n",
      "[800]\tcv_agg's valid auc: 0.8771 + 0.00998321\n",
      "[900]\tcv_agg's valid auc: 0.877365 + 0.00990568\n"
     ]
    },
    {
     "name": "stderr",
     "output_type": "stream",
     "text": [
      "regularization_factors, val_score: 0.879219:  80%|################################################################################################################################8                                | 16/20 [04:00<01:17, 19.41s/it][I 2024-07-08 19:54:44,282] Trial 58 finished with value: 0.8774358318948311 and parameters: {'lambda_l1': 0.0014729693838666296, 'lambda_l2': 9.288492199210662}. Best is trial 56 with value: 0.8792190948589833.\n",
      "regularization_factors, val_score: 0.879219:  80%|################################################################################################################################8                                | 16/20 [04:00<01:17, 19.41s/it]"
     ]
    },
    {
     "name": "stdout",
     "output_type": "stream",
     "text": [
      "[1000]\tcv_agg's valid auc: 0.877418 + 0.00988723\n",
      "Did not meet early stopping. Best iteration is:\n",
      "[980]\tcv_agg's valid auc: 0.877436 + 0.00994334\n",
      "Training until validation scores don't improve for 100 rounds\n",
      "[100]\tcv_agg's valid auc: 0.859336 + 0.0115949\n",
      "[200]\tcv_agg's valid auc: 0.866867 + 0.0122298\n",
      "[300]\tcv_agg's valid auc: 0.869458 + 0.0118207\n",
      "[400]\tcv_agg's valid auc: 0.870608 + 0.0115545\n",
      "[500]\tcv_agg's valid auc: 0.871534 + 0.0113216\n",
      "[600]\tcv_agg's valid auc: 0.872107 + 0.0111201\n",
      "[700]\tcv_agg's valid auc: 0.872555 + 0.0112517\n",
      "[800]\tcv_agg's valid auc: 0.872861 + 0.0111719\n",
      "[900]\tcv_agg's valid auc: 0.873002 + 0.0111973\n"
     ]
    },
    {
     "name": "stderr",
     "output_type": "stream",
     "text": [
      "regularization_factors, val_score: 0.879219:  85%|########################################################################################################################################8                        | 17/20 [04:23<01:01, 20.47s/it][I 2024-07-08 19:55:07,218] Trial 59 finished with value: 0.8731028404005947 and parameters: {'lambda_l1': 0.0001025236382882596, 'lambda_l2': 0.790680338291053}. Best is trial 56 with value: 0.8792190948589833.\n",
      "regularization_factors, val_score: 0.879219:  85%|########################################################################################################################################8                        | 17/20 [04:23<01:01, 20.47s/it]"
     ]
    },
    {
     "name": "stdout",
     "output_type": "stream",
     "text": [
      "[1000]\tcv_agg's valid auc: 0.873085 + 0.0111697\n",
      "Did not meet early stopping. Best iteration is:\n",
      "[991]\tcv_agg's valid auc: 0.873103 + 0.0112099\n",
      "Training until validation scores don't improve for 100 rounds\n",
      "[100]\tcv_agg's valid auc: 0.864192 + 0.00783248\n",
      "[200]\tcv_agg's valid auc: 0.870826 + 0.00881764\n",
      "[300]\tcv_agg's valid auc: 0.873542 + 0.00880974\n"
     ]
    },
    {
     "name": "stderr",
     "output_type": "stream",
     "text": [
      "regularization_factors, val_score: 0.879219:  90%|################################################################################################################################################9                | 18/20 [04:30<00:32, 16.39s/it][I 2024-07-08 19:55:14,114] Trial 60 finished with value: 0.8736695753654019 and parameters: {'lambda_l1': 0.17501311869991862, 'lambda_l2': 0.03116097718157842}. Best is trial 56 with value: 0.8792190948589833.\n",
      "regularization_factors, val_score: 0.879219:  90%|################################################################################################################################################9                | 18/20 [04:30<00:32, 16.39s/it]"
     ]
    },
    {
     "name": "stdout",
     "output_type": "stream",
     "text": [
      "[400]\tcv_agg's valid auc: 0.873666 + 0.00867701\n",
      "Early stopping, best iteration is:\n",
      "[310]\tcv_agg's valid auc: 0.87367 + 0.00867683\n",
      "Training until validation scores don't improve for 100 rounds\n",
      "[100]\tcv_agg's valid auc: 0.868108 + 0.00942526\n",
      "[200]\tcv_agg's valid auc: 0.872701 + 0.0084377\n",
      "[300]\tcv_agg's valid auc: 0.875035 + 0.00809737\n",
      "[400]\tcv_agg's valid auc: 0.875829 + 0.00753915\n",
      "[500]\tcv_agg's valid auc: 0.876341 + 0.00778502\n",
      "[600]\tcv_agg's valid auc: 0.876556 + 0.00775831\n",
      "[700]\tcv_agg's valid auc: 0.87676 + 0.00777593\n",
      "[800]\tcv_agg's valid auc: 0.876979 + 0.00774142\n",
      "[900]\tcv_agg's valid auc: 0.877075 + 0.00785427\n"
     ]
    },
    {
     "name": "stderr",
     "output_type": "stream",
     "text": [
      "regularization_factors, val_score: 0.879219:  95%|########################################################################################################################################################9        | 19/20 [04:53<00:18, 18.34s/it][I 2024-07-08 19:55:36,991] Trial 61 finished with value: 0.8772906350483217 and parameters: {'lambda_l1': 0.006449211770279934, 'lambda_l2': 8.35575730836422}. Best is trial 56 with value: 0.8792190948589833.\n",
      "regularization_factors, val_score: 0.879219:  95%|########################################################################################################################################################9        | 19/20 [04:53<00:18, 18.34s/it]"
     ]
    },
    {
     "name": "stdout",
     "output_type": "stream",
     "text": [
      "[1000]\tcv_agg's valid auc: 0.877291 + 0.00780056\n",
      "Did not meet early stopping. Best iteration is:\n",
      "[1000]\tcv_agg's valid auc: 0.877291 + 0.00780056\n",
      "Training until validation scores don't improve for 100 rounds\n",
      "[100]\tcv_agg's valid auc: 0.865432 + 0.0130565\n",
      "[200]\tcv_agg's valid auc: 0.871 + 0.0123068\n",
      "[300]\tcv_agg's valid auc: 0.873188 + 0.0114022\n",
      "[400]\tcv_agg's valid auc: 0.874232 + 0.0106766\n",
      "[500]\tcv_agg's valid auc: 0.874731 + 0.0105477\n",
      "[600]\tcv_agg's valid auc: 0.875105 + 0.0104105\n",
      "[700]\tcv_agg's valid auc: 0.875677 + 0.0104708\n",
      "[800]\tcv_agg's valid auc: 0.87579 + 0.0105825\n",
      "[900]\tcv_agg's valid auc: 0.87608 + 0.0103843\n"
     ]
    },
    {
     "name": "stderr",
     "output_type": "stream",
     "text": [
      "regularization_factors, val_score: 0.879219: 100%|#################################################################################################################################################################| 20/20 [05:16<00:00, 19.67s/it][I 2024-07-08 19:55:59,762] Trial 62 finished with value: 0.8761188890295245 and parameters: {'lambda_l1': 0.0025695233846955152, 'lambda_l2': 5.98834131461077}. Best is trial 56 with value: 0.8792190948589833.\n",
      "regularization_factors, val_score: 0.879219: 100%|#################################################################################################################################################################| 20/20 [05:16<00:00, 15.81s/it]\n"
     ]
    },
    {
     "name": "stdout",
     "output_type": "stream",
     "text": [
      "[1000]\tcv_agg's valid auc: 0.876026 + 0.0103789\n",
      "Did not meet early stopping. Best iteration is:\n",
      "[927]\tcv_agg's valid auc: 0.876119 + 0.0103876\n"
     ]
    },
    {
     "name": "stderr",
     "output_type": "stream",
     "text": [
      "min_child_samples, val_score: 0.879219:   0%|                                                                                                                                                                                | 0/5 [00:00<?, ?it/s]"
     ]
    },
    {
     "name": "stdout",
     "output_type": "stream",
     "text": [
      "Training until validation scores don't improve for 100 rounds\n",
      "[100]\tcv_agg's valid auc: 0.873587 + 0.0127\n",
      "[200]\tcv_agg's valid auc: 0.875842 + 0.0126143\n",
      "[300]\tcv_agg's valid auc: 0.876696 + 0.0120849\n",
      "[400]\tcv_agg's valid auc: 0.87678 + 0.0117927\n"
     ]
    },
    {
     "name": "stderr",
     "output_type": "stream",
     "text": [
      "min_child_samples, val_score: 0.879219:  20%|#################################6                                                                                                                                      | 1/5 [00:06<00:26,  6.62s/it][I 2024-07-08 19:56:06,388] Trial 63 finished with value: 0.8772039980838596 and parameters: {'min_child_samples': 100}. Best is trial 63 with value: 0.8772039980838596.\n",
      "min_child_samples, val_score: 0.879219:  20%|#################################6                                                                                                                                      | 1/5 [00:06<00:26,  6.62s/it]"
     ]
    },
    {
     "name": "stdout",
     "output_type": "stream",
     "text": [
      "Early stopping, best iteration is:\n",
      "[366]\tcv_agg's valid auc: 0.877204 + 0.0117231\n",
      "Training until validation scores don't improve for 100 rounds\n",
      "[100]\tcv_agg's valid auc: 0.869074 + 0.0120971\n",
      "[200]\tcv_agg's valid auc: 0.873199 + 0.0113427\n",
      "[300]\tcv_agg's valid auc: 0.873876 + 0.0110086\n",
      "[400]\tcv_agg's valid auc: 0.874744 + 0.0108218\n",
      "[500]\tcv_agg's valid auc: 0.875168 + 0.0109042\n",
      "[600]\tcv_agg's valid auc: 0.875649 + 0.0105421\n",
      "[700]\tcv_agg's valid auc: 0.87605 + 0.0104449\n",
      "[800]\tcv_agg's valid auc: 0.876198 + 0.0104226\n",
      "[900]\tcv_agg's valid auc: 0.876367 + 0.0103422\n"
     ]
    },
    {
     "name": "stderr",
     "output_type": "stream",
     "text": [
      "min_child_samples, val_score: 0.879219:  40%|###################################################################2                                                                                                    | 2/5 [00:26<00:43, 14.63s/it][I 2024-07-08 19:56:26,618] Trial 64 finished with value: 0.8765128813360322 and parameters: {'min_child_samples': 25}. Best is trial 63 with value: 0.8772039980838596.\n",
      "min_child_samples, val_score: 0.879219:  40%|###################################################################2                                                                                                    | 2/5 [00:26<00:43, 14.63s/it]"
     ]
    },
    {
     "name": "stdout",
     "output_type": "stream",
     "text": [
      "[1000]\tcv_agg's valid auc: 0.876491 + 0.0103167\n",
      "Did not meet early stopping. Best iteration is:\n",
      "[951]\tcv_agg's valid auc: 0.876513 + 0.0102595\n",
      "Training until validation scores don't improve for 100 rounds\n",
      "[100]\tcv_agg's valid auc: 0.867324 + 0.011463\n",
      "[200]\tcv_agg's valid auc: 0.873944 + 0.0105935\n",
      "[300]\tcv_agg's valid auc: 0.87551 + 0.0102587\n",
      "[400]\tcv_agg's valid auc: 0.876529 + 0.0103261\n",
      "[500]\tcv_agg's valid auc: 0.877196 + 0.0101384\n",
      "[600]\tcv_agg's valid auc: 0.877452 + 0.0103713\n",
      "[700]\tcv_agg's valid auc: 0.877789 + 0.0103425\n",
      "[800]\tcv_agg's valid auc: 0.877916 + 0.0103139\n",
      "[900]\tcv_agg's valid auc: 0.878018 + 0.0101984\n"
     ]
    },
    {
     "name": "stderr",
     "output_type": "stream",
     "text": [
      "min_child_samples, val_score: 0.879219:  60%|####################################################################################################8                                                                   | 3/5 [00:52<00:39, 19.62s/it][I 2024-07-08 19:56:52,177] Trial 65 finished with value: 0.8781579150740418 and parameters: {'min_child_samples': 5}. Best is trial 65 with value: 0.8781579150740418.\n",
      "min_child_samples, val_score: 0.879219:  60%|####################################################################################################8                                                                   | 3/5 [00:52<00:39, 19.62s/it]"
     ]
    },
    {
     "name": "stdout",
     "output_type": "stream",
     "text": [
      "[1000]\tcv_agg's valid auc: 0.878147 + 0.0102825\n",
      "Did not meet early stopping. Best iteration is:\n",
      "[998]\tcv_agg's valid auc: 0.878158 + 0.0102958\n",
      "Training until validation scores don't improve for 100 rounds\n",
      "[100]\tcv_agg's valid auc: 0.871826 + 0.0115321\n",
      "[200]\tcv_agg's valid auc: 0.875443 + 0.011782\n",
      "[300]\tcv_agg's valid auc: 0.876188 + 0.0112387\n",
      "[400]\tcv_agg's valid auc: 0.876482 + 0.01085\n",
      "[500]\tcv_agg's valid auc: 0.87682 + 0.0105647\n",
      "[600]\tcv_agg's valid auc: 0.877174 + 0.0107811\n",
      "[700]\tcv_agg's valid auc: 0.877451 + 0.0106206\n",
      "[800]\tcv_agg's valid auc: 0.877495 + 0.0106994\n",
      "[900]\tcv_agg's valid auc: 0.87766 + 0.0105924\n"
     ]
    },
    {
     "name": "stderr",
     "output_type": "stream",
     "text": [
      "min_child_samples, val_score: 0.879219:  80%|######################################################################################################################################4                                 | 4/5 [01:08<00:18, 18.34s/it][I 2024-07-08 19:57:08,556] Trial 66 finished with value: 0.8776903982086971 and parameters: {'min_child_samples': 50}. Best is trial 65 with value: 0.8781579150740418.\n",
      "min_child_samples, val_score: 0.879219:  80%|######################################################################################################################################4                                 | 4/5 [01:08<00:18, 18.34s/it]"
     ]
    },
    {
     "name": "stdout",
     "output_type": "stream",
     "text": [
      "Early stopping, best iteration is:\n",
      "[870]\tcv_agg's valid auc: 0.87769 + 0.01062\n",
      "Training until validation scores don't improve for 100 rounds\n",
      "[100]\tcv_agg's valid auc: 0.865075 + 0.0131926\n",
      "[200]\tcv_agg's valid auc: 0.871123 + 0.012056\n",
      "[300]\tcv_agg's valid auc: 0.873075 + 0.0120477\n",
      "[400]\tcv_agg's valid auc: 0.874315 + 0.0117379\n",
      "[500]\tcv_agg's valid auc: 0.874776 + 0.01149\n",
      "[600]\tcv_agg's valid auc: 0.875225 + 0.0117229\n",
      "[700]\tcv_agg's valid auc: 0.875528 + 0.0115853\n",
      "[800]\tcv_agg's valid auc: 0.875739 + 0.0115534\n",
      "[900]\tcv_agg's valid auc: 0.87594 + 0.0115768\n"
     ]
    },
    {
     "name": "stderr",
     "output_type": "stream",
     "text": [
      "min_child_samples, val_score: 0.879219: 100%|########################################################################################################################################################################| 5/5 [01:33<00:00, 20.63s/it][I 2024-07-08 19:57:33,248] Trial 67 finished with value: 0.8760964605648924 and parameters: {'min_child_samples': 10}. Best is trial 65 with value: 0.8781579150740418.\n",
      "min_child_samples, val_score: 0.879219: 100%|########################################################################################################################################################################| 5/5 [01:33<00:00, 18.70s/it]"
     ]
    },
    {
     "name": "stdout",
     "output_type": "stream",
     "text": [
      "[1000]\tcv_agg's valid auc: 0.876081 + 0.0115637\n",
      "Did not meet early stopping. Best iteration is:\n",
      "[995]\tcv_agg's valid auc: 0.876096 + 0.011554\n",
      "Best score: 0.8792190948589833\n",
      "Best params: {'objective': 'binary', 'metric': 'auc', 'verbosity': -1, 'boosting_type': 'gbdt', 'is_unbalance': True, 'feature_pre_filter': False, 'lambda_l1': 0.00011335671488733103, 'lambda_l2': 7.328707001226165, 'num_leaves': 206, 'feature_fraction': 0.58, 'bagging_fraction': 1.0, 'bagging_freq': 0, 'min_child_samples': 20}\n",
      "  Params: \n",
      "    objective: binary\n",
      "    metric: auc\n",
      "    verbosity: -1\n",
      "    boosting_type: gbdt\n",
      "    is_unbalance: True\n",
      "    feature_pre_filter: False\n",
      "    lambda_l1: 0.00011335671488733103\n",
      "    lambda_l2: 7.328707001226165\n",
      "    num_leaves: 206\n",
      "    feature_fraction: 0.58\n",
      "    bagging_fraction: 1.0\n",
      "    bagging_freq: 0\n",
      "    min_child_samples: 20\n"
     ]
    },
    {
     "name": "stderr",
     "output_type": "stream",
     "text": [
      "\n"
     ]
    }
   ],
   "source": [
    "import optuna.integration.lightgbm as lgb\n",
    "\n",
    "from lightgbm import early_stopping\n",
    "from lightgbm import log_evaluation\n",
    "import sklearn.datasets\n",
    "from sklearn.model_selection import KFold\n",
    "\n",
    "\n",
    "if __name__ == \"__main__\":\n",
    "    data = outliers_data_x\n",
    "    target = outliers_data_y\n",
    "    dtrain = lgb.Dataset(data, label=target)\n",
    "\n",
    "    params = {\n",
    "        \"objective\": \"binary\",\n",
    "        \"metric\": \"auc\",\n",
    "        \"verbosity\": -1,\n",
    "        \"boosting_type\": \"gbdt\",\n",
    "        \"is_unbalance\": True,\n",
    "    }\n",
    "\n",
    "    tuner = lgb.LightGBMTunerCV(\n",
    "        params,\n",
    "        dtrain,\n",
    "        folds=KFold(n_splits=3),\n",
    "        callbacks=[early_stopping(100), log_evaluation(100)],\n",
    "    )\n",
    "\n",
    "    tuner.run()\n",
    "\n",
    "    print(\"Best score:\", tuner.best_score)\n",
    "    best_params = tuner.best_params\n",
    "    print(\"Best params:\", best_params)\n",
    "    print(\"  Params: \")\n",
    "    for key, value in best_params.items():\n",
    "        print(\"    {}: {}\".format(key, value))"
   ]
  },
  {
   "cell_type": "raw",
   "id": "8ebd1f63-c01e-41e0-9a23-ef2c943470a2",
   "metadata": {},
   "source": [
    " Params: \n",
    "    objective: binary\n",
    "    metric: auc\n",
    "    verbosity: -1\n",
    "    boosting_type: gbdt\n",
    "    is_unbalance: True\n",
    "    feature_pre_filter: False\n",
    "    lambda_l1: 0.00011335671488733103\n",
    "    lambda_l2: 7.328707001226165\n",
    "    num_leaves: 206\n",
    "    feature_fraction: 0.58\n",
    "    bagging_fraction: 1.0\n",
    "    bagging_freq: 0\n",
    "    min_child_samples: 20"
   ]
  },
  {
   "cell_type": "code",
   "execution_count": 15,
   "id": "acbaf0fd-9244-4a0f-838c-149291b82c17",
   "metadata": {},
   "outputs": [],
   "source": [
    "import lightgbm as lgbm\n",
    "model_lgbm = lgbm.LGBMClassifier(\n",
    "    objective='binary',\n",
    "    metric='auc',\n",
    "    verbosity=-1,\n",
    "    boosting_type='gbdt',\n",
    "    feature_pre_filter=False,\n",
    "    lambda_l1=0.00011335671488733103,\n",
    "    lambda_l2=7.328707001226165,\n",
    "    num_leaves=206,\n",
    "    feature_fraction=0.58,\n",
    "    bagging_fraction=1.0,\n",
    "    bagging_freq=0,\n",
    "    min_child_samples=20,\n",
    "    random_state=42,\n",
    "    is_unbalance=True,\n",
    "    \n",
    ")"
   ]
  },
  {
   "cell_type": "code",
   "execution_count": 16,
   "id": "2431acb2-48ae-4a13-815d-c03794f5f57f",
   "metadata": {},
   "outputs": [
    {
     "data": {
      "image/png": "[encoded data removed]",
      "text/plain": [
       "<Figure size 1200x800 with 1 Axes>"
      ]
     },
     "metadata": {},
     "output_type": "display_data"
    },
    {
     "data": {
      "text/plain": [
       "defaultdict(collections.OrderedDict,\n",
       "            {'valid_0': OrderedDict([('auc', 0.8776658595641647)])})"
      ]
     },
     "execution_count": 16,
     "metadata": {},
     "output_type": "execute_result"
    }
   ],
   "source": [
    "X = outliers_data_x\n",
    "y = outliers_data_y\n",
    "\n",
    "train_X_cv, test_X_cv, train_y_cv, test_y_cv = train_test_split(X, y, train_size=0.8, random_state=42)\n",
    "\n",
    "model_lgbm.fit(train_X_cv, train_y_cv, eval_set=(test_X_cv, test_y_cv))\n",
    "\n",
    "\n",
    "# Get feature importances\n",
    "feature_importances = model_lgbm.feature_importances_\n",
    "\n",
    "# Create a pandas dataframe for easier visualization\n",
    "importance_df = pd.DataFrame({\n",
    "    'Features': train_X_cv.columns,\n",
    "    'Importance': feature_importances\n",
    "})\n",
    "\n",
    "# Sort the dataframe based on the feature importances\n",
    "importance_df = importance_df.sort_values(by='Importance', ascending=False)\n",
    "\n",
    "# Plot the feature importances\n",
    "plt.figure(figsize=(12, 8))\n",
    "plt.barh(importance_df['Features'], importance_df['Importance'])\n",
    "plt.xlabel('Importance')\n",
    "plt.ylabel('Features')\n",
    "plt.title('Feature Importances')\n",
    "plt.gca().invert_yaxis()\n",
    "plt.show()\n",
    "model_lgbm.best_score_"
   ]
  },
  {
   "cell_type": "code",
   "execution_count": 17,
   "id": "3664b5a7-ce93-46d6-bc91-f8b978616b0d",
   "metadata": {},
   "outputs": [
    {
     "name": "stdout",
     "output_type": "stream",
     "text": [
      "0.9509132420091324\n",
      "0.8776658595641647\n",
      "              precision    recall  f1-score   support\n",
      "\n",
      "           0       0.96      0.99      0.97      4130\n",
      "           1       0.65      0.30      0.41       250\n",
      "\n",
      "    accuracy                           0.95      4380\n",
      "   macro avg       0.81      0.64      0.69      4380\n",
      "weighted avg       0.94      0.95      0.94      4380\n",
      "\n"
     ]
    }
   ],
   "source": [
    "y_test_pred_dr = model_lgbm.predict_proba(test_X_cv)\n",
    "print(accuracy_score(y_true=test_y_cv, y_pred=y_test_pred_dr[:,1].round()))\n",
    "print(roc_auc_score(y_true=test_y_cv, y_score=y_test_pred_dr[:,1], average=\"weighted\"))\n",
    "print(classification_report(test_y_cv, y_test_pred_dr[:,1].round()))"
   ]
  },
  {
   "cell_type": "code",
   "execution_count": 18,
   "id": "b9ac089a-5c94-4fc4-a574-7888f472e0b0",
   "metadata": {},
   "outputs": [
    {
     "data": {
      "text/html": [
       "wandb version 0.17.4 is available!  To upgrade, please run:\n",
       " $ pip install wandb --upgrade"
      ],
      "text/plain": [
       "<IPython.core.display.HTML object>"
      ]
     },
     "metadata": {},
     "output_type": "display_data"
    },
    {
     "data": {
      "text/html": [
       "Tracking run with wandb version 0.16.5"
      ],
      "text/plain": [
       "<IPython.core.display.HTML object>"
      ]
     },
     "metadata": {},
     "output_type": "display_data"
    },
    {
     "data": {
      "text/html": [
       "Run data is saved locally in <code>C:\\Users\\realn\\PycharmProjects\\ML_training_course\\07_ITMO_FC\\EDA\\wandb\\run-20240708_195927-xovbjgox</code>"
      ],
      "text/plain": [
       "<IPython.core.display.HTML object>"
      ]
     },
     "metadata": {},
     "output_type": "display_data"
    },
    {
     "data": {
      "text/html": [
       "Syncing run <strong><a href='https://wandb.ai/qesh-squad/Makarov_mfdp_unit_5/runs/xovbjgox/workspace' target=\"_blank\">exp_7.1_lgbm_tuned_balanced</a></strong> to <a href='https://wandb.ai/qesh-squad/Makarov_mfdp_unit_5' target=\"_blank\">Weights & Biases</a> (<a href='https://wandb.me/run' target=\"_blank\">docs</a>)<br/>"
      ],
      "text/plain": [
       "<IPython.core.display.HTML object>"
      ]
     },
     "metadata": {},
     "output_type": "display_data"
    },
    {
     "data": {
      "text/html": [
       " View project at <a href='https://wandb.ai/qesh-squad/Makarov_mfdp_unit_5' target=\"_blank\">https://wandb.ai/qesh-squad/Makarov_mfdp_unit_5</a>"
      ],
      "text/plain": [
       "<IPython.core.display.HTML object>"
      ]
     },
     "metadata": {},
     "output_type": "display_data"
    },
    {
     "data": {
      "text/html": [
       " View run at <a href='https://wandb.ai/qesh-squad/Makarov_mfdp_unit_5/runs/xovbjgox/workspace' target=\"_blank\">https://wandb.ai/qesh-squad/Makarov_mfdp_unit_5/runs/xovbjgox/workspace</a>"
      ],
      "text/plain": [
       "<IPython.core.display.HTML object>"
      ]
     },
     "metadata": {},
     "output_type": "display_data"
    },
    {
     "data": {
      "application/vnd.jupyter.widget-view+json": {
       "model_id": "",
       "version_major": 2,
       "version_minor": 0
      },
      "text/plain": [
       "VBox(children=(Label(value='0.025 MB of 0.025 MB uploaded\\r'), FloatProgress(value=1.0, max=1.0)))"
      ]
     },
     "metadata": {},
     "output_type": "display_data"
    },
    {
     "data": {
      "text/html": [
       "<style>\n",
       "    table.wandb td:nth-child(1) { padding: 0 10px; text-align: left ; width: auto;} td:nth-child(2) {text-align: left ; width: 100%}\n",
       "    .wandb-row { display: flex; flex-direction: row; flex-wrap: wrap; justify-content: flex-start; width: 100% }\n",
       "    .wandb-col { display: flex; flex-direction: column; flex-basis: 100%; flex: 1; padding: 10px; }\n",
       "    </style>\n",
       "<div class=\"wandb-row\"><div class=\"wandb-col\"><h3>Run history:</h3><br/><table class=\"wandb\"><tr><td>accuracy_score</td><td>▁</td></tr><tr><td>f1_score_weighted</td><td>▁</td></tr><tr><td>gini</td><td>▁</td></tr><tr><td>precision_weighted</td><td>▁</td></tr><tr><td>roc_auc_score</td><td>▁</td></tr></table><br/></div><div class=\"wandb-col\"><h3>Run summary:</h3><br/><table class=\"wandb\"><tr><td>accuracy_score</td><td>0.95091</td></tr><tr><td>f1_score_weighted</td><td>0.94205</td></tr><tr><td>gini</td><td>0.75533</td></tr><tr><td>precision_weighted</td><td>0.94141</td></tr><tr><td>roc_auc_score</td><td>0.87767</td></tr></table><br/></div></div>"
      ],
      "text/plain": [
       "<IPython.core.display.HTML object>"
      ]
     },
     "metadata": {},
     "output_type": "display_data"
    },
    {
     "data": {
      "text/html": [
       " View run <strong style=\"color:#cdcd00\">exp_7.1_lgbm_tuned_balanced</strong> at: <a href='https://wandb.ai/qesh-squad/Makarov_mfdp_unit_5/runs/xovbjgox/workspace' target=\"_blank\">https://wandb.ai/qesh-squad/Makarov_mfdp_unit_5/runs/xovbjgox/workspace</a><br/>Synced 4 W&B file(s), 1 media file(s), 1 artifact file(s) and 0 other file(s)"
      ],
      "text/plain": [
       "<IPython.core.display.HTML object>"
      ]
     },
     "metadata": {},
     "output_type": "display_data"
    },
    {
     "data": {
      "text/html": [
       "Find logs at: <code>.\\wandb\\run-20240708_195927-xovbjgox\\logs</code>"
      ],
      "text/plain": [
       "<IPython.core.display.HTML object>"
      ]
     },
     "metadata": {},
     "output_type": "display_data"
    }
   ],
   "source": [
    "y_pred = y_test_pred_dr[:,1]\n",
    "y = test_y_cv\n",
    "\n",
    "wandb.init(\n",
    "        project=project_name, name=exp_name+\"7.1\"+\"_lgbm_tuned_balanced\"\n",
    "    )  # Инициализация эксперимента, project - название проекта\n",
    "wandb.log(\n",
    "    {\n",
    "        \"accuracy_score\": accuracy_score(y_true=y, y_pred=y_pred.round()),\n",
    "        \"f1_score_weighted\": f1_score(y_true=y, y_pred=y_pred.round(), average=\"weighted\"),\n",
    "        \"precision_weighted\": precision_score(y_true=y, y_pred=y_pred.round(), average=\"weighted\"),\n",
    "        \"roc_auc_score\": roc_auc_score(y_true=y, y_score=y_pred, average=\"weighted\"),\n",
    "        \"gini\": 2 * roc_auc_score(y_true=y, y_score=y_pred, average=\"weighted\") - 1\n",
    "    }\n",
    ")\n",
    "wandb.sklearn.plot_roc(y_true = y, y_probas = y_test_pred_dr)\n",
    "#wandb.sklearn.plot_class_proportions(y_train, y_test)\n",
    "wandb.finish()"
   ]
  },
  {
   "cell_type": "markdown",
   "id": "ae05b5b7-1495-4222-a1c2-b683add26229",
   "metadata": {},
   "source": [
    "### Выводы эксперимента 7 и блока в целом\n",
    "Итого лучшие результаты:\n",
    "\n",
    "Отфильтрованные данные - 2_best_features_permutation.csv. Циклический катбуст для отбора признаков повысил интерпретируемость и поддерживаемость модели за счёт снижения порядка фич - 32 против 143. Признаки построены методами описательных статистик с удалением выбросов через IsolationForest.\n",
    "\n",
    "Модель - lightGBM, затюненная на CV с дисбалансом классов. Точность модели и взвешенная F-мера у такого тюна лучше, чем у первого в данном ноутбуке, поэтому, в качестве финальной модели, берётся результат последнего эксперимента."
   ]
  },
  {
   "cell_type": "code",
   "execution_count": 26,
   "id": "660a315a-a934-498c-a568-2c59275008b1",
   "metadata": {},
   "outputs": [
    {
     "data": {
      "text/plain": [
       "['lgb.pkl']"
      ]
     },
     "execution_count": 26,
     "metadata": {},
     "output_type": "execute_result"
    }
   ],
   "source": [
    "# Данные для демо, на которых замерялось качество модели\n",
    "test_X_cv.to_csv(\"07_best_demo_data.csv\", index=False)\n",
    "\n",
    "# Лучшая модель\n",
    "joblib.dump(model_lgbm, 'lgb.pkl')\n"
   ]
  },
  {
   "cell_type": "code",
   "execution_count": 7,
   "id": "f8560aee-cfe9-46fd-ae94-94c51076c51a",
   "metadata": {},
   "outputs": [],
   "source": [
    "X = outliers_data_x\n",
    "y = outliers_data_y\n",
    "train_X_cv, test_X_cv, train_y_cv, test_y_cv = train_test_split(X, y, train_size=0.8, random_state=42)"
   ]
  },
  {
   "cell_type": "code",
   "execution_count": 8,
   "id": "8a2e896e-bb80-4d85-b308-b88776f13dc9",
   "metadata": {},
   "outputs": [
    {
     "name": "stdout",
     "output_type": "stream",
     "text": [
      "0.9509132420091324\n",
      "0.8776658595641647\n",
      "              precision    recall  f1-score   support\n",
      "\n",
      "           0       0.96      0.99      0.97      4130\n",
      "           1       0.65      0.30      0.41       250\n",
      "\n",
      "    accuracy                           0.95      4380\n",
      "   macro avg       0.81      0.64      0.69      4380\n",
      "weighted avg       0.94      0.95      0.94      4380\n",
      "\n"
     ]
    }
   ],
   "source": [
    "# load model\n",
    "demo_data = pd.read_csv(\"07_best_demo_data.csv\")\n",
    "gbm_pickle = joblib.load('lgb.pkl')\n",
    "y_test_pred_dr = gbm_pickle.predict_proba(demo_data)\n",
    "print(accuracy_score(y_true=test_y_cv, y_pred=y_test_pred_dr[:,1].round()))\n",
    "print(roc_auc_score(y_true=test_y_cv, y_score=y_test_pred_dr[:,1], average=\"weighted\"))\n",
    "print(classification_report(test_y_cv, y_test_pred_dr[:,1].round()))"
   ]
  }
 ],
 "metadata": {
  "kernelspec": {
   "display_name": "Python 3 (ipykernel)",
   "language": "python",
   "name": "python3"
  },
  "language_info": {
   "codemirror_mode": {
    "name": "ipython",
    "version": 3
   },
   "file_extension": ".py",
   "mimetype": "text/x-python",
   "name": "python",
   "nbconvert_exporter": "python",
   "pygments_lexer": "ipython3",
   "version": "3.9.13"
  }
 },
 "nbformat": 4,
 "nbformat_minor": 5
}
